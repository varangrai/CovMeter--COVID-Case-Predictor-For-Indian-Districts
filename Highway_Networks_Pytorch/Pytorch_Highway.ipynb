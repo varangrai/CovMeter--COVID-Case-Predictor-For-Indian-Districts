{
  "nbformat": 4,
  "nbformat_minor": 0,
  "metadata": {
    "colab": {
      "name": "DST_Highway .ipynb",
      "provenance": [],
      "collapsed_sections": [
        "GhnJUnnp74b2",
        "EHNiLnoI8CbY",
        "BRptHKEDSdpm",
        "pAdBPnMlSdqG",
        "_Hda3-4ISdqS",
        "4dSGoQ1nSdqU",
        "f-izh0VKSdqW",
        "oxQxgtt8DfTd",
        "ow_uLMDWDfT-"
      ]
    },
    "kernelspec": {
      "name": "python3",
      "display_name": "Python 3"
    },
    "accelerator": "GPU"
  },
  "cells": [
    {
      "cell_type": "markdown",
      "metadata": {
        "id": "GhnJUnnp74b2"
      },
      "source": [
        "# Loading and Mounting\n",
        "\n"
      ]
    },
    {
      "cell_type": "code",
      "metadata": {
        "colab": {
          "base_uri": "https://localhost:8080/"
        },
        "id": "GpxYGuloWn3c",
        "outputId": "73969495-4da6-44c8-81d3-5c65cb9a1fe5"
      },
      "source": [
        "!nvidia-smi"
      ],
      "execution_count": null,
      "outputs": [
        {
          "output_type": "stream",
          "text": [
            "Tue May  4 07:14:26 2021       \n",
            "+-----------------------------------------------------------------------------+\n",
            "| NVIDIA-SMI 465.19.01    Driver Version: 460.32.03    CUDA Version: 11.2     |\n",
            "|-------------------------------+----------------------+----------------------+\n",
            "| GPU  Name        Persistence-M| Bus-Id        Disp.A | Volatile Uncorr. ECC |\n",
            "| Fan  Temp  Perf  Pwr:Usage/Cap|         Memory-Usage | GPU-Util  Compute M. |\n",
            "|                               |                      |               MIG M. |\n",
            "|===============================+======================+======================|\n",
            "|   0  Tesla P100-PCIE...  Off  | 00000000:00:04.0 Off |                    0 |\n",
            "| N/A   42C    P0    28W / 250W |      0MiB / 16280MiB |      0%      Default |\n",
            "|                               |                      |                  N/A |\n",
            "+-------------------------------+----------------------+----------------------+\n",
            "                                                                               \n",
            "+-----------------------------------------------------------------------------+\n",
            "| Processes:                                                                  |\n",
            "|  GPU   GI   CI        PID   Type   Process name                  GPU Memory |\n",
            "|        ID   ID                                                   Usage      |\n",
            "|=============================================================================|\n",
            "|  No running processes found                                                 |\n",
            "+-----------------------------------------------------------------------------+\n"
          ],
          "name": "stdout"
        }
      ]
    },
    {
      "cell_type": "code",
      "metadata": {
        "id": "5wTEXTBAHjnN",
        "colab": {
          "base_uri": "https://localhost:8080/"
        },
        "outputId": "924100c3-8d0d-4946-c51f-6f4cb8cd1997"
      },
      "source": [
        "from google.colab import drive\n",
        "drive.mount('/gdrive')"
      ],
      "execution_count": null,
      "outputs": [
        {
          "output_type": "stream",
          "text": [
            "Mounted at /gdrive\n"
          ],
          "name": "stdout"
        }
      ]
    },
    {
      "cell_type": "code",
      "metadata": {
        "id": "NYCdJ4Zp84rs"
      },
      "source": [
        "import torch\n",
        "import torch.nn as nn \n",
        "import torch.optim as opt\n",
        "import torch.nn.functional as F\n",
        "from torch.autograd import Variable\n",
        "\n",
        "import numpy as np\n",
        "import pandas as pd\n",
        "import matplotlib.pyplot as plt\n",
        "import random"
      ],
      "execution_count": null,
      "outputs": []
    },
    {
      "cell_type": "markdown",
      "metadata": {
        "id": "EHNiLnoI8CbY"
      },
      "source": [
        "# Data"
      ]
    },
    {
      "cell_type": "code",
      "metadata": {
        "id": "rqlO1hmRF77r"
      },
      "source": [
        "# Active State dictionary\n",
        "# Feature: [start, end]\n",
        "split = {\n",
        "            'Andhra_Pradesh':[0,13],\n",
        "            'Arunachal_Pradesh':[13,38],\n",
        "            'Assam':[38,71],\n",
        "            'Bihar':[71,109],\n",
        "            'Chattisgarh':[109,137],\n",
        "            'Goa':[137,139],\n",
        "            'Gujarat':[139,172],\n",
        "            'Haryana':[172,194],\n",
        "            'Himanchal_Pradesh':[194,206],\n",
        "            'Jharkhand':[206,230],\n",
        "            'Karnataka':[230,260],\n",
        "            'Kerala':[260,274],\n",
        "            'Madhya_Pradesh':[274,329],\n",
        "            'Maharashtra':[329,365],\n",
        "            'Manipur':[365,381],\n",
        "            'Meghalaya':[381,392],\n",
        "            'Mizoram':[392,400],\n",
        "            'Nagaland':[400,412],\n",
        "            'Odisha':[412,442],\n",
        "            'Punjab':[442,464],\n",
        "            'Rajasthan':[464,497],\n",
        "            'Sikkim':[497,501],\n",
        "            'Tamil_Nadu':[501,539],\n",
        "            'Telangana':[539,572],\n",
        "            'Tripura':[572,580],\n",
        "            'Uttar_Pradesh':[580,655],\n",
        "            'Uttarakhand':[655,668],\n",
        "            'West_Bengal':[668,691],\n",
        "            'Andaman':[691,694],\n",
        "            'Chandigarh':[694,695],\n",
        "            'Daman':[695,698],\n",
        "            'Jammu':[698,718],\n",
        "            'Ladakh':[718,720],\n",
        "            'Lakshadweep':[720,721],\n",
        "            'Delhi':[721,732],\n",
        "            'Puducherry':[732,736]\n",
        "          }\n",
        "death_margin = 736\n",
        "recover_margin = 1472"
      ],
      "execution_count": null,
      "outputs": []
    },
    {
      "cell_type": "code",
      "metadata": {
        "id": "pct4vwGb-ae6"
      },
      "source": [
        "data = np.load('/gdrive/MyDrive/Trip-AID/3000varDataset.npy')"
      ],
      "execution_count": null,
      "outputs": []
    },
    {
      "cell_type": "code",
      "metadata": {
        "id": "EwDIcJld-f0o"
      },
      "source": [
        "data = np.transpose(data,(1,0))"
      ],
      "execution_count": null,
      "outputs": []
    },
    {
      "cell_type": "code",
      "metadata": {
        "colab": {
          "base_uri": "https://localhost:8080/"
        },
        "id": "SusK0nD8zTXd",
        "outputId": "2aafc00e-74f1-4997-fba8-4067cead4433"
      },
      "source": [
        ""
      ],
      "execution_count": null,
      "outputs": [
        {
          "output_type": "execute_result",
          "data": {
            "text/plain": [
              "(357, 2944)"
            ]
          },
          "metadata": {
            "tags": []
          },
          "execution_count": 7
        }
      ]
    },
    {
      "cell_type": "code",
      "metadata": {
        "id": "sbYouXJ0-1B4"
      },
      "source": [
        "def Dataset(series,window=7,future=7):\n",
        "  X, y = list(), list()\n",
        "  for window_start in range(len(series)):\n",
        "    past_end = window_start + window\n",
        "    future_end = past_end + future\n",
        "    if future_end > len(series):\n",
        "      break\n",
        "    _past, _future = series[window_start:past_end, :], series[past_end:future_end, :]\n",
        "    X.append(_past)\n",
        "    y.append(_future)\n",
        "  return np.array(X), np.array(y)"
      ],
      "execution_count": null,
      "outputs": []
    },
    {
      "cell_type": "code",
      "metadata": {
        "colab": {
          "base_uri": "https://localhost:8080/"
        },
        "id": "zyI0G_VRh13d",
        "outputId": "e6df5972-9204-4abc-c550-e7e8a925a69b"
      },
      "source": [
        "data.shape\n",
        "plt.plot(data[:,444],label = 'Actual')\n",
        "plt.show"
      ],
      "execution_count": null,
      "outputs": [
        {
          "output_type": "execute_result",
          "data": {
            "text/plain": [
              "<function matplotlib.pyplot.show>"
            ]
          },
          "metadata": {
            "tags": []
          },
          "execution_count": 9
        },
        {
          "output_type": "display_data",
          "data": {
            "image/png": "[encoded data removed]",
            "text/plain": [
              "<Figure size 432x288 with 1 Axes>"
            ]
          },
          "metadata": {
            "tags": [],
            "needs_background": "light"
          }
        }
      ]
    },
    {
      "cell_type": "code",
      "metadata": {
        "id": "h_GYZ50gb-kw"
      },
      "source": [
        "data = data[75:]"
      ],
      "execution_count": null,
      "outputs": []
    },
    {
      "cell_type": "code",
      "metadata": {
        "id": "NSduWkHRjN2u"
      },
      "source": [
        "ds = data[:,split['Maharashtra'][0]:split['Maharashtra'][1]]"
      ],
      "execution_count": null,
      "outputs": []
    },
    {
      "cell_type": "code",
      "metadata": {
        "colab": {
          "base_uri": "https://localhost:8080/"
        },
        "id": "BIXmLfw7W4yv",
        "outputId": "2fdcf553-d58f-4663-e76b-9652b8c8815b"
      },
      "source": [
        "ds.shape"
      ],
      "execution_count": null,
      "outputs": [
        {
          "output_type": "execute_result",
          "data": {
            "text/plain": [
              "(282, 36)"
            ]
          },
          "metadata": {
            "tags": []
          },
          "execution_count": 12
        }
      ]
    },
    {
      "cell_type": "code",
      "metadata": {
        "colab": {
          "base_uri": "https://localhost:8080/"
        },
        "id": "C5u6LG4oj6XH",
        "outputId": "f82d879d-00ce-4102-9fde-6e205ccfcd2e"
      },
      "source": [
        "from sklearn.preprocessing import MinMaxScaler\n",
        "\n",
        "scalers = {}\n",
        "\n",
        "for i in range(ds.shape[1]):\n",
        "  scale = MinMaxScaler(feature_range=(0,1))\n",
        "  s = scale.fit_transform(ds[:,i].reshape(-1,1))\n",
        "  ds[:,i] = s.reshape(len(ds))\n",
        "  scalers['scaler_'+ str(i)] = scale\n",
        "len(scalers)"
      ],
      "execution_count": null,
      "outputs": [
        {
          "output_type": "execute_result",
          "data": {
            "text/plain": [
              "36"
            ]
          },
          "metadata": {
            "tags": []
          },
          "execution_count": 13
        }
      ]
    },
    {
      "cell_type": "code",
      "metadata": {
        "colab": {
          "base_uri": "https://localhost:8080/"
        },
        "id": "XYVWVkbWiy7t",
        "outputId": "e3e653fa-d804-4d53-c27a-4eca80ae5dc5"
      },
      "source": [
        "window = 14\n",
        "future = 7\n",
        "num_features = ds.shape[1]\n",
        "\n",
        "X_ds, y_ds = Dataset(ds,window,future)\n",
        "print(X_ds.shape,\",\",y_ds.shape)"
      ],
      "execution_count": null,
      "outputs": [
        {
          "output_type": "stream",
          "text": [
            "(262, 14, 36) , (262, 7, 36)\n"
          ],
          "name": "stdout"
        }
      ]
    },
    {
      "cell_type": "code",
      "metadata": {
        "colab": {
          "base_uri": "https://localhost:8080/"
        },
        "id": "B4pHtm9lpiQ0",
        "outputId": "295f865f-25cb-4d0e-c882-b3ffc2342fd1"
      },
      "source": [
        "def seqSplit(data, label, split):\n",
        "  '''\n",
        "  Windowed data of shape: (Num_Samples, Window, Features)\n",
        "  '''\n",
        "  X_train = []\n",
        "  X_test = []\n",
        "  y_train = []\n",
        "  y_test = []\n",
        "  for i in range(data.shape[0]):\n",
        "    _data = data[i,:,:]\n",
        "    _label = label[i,:,:]\n",
        "    if i % split == 0:\n",
        "      X_test.append(_data)\n",
        "      y_test.append(_label)\n",
        "    else:\n",
        "      X_train.append(_data)\n",
        "      y_train.append(_label)\n",
        "  return np.asarray(X_train), np.asarray(X_test), np.asarray(y_train), np.asarray(y_test)\n",
        "\n",
        "X_train, X_test, y_train, y_test = seqSplit(X_ds, y_ds, 4)\n",
        "\n",
        "print(X_train.shape,y_train.shape)\n",
        "print(X_test.shape,y_test.shape)"
      ],
      "execution_count": null,
      "outputs": [
        {
          "output_type": "stream",
          "text": [
            "(196, 14, 36) (196, 7, 36)\n",
            "(66, 14, 36) (66, 7, 36)\n"
          ],
          "name": "stdout"
        }
      ]
    },
    {
      "cell_type": "code",
      "metadata": {
        "id": "TMfnaufvkJwJ"
      },
      "source": [
        "# from sklearn.model_selection import train_test_split\n",
        "# X_train, X_test, y_train, y_test = train_test_split(X_ds, y_ds, test_size=0.2, random_state=125678)\n",
        "\n",
        "# print(X_train.shape,\",\",y_train.shape)\n",
        "# print(X_test.shape,\",\",y_test.shape)"
      ],
      "execution_count": null,
      "outputs": []
    },
    {
      "cell_type": "code",
      "metadata": {
        "id": "13Oqf75gJFTU"
      },
      "source": [
        "# ctg = int(data.shape[1]/4) \n",
        "\n",
        "# split_time = 200\n",
        "# train, test = data[:split_time,:13], data[split_time:,:13]\n",
        "# print(train.shape)\n",
        "# print(test.shape)\n",
        "\n",
        "# from sklearn.preprocessing import MinMaxScaler\n",
        "\n",
        "# scalers = {}\n",
        "# for i in range(train.shape[1]):\n",
        "#   scale = MinMaxScaler(feature_range=(0,1))\n",
        "#   s = scale.fit_transform(train[:,i].reshape(-1,1))\n",
        "#   train[:,i] = s.reshape(len(train))\n",
        "#   scalers['scaler_'+ str(i)] = scale\n",
        "  \n",
        "# for i in range(train.shape[1]):\n",
        "#   scale = scalers['scaler_'+ str(i)]\n",
        "#   s = scale.transform(test[:,i].reshape(-1,1))\n",
        "#   test[:,i] = s.reshape(len(test))\n",
        "\n",
        "# window = 14\n",
        "# future = 7\n",
        "# num_features = data.shape[1]\n",
        "\n",
        "# X_train, y_train = Dataset(train,window,future)\n",
        "# X_test, y_test = Dataset(test,window,future)\n",
        "\n",
        "# print(X_train.shape,y_train.shape)\n",
        "# print(X_test.shape,y_test.shape)"
      ],
      "execution_count": null,
      "outputs": []
    },
    {
      "cell_type": "code",
      "metadata": {
        "id": "1I5NQ-YjFB85"
      },
      "source": [
        "X_train = torch.from_numpy(X_train.astype('float32'))\n",
        "X_test = torch.from_numpy(X_test.astype('float32'))\n",
        "y_train = torch.from_numpy(y_train.astype('float32'))\n",
        "y_test = torch.from_numpy(y_test.astype('float32'))"
      ],
      "execution_count": null,
      "outputs": []
    },
    {
      "cell_type": "code",
      "metadata": {
        "id": "qIF0Zsh-gxlq"
      },
      "source": [
        "DEVICE = torch.device('cuda' if torch.cuda.is_available() else 'cpu')"
      ],
      "execution_count": null,
      "outputs": []
    },
    {
      "cell_type": "code",
      "metadata": {
        "id": "mcLbXzJhgzjL"
      },
      "source": [
        "X_train = X_train.to(DEVICE)\n",
        "X_test = X_test.to(DEVICE)\n",
        "y_train = y_train.to(DEVICE)\n",
        "y_test = y_test.to(DEVICE)"
      ],
      "execution_count": null,
      "outputs": []
    },
    {
      "cell_type": "code",
      "metadata": {
        "colab": {
          "base_uri": "https://localhost:8080/"
        },
        "id": "XUnspetupqIo",
        "outputId": "64b63ffe-7a52-472d-9c06-1f452a874c31"
      },
      "source": [
        "torch.autograd.set_detect_anomaly(True) "
      ],
      "execution_count": null,
      "outputs": [
        {
          "output_type": "execute_result",
          "data": {
            "text/plain": [
              "<torch.autograd.anomaly_mode.set_detect_anomaly at 0x7f9cc74cffd0>"
            ]
          },
          "metadata": {
            "tags": []
          },
          "execution_count": 21
        }
      ]
    },
    {
      "cell_type": "markdown",
      "metadata": {
        "id": "BRptHKEDSdpm"
      },
      "source": [
        "# Simple RHN Model"
      ]
    },
    {
      "cell_type": "markdown",
      "metadata": {
        "id": "pAdBPnMlSdqG"
      },
      "source": [
        "## Model Code"
      ]
    },
    {
      "cell_type": "code",
      "metadata": {
        "id": "QNGZF-zxSdqI"
      },
      "source": [
        "def mean_absolute_percentage_error(y_true, y_pred):\n",
        "    y_true, y_pred = np.array(y_true), np.array(y_pred)\n",
        "    return np.mean(np.abs((y_true - y_pred) / (y_true + 1e-8))) * 100"
      ],
      "execution_count": null,
      "outputs": []
    },
    {
      "cell_type": "code",
      "metadata": {
        "id": "9HMgGMxXSdqJ"
      },
      "source": [
        "import torch\n",
        "import torch.nn as nn\n",
        "import torch.jit as jit\n",
        "from typing import List\n",
        "from torch import Tensor\n",
        "\n",
        "\n",
        "class RHNCell(nn.Module):\n",
        "    __constants__ = ['nb_rhn_layers', 'drop_prob', 'hidden_dim']\n",
        "\n",
        "    def __init__(self, input_dim, hidden_dim, nb_rhn_layers, drop_prob):\n",
        "        super(RHNCell, self).__init__()\n",
        "        self.input_dim = input_dim\n",
        "        self.hidden_dim = hidden_dim\n",
        "        self.nb_rhn_layers = nb_rhn_layers\n",
        "        self.drop_prob = drop_prob\n",
        "\n",
        "        self.drop_layer = nn.Dropout(drop_prob)\n",
        "        self.input_fc = nn.Linear(input_dim, 2 * hidden_dim)\n",
        "        self.first_fc_layer = nn.Linear(hidden_dim, 2 * hidden_dim)\n",
        "        self.fc_layers = nn.ModuleList([nn.Linear(hidden_dim, 2 * hidden_dim) for _ in range(nb_rhn_layers-1)])\n",
        "\n",
        "\n",
        "    def highwayGate(self, hidden_states, s_t_l_minus_1):\n",
        "        h, t = torch.split(hidden_states, self.hidden_dim, 1)\n",
        "        h, t = torch.tanh(h), torch.sigmoid(t)\n",
        "        c = 1 - t\n",
        "        t = self.drop_layer(t)\n",
        "        s_t = h * t + s_t_l_minus_1 * c\n",
        "        return s_t\n",
        "\n",
        "\n",
        "    def forward(self, x_t, s_t_l_0):\n",
        "\n",
        "        hidden_states = self.input_fc(x_t) + self.first_fc_layer(s_t_l_0)\n",
        "        s_t_l = self.highwayGate(hidden_states, s_t_l_0)\n",
        "\n",
        "        s_t_l_minus_1 = s_t_l\n",
        "        for fc_layer in self.fc_layers:\n",
        "            hidden_states = fc_layer(s_t_l_minus_1)\n",
        "            s_t_l = self.highwayGate(hidden_states, s_t_l_minus_1)\n",
        "            s_t_l_minus_1 = s_t_l\n",
        "\n",
        "        return s_t_l\n",
        "\n",
        "\n",
        "class RHN(nn.Module):\n",
        "\n",
        "    def __init__(self, input_dim, hidden_dim, output_dim, nb_rhn_layers, drop_prob):\n",
        "        super(RHN, self).__init__()\n",
        "\n",
        "        self.rhncell = RHNCell(input_dim, hidden_dim, nb_rhn_layers, drop_prob)\n",
        "        self.output_fc = nn.Linear(hidden_dim, output_dim)\n",
        "\n",
        "\n",
        "    def forward(self, input, s_t_0_l_0):\n",
        "\n",
        "        inputs = input.unbind(1)\n",
        "        s_t_minus_1_L = s_t_0_l_0\n",
        "        outputs = torch.jit.annotate(List[Tensor], [])\n",
        "        for t in range(len(inputs)):\n",
        "            s_t_L = self.rhncell(inputs[t], s_t_minus_1_L)\n",
        "            s_t_minus_1_L = s_t_L\n",
        "            outputs += [s_t_L]\n",
        "\n",
        "        x = torch.stack(outputs).transpose(0, 1)\n",
        "        x = self.output_fc(x)\n",
        "        return x"
      ],
      "execution_count": null,
      "outputs": []
    },
    {
      "cell_type": "code",
      "metadata": {
        "colab": {
          "base_uri": "https://localhost:8080/"
        },
        "id": "jHgQRJWCSdqN",
        "outputId": "fd1cf950-e8e2-42fe-d47b-a9d1a5e98faf"
      },
      "source": [
        "input_dim = ds.shape[1]\n",
        "output_dim = ds.shape[1]\n",
        "hidden_dim = 120\n",
        "nb_rhn_layers = 4\n",
        "\n",
        "model = RHN(input_dim, hidden_dim, output_dim, nb_rhn_layers, drop_prob=0.3).to(DEVICE)\n",
        "model"
      ],
      "execution_count": null,
      "outputs": [
        {
          "output_type": "execute_result",
          "data": {
            "text/plain": [
              "RHN(\n",
              "  (rhncell): RHNCell(\n",
              "    (drop_layer): Dropout(p=0.3, inplace=False)\n",
              "    (input_fc): Linear(in_features=36, out_features=240, bias=True)\n",
              "    (first_fc_layer): Linear(in_features=120, out_features=240, bias=True)\n",
              "    (fc_layers): ModuleList(\n",
              "      (0): Linear(in_features=120, out_features=240, bias=True)\n",
              "      (1): Linear(in_features=120, out_features=240, bias=True)\n",
              "      (2): Linear(in_features=120, out_features=240, bias=True)\n",
              "    )\n",
              "  )\n",
              "  (output_fc): Linear(in_features=120, out_features=36, bias=True)\n",
              ")"
            ]
          },
          "metadata": {
            "tags": []
          },
          "execution_count": 60
        }
      ]
    },
    {
      "cell_type": "code",
      "metadata": {
        "id": "oiS6JJ8TSdqR"
      },
      "source": [
        "loss_function = nn.SmoothL1Loss()\n",
        "optimizer = opt.Adam(model.parameters(),lr=1e-3)\n",
        "scheduler = None #opt.lr_scheduler.StepLR(optimizer,300,0.5)"
      ],
      "execution_count": null,
      "outputs": []
    },
    {
      "cell_type": "markdown",
      "metadata": {
        "id": "_Hda3-4ISdqS"
      },
      "source": [
        "## Training"
      ]
    },
    {
      "cell_type": "code",
      "metadata": {
        "colab": {
          "base_uri": "https://localhost:8080/"
        },
        "id": "Z79cFsj1SdqT",
        "outputId": "fd6f2c16-5ee2-4c92-870e-783204b7f641"
      },
      "source": [
        "future = y_ds.shape[1]\n",
        "model.train()\n",
        "EPOCH = 2500\n",
        "lossx = [i for i in range(EPOCH)]\n",
        "testx= [i for i in range(EPOCH)]\n",
        "lossy,testy= [],[]\n",
        "for epoch in range(EPOCH):\n",
        "    cumloss=0\n",
        "    testloss=0\n",
        "\n",
        "    model.zero_grad()\n",
        "    optimizer.zero_grad()\n",
        "    s_0 = torch.zeros(X_train.shape[0],hidden_dim).to(DEVICE)\n",
        "    out = model(X_train, s_0)\n",
        "    \n",
        "    loss=loss_function(out[:,:future,:], y_train)\n",
        "    loss.backward()\n",
        "    mape_train = mean_absolute_percentage_error(out[:,:future,:].to('cpu').detach().numpy(),y_train.to('cpu').detach().numpy())\n",
        "\n",
        "    nn.utils.clip_grad_value_(model.parameters(), clip_value=1.0)\n",
        "    optimizer.step()\n",
        "    if scheduler is not None:\n",
        "        scheduler.step()\n",
        "    \n",
        "    cumloss += float(loss.data)\n",
        "    lossy.append(cumloss)\n",
        "    model.eval()\n",
        "    with torch.no_grad():\n",
        "        s_0 = torch.zeros(X_test.shape[0],hidden_dim).to(DEVICE)\n",
        "        out_test = model(X_test,s_0)\n",
        "        loss_test = loss_function(out_test[:,:future,:], y_test)\n",
        "        testloss += float(loss_test.data)\n",
        "        mape_test = mean_absolute_percentage_error(out_test[:,:future,:].to('cpu').detach().numpy(),y_test.to('cpu').detach().numpy())\n",
        "        testy.append(testloss)\n",
        "    model.train()\n",
        "\n",
        "    if (epoch+1) % 100 == 0:\n",
        "        print('Epoch:', epoch+1,'/', EPOCH, '| Training Loss:', cumloss, '| Test Loss:', testloss)\n",
        "        print('MAPE: (a) Train:', mape_train,' (b) Test:', mape_test )"
      ],
      "execution_count": null,
      "outputs": [
        {
          "output_type": "stream",
          "text": [
            "Epoch: 100 / 2500 | Training Loss: 0.005694056861102581 | Test Loss: 0.003999643959105015\n",
            "MAPE: (a) Train: 155.95462322235107  (b) Test: 109.91977453231812\n",
            "Epoch: 200 / 2500 | Training Loss: 0.0033999080769717693 | Test Loss: 0.002242736518383026\n",
            "MAPE: (a) Train: 96.16830348968506  (b) Test: 141.23648405075073\n",
            "Epoch: 300 / 2500 | Training Loss: 0.0025416905991733074 | Test Loss: 0.0016232680063694715\n",
            "MAPE: (a) Train: 95.31047344207764  (b) Test: 77.7691125869751\n",
            "Epoch: 400 / 2500 | Training Loss: 0.002130865352228284 | Test Loss: 0.0012931027449667454\n",
            "MAPE: (a) Train: 100.02481937408447  (b) Test: 62.938183546066284\n",
            "Epoch: 500 / 2500 | Training Loss: 0.0017808377742767334 | Test Loss: 0.001089574652723968\n",
            "MAPE: (a) Train: 89.93951678276062  (b) Test: 53.819167613983154\n",
            "Epoch: 600 / 2500 | Training Loss: 0.0015757904620841146 | Test Loss: 0.0009464281611144543\n",
            "MAPE: (a) Train: 73.92396926879883  (b) Test: 51.3824462890625\n",
            "Epoch: 700 / 2500 | Training Loss: 0.0014230104861781001 | Test Loss: 0.0008473949274048209\n",
            "MAPE: (a) Train: 77.81007289886475  (b) Test: 62.31103539466858\n",
            "Epoch: 800 / 2500 | Training Loss: 0.0012989608803763986 | Test Loss: 0.0007751274388283491\n",
            "MAPE: (a) Train: 130.93764781951904  (b) Test: 44.598376750946045\n",
            "Epoch: 900 / 2500 | Training Loss: 0.0012028395431116223 | Test Loss: 0.0007428398821502924\n",
            "MAPE: (a) Train: 78.76530289649963  (b) Test: 37.770259380340576\n",
            "Epoch: 1000 / 2500 | Training Loss: 0.0011189559008926153 | Test Loss: 0.0006969739915803075\n",
            "MAPE: (a) Train: 104.90299463272095  (b) Test: 32.21595287322998\n",
            "Epoch: 1100 / 2500 | Training Loss: 0.0010727545013651252 | Test Loss: 0.0006556161679327488\n",
            "MAPE: (a) Train: 85.86983680725098  (b) Test: 71.44138813018799\n",
            "Epoch: 1200 / 2500 | Training Loss: 0.0010111985029652715 | Test Loss: 0.0006153386202640831\n",
            "MAPE: (a) Train: 69.53681707382202  (b) Test: 34.462639689445496\n",
            "Epoch: 1300 / 2500 | Training Loss: 0.0009587822714820504 | Test Loss: 0.0005923451390117407\n",
            "MAPE: (a) Train: 109.43067073822021  (b) Test: 57.034409046173096\n",
            "Epoch: 1400 / 2500 | Training Loss: 0.0009041455341503024 | Test Loss: 0.0005622667376883328\n",
            "MAPE: (a) Train: 70.75616717338562  (b) Test: 30.864953994750977\n",
            "Epoch: 1500 / 2500 | Training Loss: 0.0008668900118209422 | Test Loss: 0.0005410157609730959\n",
            "MAPE: (a) Train: 64.38509225845337  (b) Test: 81.6946268081665\n",
            "Epoch: 1600 / 2500 | Training Loss: 0.0008092416683211923 | Test Loss: 0.0005084987496957183\n",
            "MAPE: (a) Train: 83.21700096130371  (b) Test: 81.52278661727905\n",
            "Epoch: 1700 / 2500 | Training Loss: 0.0007717490079812706 | Test Loss: 0.0004932963638566434\n",
            "MAPE: (a) Train: 79.80369329452515  (b) Test: 62.12248206138611\n",
            "Epoch: 1800 / 2500 | Training Loss: 0.0007536056218668818 | Test Loss: 0.00046932659461162984\n",
            "MAPE: (a) Train: 101.94101333618164  (b) Test: 24.928274750709534\n",
            "Epoch: 1900 / 2500 | Training Loss: 0.0007238822872750461 | Test Loss: 0.0004491897707339376\n",
            "MAPE: (a) Train: 88.30356001853943  (b) Test: 35.3695809841156\n",
            "Epoch: 2000 / 2500 | Training Loss: 0.0006844154559075832 | Test Loss: 0.00043264334090054035\n",
            "MAPE: (a) Train: 119.80124711990356  (b) Test: 24.790705740451813\n",
            "Epoch: 2100 / 2500 | Training Loss: 0.0006577951135113835 | Test Loss: 0.00041726575000211596\n",
            "MAPE: (a) Train: 62.47987151145935  (b) Test: 35.136786103248596\n",
            "Epoch: 2200 / 2500 | Training Loss: 0.0006507123471237719 | Test Loss: 0.0004008960095234215\n",
            "MAPE: (a) Train: 145.79442739486694  (b) Test: 36.86515390872955\n",
            "Epoch: 2300 / 2500 | Training Loss: 0.0006211012369021773 | Test Loss: 0.0003892747627105564\n",
            "MAPE: (a) Train: 62.97087073326111  (b) Test: 27.437767386436462\n",
            "Epoch: 2400 / 2500 | Training Loss: 0.0006005924078635871 | Test Loss: 0.00037791510112583637\n",
            "MAPE: (a) Train: 65.16046524047852  (b) Test: 186.90333366394043\n",
            "Epoch: 2500 / 2500 | Training Loss: 0.0005881162942387164 | Test Loss: 0.00036592126707546413\n",
            "MAPE: (a) Train: 78.91515493392944  (b) Test: 33.5181325674057\n"
          ],
          "name": "stdout"
        }
      ]
    },
    {
      "cell_type": "markdown",
      "metadata": {
        "id": "4dSGoQ1nSdqU"
      },
      "source": [
        "## Loss Plots"
      ]
    },
    {
      "cell_type": "code",
      "metadata": {
        "colab": {
          "base_uri": "https://localhost:8080/",
          "height": 282
        },
        "id": "FLVTW0idSdqU",
        "outputId": "ce1d38e1-8424-4940-bf36-17d8927688d4"
      },
      "source": [
        "import matplotlib.pyplot as plt\n",
        "\n",
        "plt.plot(lossx,lossy,'r',label = 'Train')\n",
        "plt.plot(testx,testy,'b',label = 'Test')\n",
        "plt.legend()\n",
        "plt.show"
      ],
      "execution_count": null,
      "outputs": [
        {
          "output_type": "execute_result",
          "data": {
            "text/plain": [
              "<function matplotlib.pyplot.show>"
            ]
          },
          "metadata": {
            "tags": []
          },
          "execution_count": 63
        },
        {
          "output_type": "display_data",
          "data": {
            "image/png": "[encoded data removed]",
            "text/plain": [
              "<Figure size 432x288 with 1 Axes>"
            ]
          },
          "metadata": {
            "tags": [],
            "needs_background": "light"
          }
        }
      ]
    },
    {
      "cell_type": "code",
      "metadata": {
        "colab": {
          "base_uri": "https://localhost:8080/",
          "height": 282
        },
        "id": "tA2-QqAuSdqV",
        "outputId": "2afdace8-5064-405d-f1c0-06b8e599c8ec"
      },
      "source": [
        "import matplotlib.pyplot as plt\n",
        "\n",
        "plt.plot(lossx[-50:],lossy[-50:],'r',label = 'Train')\n",
        "plt.plot(testx[-50:],testy[-50:],'b',label = 'Test')\n",
        "plt.legend()\n",
        "plt.show"
      ],
      "execution_count": null,
      "outputs": [
        {
          "output_type": "execute_result",
          "data": {
            "text/plain": [
              "<function matplotlib.pyplot.show>"
            ]
          },
          "metadata": {
            "tags": []
          },
          "execution_count": 64
        },
        {
          "output_type": "display_data",
          "data": {
            "image/png": "[encoded data removed]",
            "text/plain": [
              "<Figure size 432x288 with 1 Axes>"
            ]
          },
          "metadata": {
            "tags": [],
            "needs_background": "light"
          }
        }
      ]
    },
    {
      "cell_type": "markdown",
      "metadata": {
        "id": "f-izh0VKSdqW"
      },
      "source": [
        "## Baseline Loss"
      ]
    },
    {
      "cell_type": "code",
      "metadata": {
        "colab": {
          "base_uri": "https://localhost:8080/"
        },
        "id": "Mq9k9FkrSdqX",
        "outputId": "edba0928-acae-42d4-e6b1-f94be4a4bf13"
      },
      "source": [
        "model.eval()\n",
        "with torch.no_grad():\n",
        "  s_0 = torch.zeros(X_test.shape[0],hidden_dim).to(DEVICE)\n",
        "  out = model(X_test, s_0)\n",
        "  loss_val = loss_function(out[:,:future,:], y_test)\n",
        "  print('Loss on Test: ',loss_val)"
      ],
      "execution_count": null,
      "outputs": [
        {
          "output_type": "stream",
          "text": [
            "Loss on Test:  tensor(0.0004, device='cuda:0')\n"
          ],
          "name": "stdout"
        }
      ]
    },
    {
      "cell_type": "code",
      "metadata": {
        "colab": {
          "base_uri": "https://localhost:8080/"
        },
        "id": "Gw1S-iZfSdqY",
        "outputId": "a1d545dc-217c-4f6e-bb34-881b5223c3e4"
      },
      "source": [
        "mean_absolute_percentage_error(out[:,:future,:].to('cpu').detach().numpy(),y_test.to('cpu').detach().numpy())"
      ],
      "execution_count": null,
      "outputs": [
        {
          "output_type": "execute_result",
          "data": {
            "text/plain": [
              "33.5181325674057"
            ]
          },
          "metadata": {
            "tags": []
          },
          "execution_count": 66
        }
      ]
    },
    {
      "cell_type": "code",
      "metadata": {
        "colab": {
          "base_uri": "https://localhost:8080/"
        },
        "id": "wmSv0t47SdqZ",
        "outputId": "2d4ea94f-825a-41b5-bb97-3927c36a3b88"
      },
      "source": [
        "model.eval()\n",
        "with torch.no_grad():\n",
        "  s_0 = torch.zeros(X_train.shape[0],hidden_dim).to(DEVICE)\n",
        "  out1 = model(X_train, s_0)\n",
        "  loss_val1 = loss_function(out1[:,:future,:], y_train)\n",
        "  print('Loss on Train: ',loss_val1)"
      ],
      "execution_count": null,
      "outputs": [
        {
          "output_type": "stream",
          "text": [
            "Loss on Train:  tensor(0.0004, device='cuda:0')\n"
          ],
          "name": "stdout"
        }
      ]
    },
    {
      "cell_type": "code",
      "metadata": {
        "colab": {
          "base_uri": "https://localhost:8080/"
        },
        "id": "6YeIs1MqSdqa",
        "outputId": "38b845df-4698-48d9-ebb6-bcf8c6c3bd01"
      },
      "source": [
        "mean_absolute_percentage_error(out1[:,:future,:].to('cpu').detach().numpy(),y_train.to('cpu').detach().numpy())"
      ],
      "execution_count": null,
      "outputs": [
        {
          "output_type": "execute_result",
          "data": {
            "text/plain": [
              "39.805036783218384"
            ]
          },
          "metadata": {
            "tags": []
          },
          "execution_count": 68
        }
      ]
    },
    {
      "cell_type": "code",
      "metadata": {
        "colab": {
          "base_uri": "https://localhost:8080/"
        },
        "id": "45SU4axaSdqb",
        "outputId": "10311afd-7c5e-4c1b-d635-2cf0867b7e2f"
      },
      "source": [
        "model.eval()\n",
        "with torch.no_grad():\n",
        "  s_0 = torch.zeros(X_ds.astype('float32').shape[0],hidden_dim).to(DEVICE)\n",
        "  out_complete = model(torch.from_numpy(X_ds.astype('float32')).to(DEVICE), s_0)\n",
        "  loss_complete = loss_function(out_complete[:,:future,:], torch.from_numpy(y_ds.astype('float32')).to(DEVICE))\n",
        "  print('Loss on Complete: ',loss_val)"
      ],
      "execution_count": null,
      "outputs": [
        {
          "output_type": "stream",
          "text": [
            "Loss on Complete:  tensor(0.0004, device='cuda:0')\n"
          ],
          "name": "stdout"
        }
      ]
    },
    {
      "cell_type": "code",
      "metadata": {
        "colab": {
          "base_uri": "https://localhost:8080/"
        },
        "id": "44cDKhzvSdqe",
        "outputId": "b9c74aa9-8a18-4565-92c4-7756e8036ca7"
      },
      "source": [
        "mean_absolute_percentage_error(out_complete[:,:future,:].to('cpu').detach().numpy(),y_ds)"
      ],
      "execution_count": null,
      "outputs": [
        {
          "output_type": "execute_result",
          "data": {
            "text/plain": [
              "38.227341864507295"
            ]
          },
          "metadata": {
            "tags": []
          },
          "execution_count": 70
        }
      ]
    },
    {
      "cell_type": "code",
      "metadata": {
        "colab": {
          "base_uri": "https://localhost:8080/",
          "height": 298
        },
        "id": "-p_8ln-GSdqf",
        "outputId": "fdc4c5b7-9bc5-4f11-813d-d8b23b89dc62"
      },
      "source": [
        "i = 14                                                                            # district number\n",
        "actual = X_ds[:,0,i]\n",
        "pred = out_complete[:,:future,:].to('cpu').detach().numpy()[:,0,i]\n",
        "\n",
        "plt.plot(actual,label = 'Actual')\n",
        "plt.plot(pred,label = 'Predicted')\n",
        "plt.legend()\n",
        "plt.title('Time Series plot one district in Complete Set (Scaled)')\n",
        "plt.show"
      ],
      "execution_count": null,
      "outputs": [
        {
          "output_type": "execute_result",
          "data": {
            "text/plain": [
              "<function matplotlib.pyplot.show>"
            ]
          },
          "metadata": {
            "tags": []
          },
          "execution_count": 73
        },
        {
          "output_type": "display_data",
          "data": {
            "image/png": "[encoded data removed]",
            "text/plain": [
              "<Figure size 432x288 with 1 Axes>"
            ]
          },
          "metadata": {
            "tags": [],
            "needs_background": "light"
          }
        }
      ]
    },
    {
      "cell_type": "code",
      "metadata": {
        "colab": {
          "base_uri": "https://localhost:8080/",
          "height": 298
        },
        "id": "Sccg7oWCSdqg",
        "outputId": "1f036af2-ff58-4184-b4f6-e5825b6c17db"
      },
      "source": [
        "i = 22                                                                            # district number\n",
        "scale = scalers['scaler_'+ str(i)]\n",
        "actual = scale.inverse_transform(X_ds[:,0,i].reshape(-1,1))\n",
        "pred = scale.inverse_transform(out_complete[:,:future,:].to('cpu').detach().numpy()[:,0,i].reshape(-1,1))\n",
        "\n",
        "plt.plot(actual,label = 'Actual')\n",
        "plt.plot(pred,label = 'Predicted')\n",
        "plt.legend()\n",
        "plt.title('Time Series plot one district in Complete Set (Unscaled)')\n",
        "plt.show"
      ],
      "execution_count": null,
      "outputs": [
        {
          "output_type": "execute_result",
          "data": {
            "text/plain": [
              "<function matplotlib.pyplot.show>"
            ]
          },
          "metadata": {
            "tags": []
          },
          "execution_count": 74
        },
        {
          "output_type": "display_data",
          "data": {
            "image/png": "[encoded data removed]",
            "text/plain": [
              "<Figure size 432x288 with 1 Axes>"
            ]
          },
          "metadata": {
            "tags": [],
            "needs_background": "light"
          }
        }
      ]
    },
    {
      "cell_type": "code",
      "metadata": {
        "id": "eNZMscxCgA-X"
      },
      "source": [
        ""
      ],
      "execution_count": null,
      "outputs": []
    },
    {
      "cell_type": "markdown",
      "metadata": {
        "id": "lT1Y3Dap86CC"
      },
      "source": [
        "# RHN Encoder Decoder"
      ]
    },
    {
      "cell_type": "markdown",
      "metadata": {
        "id": "tLeW3g2cTN1v"
      },
      "source": [
        "## Model Code"
      ]
    },
    {
      "cell_type": "code",
      "metadata": {
        "id": "3-q4scJeDQs2"
      },
      "source": [
        "def mean_absolute_percentage_error(y_true, y_pred):\n",
        "    y_true, y_pred = np.array(y_true), np.array(y_pred)\n",
        "    return np.mean(np.abs((y_true - y_pred) / (y_true + 1e-8))) * 100"
      ],
      "execution_count": null,
      "outputs": []
    },
    {
      "cell_type": "code",
      "metadata": {
        "id": "gkid1W1i4wZe"
      },
      "source": [
        "class HSGLayer(nn.Module):\n",
        "    def __init__(self, n_units, init_gates_closed):\n",
        "        super(HSGLayer, self).__init__()\n",
        "        self.W_R = nn.Linear(n_units, n_units, bias=False)\n",
        "        self.W_F = nn.Linear(n_units, n_units)\n",
        "        if init_gates_closed:\n",
        "            self.W_F.bias = nn.Parameter(torch.Tensor([-2.5]*n_units).cuda())\n",
        "    def forward(self, s_L_t, s_prime_tm1):\n",
        "        g = torch.sigmoid(self.W_R(s_prime_tm1) + self.W_F(s_L_t))\n",
        "        s_prime_t = g*s_prime_tm1 + (1 - g)*s_L_t\n",
        "        return s_prime_t\n",
        "\n",
        "class RHNCell(nn.Module):\n",
        "    def __init__(self, in_feats, n_units, rec_depth=3, couple_gates=True,\n",
        "                 use_HSG=False, init_gates_closed=False):\n",
        "        super(RHNCell, self).__init__()\n",
        "        self.rec_depth = rec_depth\n",
        "        self.in_feats = in_feats\n",
        "        self.n_units = n_units\n",
        "        self.couple_gates = couple_gates\n",
        "        self.use_HSG = use_HSG\n",
        "        self.W_H = nn.Linear(in_feats, n_units, bias=False)\n",
        "        self.W_T = nn.Linear(in_feats, n_units, bias=False)\n",
        "        if not couple_gates:\n",
        "            self.W_C = nn.Linear(in_feats, n_units, bias=False)\n",
        "        self.R_H = nn.ModuleList([nn.Linear(n_units, n_units) for _ in range(rec_depth)])\n",
        "        self.R_T = nn.ModuleList([nn.Linear(n_units, n_units) for _ in range(rec_depth)])\n",
        "        if not couple_gates:\n",
        "            self.R_C = nn.ModuleList([nn.Linear(n_units, n_units) for _ in range(rec_depth)])\n",
        "        \n",
        "        if use_HSG:\n",
        "            self.HSG = HSGLayer(n_units, init_gates_closed)\n",
        "        \n",
        "        if init_gates_closed:\n",
        "            for l in range(rec_depth):\n",
        "                self.R_T[l].bias = nn.Parameter(torch.Tensor([-2.5]*n_units).cuda())\n",
        "                if not couple_gates:\n",
        "                    self.R_C[l].bias = nn.Parameter(torch.Tensor([-2.5]*n_units).cuda())\n",
        "        \n",
        "    def forward(self, x, s):\n",
        "        if self.use_HSG:\n",
        "            s_prime_tm1 = s\n",
        "        preds = []\n",
        "        for l in range(self.rec_depth):\n",
        "            if l == 0:\n",
        "                h_l_t = torch.tanh(self.W_H(x) + self.R_H[l](s))\n",
        "                t_l_t = torch.sigmoid(self.W_T(x) + self.R_T[l](s))\n",
        "                if not self.couple_gates:\n",
        "                    c_l_t = torch.sigmoid(self.W_C(x) + self.R_C[l](s))\n",
        "            else:\n",
        "                h_l_t = torch.tanh(self.R_H[l](s))\n",
        "                t_l_t = torch.sigmoid(self.R_T[l](s))\n",
        "                if not self.couple_gates:\n",
        "                    c_l_t = torch.sigmoid(self.R_C[l](s))\n",
        "            \n",
        "            if not self.couple_gates:\n",
        "                s = h_l_t*t_l_t + c_l_t*s\n",
        "            else:\n",
        "                s = h_l_t*t_l_t + (1 - t_l_t)*s\n",
        "            preds.append(s)\n",
        "                \n",
        "        if self.use_HSG:\n",
        "            s = self.HSG(s, s_prime_tm1)\n",
        "            preds.pop()\n",
        "            preds.append(s)\n",
        "        preds = torch.stack(preds)\n",
        "        return s, preds\n",
        "\n",
        "    \n",
        "class RHN(nn.Module):\n",
        "    def __init__(self, in_feats, out_feats, n_units=32, rec_depth=3, couple_gates=True, use_HSG=False,\n",
        "                 init_gates_closed=False, use_batch_norm=False):\n",
        "        super(RHN, self).__init__()\n",
        "        assert rec_depth > 0\n",
        "        self.rec_depth = rec_depth\n",
        "        self.in_feats = in_feats\n",
        "        self.n_units = n_units\n",
        "        self.init_gates_closed = init_gates_closed\n",
        "        self.couple_gates = couple_gates\n",
        "        self.use_HSG = use_HSG\n",
        "        self.use_batch_norm = use_batch_norm\n",
        "        self.RHNCell = RHNCell(in_feats, n_units, rec_depth, couple_gates=couple_gates,\n",
        "                               use_HSG=use_HSG, init_gates_closed=init_gates_closed)\n",
        "        if use_batch_norm:\n",
        "            self.bn_x = nn.BatchNorm1d(in_feats)\n",
        "            self.bn_s = nn.BatchNorm1d(n_units)\n",
        "    def forward(self, x):\n",
        "        s = torch.zeros(x.shape[0], self.n_units).cuda()\n",
        "        preds = []\n",
        "        highway_states = []\n",
        "        for t in range(x.shape[1]):\n",
        "            if self.use_batch_norm:\n",
        "                x_inp = self.bn_x(x[:, t, :])\n",
        "                s = self.bn_s(s)\n",
        "            else:\n",
        "                x_inp = x[:, t, :]\n",
        "            s, all_s = self.RHNCell(x_inp, s)\n",
        "            preds.append(s)\n",
        "            highway_states.append(all_s)\n",
        "        preds = torch.stack(preds)\n",
        "        preds = preds.permute(1, 0, 2)\n",
        "        highway_states = torch.stack(highway_states)\n",
        "        highway_states = highway_states.permute(2, 0, 3, 1)\n",
        "        out = preds\n",
        "        \n",
        "        return out, highway_states\n"
      ],
      "execution_count": null,
      "outputs": []
    },
    {
      "cell_type": "code",
      "metadata": {
        "id": "zIpapgvm890H"
      },
      "source": [
        "class Encoder(nn.Module):\n",
        "  def __init__(self,input_size,hidden_size,num_layers,batch):\n",
        "    super(Encoder,self).__init__()\n",
        "    self.input_size = input_size\n",
        "    self.hidden_size = hidden_size\n",
        "    self.num_layers = num_layers\n",
        "    self.batch = batch\n",
        "\n",
        "    self.lstm = RHN(in_feats=self.input_size, out_feats=None, n_units=self.hidden_size, rec_depth=self.num_layers,\n",
        "                    couple_gates=True, use_HSG=False, init_gates_closed=False, use_batch_norm=False)\n",
        "\n",
        "  def forward(self, data):\n",
        "    outputs, hidden = self.lstm(data)\n",
        "    return hidden\n",
        "\n",
        "\n",
        "class Decoder(nn.Module):\n",
        "  def __init__(self,input_size,hidden_size,num_enc_lay,output_size,num_layers):    \n",
        "    super(Decoder,self).__init__()\n",
        "    self.input_size = input_size\n",
        "    self.hidden_size = hidden_size*num_enc_lay\n",
        "    self.output_size = output_size\n",
        "    self.layers = num_layers\n",
        "\n",
        "    self.lstmcell = RHNCell(in_feats=self.input_size, n_units=self.hidden_size,\n",
        "                            rec_depth=self.layers, couple_gates=True,\n",
        "                            use_HSG=False, init_gates_closed=False)\n",
        "    self.fc = nn.Linear(self.hidden_size,self.output_size)\n",
        "\n",
        "  def forward(self, x, hidden):\n",
        "    hid = []\n",
        "    out = []\n",
        "    for b in range(x.shape[0]):\n",
        "      s_b, hid_b = self.lstmcell(x[b,:], hidden[b,:,:])\n",
        "      out_b = self.fc(s_b)\n",
        "      hid.append(hid_b)\n",
        "      out.append(out_b)\n",
        "    \n",
        "    out = torch.stack(out)\n",
        "    hid = torch.stack(hid)\n",
        "\n",
        "    return out, hid\n",
        "\n",
        "\n",
        "class EncoderDecoderWrapper(nn.Module):\n",
        "  def __init__(self, encoder, decoder, steps, output_size,num_dec_lay,seq_len):\n",
        "    super(EncoderDecoderWrapper,self).__init__()\n",
        "    self.output_size = output_size\n",
        "    self.steps = steps\n",
        "\n",
        "    self.encoder = encoder\n",
        "    self.decoder = decoder\n",
        "    self.out_layer = nn.Linear(num_dec_lay*seq_len*self.output_size,self.output_size)\n",
        "\n",
        "  def forward(self, data, label, teacher_force):\n",
        "    batch_size = data.shape[0]\n",
        "    num_steps = self.steps\n",
        "\n",
        "    hidden = self.encoder(data)\n",
        "    hidden_size = hidden.shape[2]*hidden.shape[3]\n",
        "    hidden = hidden.reshape(hidden.shape[0],hidden.shape[1],hidden_size)\n",
        "    multi_step_out = torch.zeros(batch_size, num_steps, self.output_size).to(DEVICE)\n",
        "    x = label[:,-1,:].view(batch_size,self.output_size)\n",
        "\n",
        "    for t in range(num_steps):\n",
        "      out, hidden = self.decoder(x, hidden)\n",
        "      # print(out.size())\n",
        "      # print(hidden.size())\n",
        "      out = out.reshape(out.shape[0],-1)\n",
        "      # print(out.shape)\n",
        "      out = self.out_layer(out)\n",
        "      # print(out.shape)\n",
        "      multi_step_out[:,t,:] = out \n",
        "      x = label[:,t,:] if random.random() < teacher_force else out\n",
        "      \n",
        "    return multi_step_out"
      ],
      "execution_count": null,
      "outputs": []
    },
    {
      "cell_type": "code",
      "metadata": {
        "id": "HhjSQeKFTqKT"
      },
      "source": [
        "def NonAttentionModel(INPUT_SIZE=1, HIDDEN_SIZE=30, NUM_LAYERS=1, DROPOUT=0.0, \n",
        "                      DEVICE=torch.device('cpu'), BIDIRECTIONAL=True, \n",
        "                      OUTPUT_SIZE=1, STEPS=1, NUM_DIR=1):\n",
        "  \n",
        "  encoder = Encoder(input_size=INPUT_SIZE,\n",
        "                  hidden_size=HIDDEN_SIZE,\n",
        "                  num_layers=NUM_LAYERS,\n",
        "                  batch=False).to(DEVICE)\n",
        "\n",
        "  decoder = Decoder(input_size=INPUT_SIZE,\n",
        "                  hidden_size=HIDDEN_SIZE,\n",
        "                  num_enc_lay=NUM_LAYERS,\n",
        "                  num_layers=1,\n",
        "                  output_size=OUTPUT_SIZE).to(DEVICE)\n",
        "\n",
        "  net = EncoderDecoderWrapper(encoder = encoder,\n",
        "                             decoder = decoder,\n",
        "                             output_size = OUTPUT_SIZE,\n",
        "                             steps = STEPS,\n",
        "                             num_dec_lay = 1,\n",
        "                             seq_len = window).to(DEVICE)\n",
        "  return net"
      ],
      "execution_count": null,
      "outputs": []
    },
    {
      "cell_type": "code",
      "metadata": {
        "id": "VEykByj4p8SF",
        "colab": {
          "base_uri": "https://localhost:8080/"
        },
        "outputId": "e1496cca-6a18-47bc-c1d5-84cf24976649"
      },
      "source": [
        "INPUT_SIZE = ds.shape[1]\n",
        "OUTPUT_SIZE = ds.shape[1]\n",
        "HIDDEN_SIZE = 120\n",
        "STEPS = future\n",
        "NUM_LAYERS = 5\n",
        "DROPOUT = 0.0\n",
        "BIDIRECTIONAL = True\n",
        "NUM_DIR = 2 if BIDIRECTIONAL == True else 1\n",
        "\n",
        "net = NonAttentionModel(INPUT_SIZE=INPUT_SIZE, HIDDEN_SIZE=HIDDEN_SIZE, \n",
        "                         NUM_LAYERS=NUM_LAYERS, DROPOUT=DROPOUT, \n",
        "                         DEVICE=DEVICE, BIDIRECTIONAL=BIDIRECTIONAL, \n",
        "                         OUTPUT_SIZE=OUTPUT_SIZE, STEPS=STEPS, NUM_DIR=NUM_DIR)\n",
        "\n",
        "print(net)"
      ],
      "execution_count": null,
      "outputs": [
        {
          "output_type": "stream",
          "text": [
            "EncoderDecoderWrapper(\n",
            "  (encoder): Encoder(\n",
            "    (lstm): RHN(\n",
            "      (RHNCell): RHNCell(\n",
            "        (W_H): Linear(in_features=36, out_features=120, bias=False)\n",
            "        (W_T): Linear(in_features=36, out_features=120, bias=False)\n",
            "        (R_H): ModuleList(\n",
            "          (0): Linear(in_features=120, out_features=120, bias=True)\n",
            "          (1): Linear(in_features=120, out_features=120, bias=True)\n",
            "          (2): Linear(in_features=120, out_features=120, bias=True)\n",
            "          (3): Linear(in_features=120, out_features=120, bias=True)\n",
            "          (4): Linear(in_features=120, out_features=120, bias=True)\n",
            "        )\n",
            "        (R_T): ModuleList(\n",
            "          (0): Linear(in_features=120, out_features=120, bias=True)\n",
            "          (1): Linear(in_features=120, out_features=120, bias=True)\n",
            "          (2): Linear(in_features=120, out_features=120, bias=True)\n",
            "          (3): Linear(in_features=120, out_features=120, bias=True)\n",
            "          (4): Linear(in_features=120, out_features=120, bias=True)\n",
            "        )\n",
            "      )\n",
            "    )\n",
            "  )\n",
            "  (decoder): Decoder(\n",
            "    (lstmcell): RHNCell(\n",
            "      (W_H): Linear(in_features=36, out_features=600, bias=False)\n",
            "      (W_T): Linear(in_features=36, out_features=600, bias=False)\n",
            "      (R_H): ModuleList(\n",
            "        (0): Linear(in_features=600, out_features=600, bias=True)\n",
            "      )\n",
            "      (R_T): ModuleList(\n",
            "        (0): Linear(in_features=600, out_features=600, bias=True)\n",
            "      )\n",
            "    )\n",
            "    (fc): Linear(in_features=600, out_features=36, bias=True)\n",
            "  )\n",
            "  (out_layer): Linear(in_features=504, out_features=36, bias=True)\n",
            ")\n"
          ],
          "name": "stdout"
        }
      ]
    },
    {
      "cell_type": "code",
      "metadata": {
        "id": "kdYaUw-PF0Rb"
      },
      "source": [
        "# out = net(X_train, y_train, 0.5)"
      ],
      "execution_count": null,
      "outputs": []
    },
    {
      "cell_type": "code",
      "metadata": {
        "id": "zW8nbAd2CbDa"
      },
      "source": [
        "loss_function = nn.SmoothL1Loss()\n",
        "optimizer = opt.Adam(net.parameters(),lr=5e-3)\n",
        "scheduler = None #opt.lr_scheduler.StepLR(optimizer,300,0.5)"
      ],
      "execution_count": null,
      "outputs": []
    },
    {
      "cell_type": "markdown",
      "metadata": {
        "id": "9L3gQ2YxTQ_v"
      },
      "source": [
        "## Training"
      ]
    },
    {
      "cell_type": "code",
      "metadata": {
        "id": "40BzRbeDrVTO",
        "colab": {
          "base_uri": "https://localhost:8080/"
        },
        "outputId": "a3c2dcae-d192-45af-e065-b94ff9b5de26"
      },
      "source": [
        "net.train()\n",
        "thres = 10000\n",
        "EPOCH = 2000\n",
        "TEACHER_FORCE_RATIO = 0.5\n",
        "lossx = [i for i in range(EPOCH)]\n",
        "testx= [i for i in range(EPOCH)]\n",
        "lossy,testy= [],[]\n",
        "for epoch in range(EPOCH):\n",
        "    cumloss=0\n",
        "    testloss=0\n",
        "\n",
        "    net.zero_grad()\n",
        "    optimizer.zero_grad()\n",
        "    \n",
        "    out = net(X_train, y_train, TEACHER_FORCE_RATIO)\n",
        "    \n",
        "    loss=loss_function(out, y_train)\n",
        "    loss.backward()\n",
        "    mape_train = mean_absolute_percentage_error(out.to('cpu').detach().numpy(),y_train.to('cpu').detach().numpy())\n",
        "\n",
        "    nn.utils.clip_grad_value_(net.parameters(), clip_value=1.0)\n",
        "    optimizer.step()\n",
        "    if scheduler is not None:\n",
        "        scheduler.step()\n",
        "    \n",
        "    cumloss += float(loss.data)\n",
        "    lossy.append(cumloss)\n",
        "    net.eval()\n",
        "    with torch.no_grad():\n",
        "        out_test = net(X_test,y_test,TEACHER_FORCE_RATIO)\n",
        "        loss_test = loss_function(out_test, y_test)\n",
        "        testloss += float(loss_test.data)\n",
        "        mape_test = mean_absolute_percentage_error(out_test.to('cpu').detach().numpy(),y_test.to('cpu').detach().numpy())\n",
        "        testy.append(testloss)\n",
        "        if testloss < thres:\n",
        "          torch.save({\n",
        "              'state_dict': net.state_dict(),\n",
        "              'trainloss': lossy,\n",
        "              'testloss': testy,\n",
        "              'optimizer_state_dict': optimizer.state_dict(),\n",
        "              'epoch': epoch,\n",
        "              'teacher_force_ratio': TEACHER_FORCE_RATIO\n",
        "          },'/gdrive/MyDrive/Trip-AID/Models/RHN_ENCODER_DECODER.pt')\n",
        "    net.train()\n",
        "\n",
        "    if (epoch+1) % 100 == 0:\n",
        "        print('Epoch:', epoch+1,'/', EPOCH, '| Training Loss:', cumloss, '| Test Loss:', testloss)\n",
        "        print('MAPE: (a) Train:', mape_train,' (b) Test:', mape_test )"
      ],
      "execution_count": null,
      "outputs": [
        {
          "output_type": "stream",
          "text": [
            "Epoch: 100 / 2000 | Training Loss: 0.0018428269540891051 | Test Loss: 0.001914379419758916\n",
            "MAPE: (a) Train: 80.03725409507751  (b) Test: 157.558274269104\n",
            "Epoch: 200 / 2000 | Training Loss: 0.001071360893547535 | Test Loss: 0.0010686125606298447\n",
            "MAPE: (a) Train: 81.59078359603882  (b) Test: 59.19160842895508\n",
            "Epoch: 300 / 2000 | Training Loss: 0.0008337764884345233 | Test Loss: 0.0007911795983090997\n",
            "MAPE: (a) Train: 132.2410225868225  (b) Test: 72.83886671066284\n",
            "Epoch: 400 / 2000 | Training Loss: 0.00066596973920241 | Test Loss: 0.00067110889358446\n",
            "MAPE: (a) Train: 47.21565544605255  (b) Test: 49.059757590293884\n",
            "Epoch: 500 / 2000 | Training Loss: 0.0005539406556636095 | Test Loss: 0.000568885006941855\n",
            "MAPE: (a) Train: 51.63900852203369  (b) Test: 43.81442368030548\n",
            "Epoch: 600 / 2000 | Training Loss: 0.00048811157466843724 | Test Loss: 0.0004986200947314501\n",
            "MAPE: (a) Train: 40.25663733482361  (b) Test: 76.02429986000061\n",
            "Epoch: 700 / 2000 | Training Loss: 0.0004667669127229601 | Test Loss: 0.0004590374301187694\n",
            "MAPE: (a) Train: 38.47487270832062  (b) Test: 48.69422912597656\n",
            "Epoch: 800 / 2000 | Training Loss: 0.0004413135757204145 | Test Loss: 0.0005067255115136504\n",
            "MAPE: (a) Train: 69.49766874313354  (b) Test: 30.302101373672485\n",
            "Epoch: 900 / 2000 | Training Loss: 0.0004149366868659854 | Test Loss: 0.0004083871317561716\n",
            "MAPE: (a) Train: 54.728877544403076  (b) Test: 38.31819295883179\n",
            "Epoch: 1000 / 2000 | Training Loss: 0.0003573605790734291 | Test Loss: 0.00037813521339558065\n",
            "MAPE: (a) Train: 33.4679514169693  (b) Test: 36.732035875320435\n",
            "Epoch: 1100 / 2000 | Training Loss: 0.00034001763560809195 | Test Loss: 0.0003517909499350935\n",
            "MAPE: (a) Train: 33.470988273620605  (b) Test: 34.586432576179504\n",
            "Epoch: 1200 / 2000 | Training Loss: 0.0003826244210358709 | Test Loss: 0.0004058180202264339\n",
            "MAPE: (a) Train: 28.382766246795654  (b) Test: 103.54902744293213\n",
            "Epoch: 1300 / 2000 | Training Loss: 0.0007218883838504553 | Test Loss: 0.0006948214722797275\n",
            "MAPE: (a) Train: 33.59823822975159  (b) Test: 734.7601890563965\n",
            "Epoch: 1400 / 2000 | Training Loss: 0.00029725630884058774 | Test Loss: 0.0003265179693698883\n",
            "MAPE: (a) Train: 39.69363272190094  (b) Test: 36.986708641052246\n",
            "Epoch: 1500 / 2000 | Training Loss: 0.0002663015038706362 | Test Loss: 0.00029647682094946504\n",
            "MAPE: (a) Train: 52.00580358505249  (b) Test: 27.704569697380066\n",
            "Epoch: 1600 / 2000 | Training Loss: 0.0002523590810596943 | Test Loss: 0.00028349467902444303\n",
            "MAPE: (a) Train: 34.42641794681549  (b) Test: 41.52781963348389\n",
            "Epoch: 1700 / 2000 | Training Loss: 0.0002829931036103517 | Test Loss: 0.00031444960040971637\n",
            "MAPE: (a) Train: 176.90792083740234  (b) Test: 62.562745809555054\n",
            "Epoch: 1800 / 2000 | Training Loss: 0.00021564782946370542 | Test Loss: 0.0002552978985477239\n",
            "MAPE: (a) Train: 35.28493940830231  (b) Test: 35.610371828079224\n",
            "Epoch: 1900 / 2000 | Training Loss: 0.00020526090520434082 | Test Loss: 0.000250527256866917\n",
            "MAPE: (a) Train: 32.941028475761414  (b) Test: 44.989195466041565\n"
          ],
          "name": "stdout"
        }
      ]
    },
    {
      "cell_type": "markdown",
      "metadata": {
        "id": "oxQxgtt8DfTd"
      },
      "source": [
        "## Loss Plots"
      ]
    },
    {
      "cell_type": "code",
      "metadata": {
        "colab": {
          "base_uri": "https://localhost:8080/"
        },
        "id": "hDkXROtfNhfr",
        "outputId": "8cc0931b-cf56-4ea4-e23f-efb762608d22"
      },
      "source": [
        "net = NonAttentionModel(INPUT_SIZE=INPUT_SIZE, HIDDEN_SIZE=HIDDEN_SIZE, \n",
        "                         NUM_LAYERS=NUM_LAYERS, DROPOUT=DROPOUT, \n",
        "                         DEVICE=DEVICE, BIDIRECTIONAL=BIDIRECTIONAL, \n",
        "                         OUTPUT_SIZE=OUTPUT_SIZE, STEPS=STEPS, NUM_DIR=NUM_DIR)\n",
        "optimizer = opt.Adam(net.parameters(),lr=5e-3)\n",
        "\n",
        "checkpoint = torch.load('/gdrive/MyDrive/Trip-AID/Models/RHN_ENCODER_DECODER.pt')\n",
        "\n",
        "net.load_state_dict(checkpoint['state_dict'])\n",
        "optimizer.load_state_dict(checkpoint['optimizer_state_dict'])\n",
        "\n",
        "epochs = checkpoint['epoch']\n",
        "lossy = checkpoint['trainloss']\n",
        "testy = checkpoint['testloss']\n",
        "lossx = [i for i in range(epochs+1)]\n",
        "testx= [i for i in range(epochs+1)]\n",
        "\n",
        "TEACHER_FORCE_RATIO = checkpoint['teacher_force_ratio']\n",
        "\n",
        "net.eval()"
      ],
      "execution_count": null,
      "outputs": [
        {
          "output_type": "execute_result",
          "data": {
            "text/plain": [
              "EncoderDecoderWrapper(\n",
              "  (encoder): Encoder(\n",
              "    (lstm): RHN(\n",
              "      (RHNCell): RHNCell(\n",
              "        (W_H): Linear(in_features=36, out_features=120, bias=False)\n",
              "        (W_T): Linear(in_features=36, out_features=120, bias=False)\n",
              "        (R_H): ModuleList(\n",
              "          (0): Linear(in_features=120, out_features=120, bias=True)\n",
              "          (1): Linear(in_features=120, out_features=120, bias=True)\n",
              "          (2): Linear(in_features=120, out_features=120, bias=True)\n",
              "          (3): Linear(in_features=120, out_features=120, bias=True)\n",
              "          (4): Linear(in_features=120, out_features=120, bias=True)\n",
              "        )\n",
              "        (R_T): ModuleList(\n",
              "          (0): Linear(in_features=120, out_features=120, bias=True)\n",
              "          (1): Linear(in_features=120, out_features=120, bias=True)\n",
              "          (2): Linear(in_features=120, out_features=120, bias=True)\n",
              "          (3): Linear(in_features=120, out_features=120, bias=True)\n",
              "          (4): Linear(in_features=120, out_features=120, bias=True)\n",
              "        )\n",
              "      )\n",
              "    )\n",
              "  )\n",
              "  (decoder): Decoder(\n",
              "    (lstmcell): RHNCell(\n",
              "      (W_H): Linear(in_features=36, out_features=600, bias=False)\n",
              "      (W_T): Linear(in_features=36, out_features=600, bias=False)\n",
              "      (R_H): ModuleList(\n",
              "        (0): Linear(in_features=600, out_features=600, bias=True)\n",
              "      )\n",
              "      (R_T): ModuleList(\n",
              "        (0): Linear(in_features=600, out_features=600, bias=True)\n",
              "      )\n",
              "    )\n",
              "    (fc): Linear(in_features=600, out_features=36, bias=True)\n",
              "  )\n",
              "  (out_layer): Linear(in_features=504, out_features=36, bias=True)\n",
              ")"
            ]
          },
          "metadata": {
            "tags": []
          },
          "execution_count": 38
        }
      ]
    },
    {
      "cell_type": "code",
      "metadata": {
        "colab": {
          "base_uri": "https://localhost:8080/",
          "height": 282
        },
        "id": "2MG6i2pLDfT5",
        "outputId": "00a7ea93-dbeb-46e4-eeab-793651159583"
      },
      "source": [
        "import matplotlib.pyplot as plt\n",
        "\n",
        "plt.plot(lossx,lossy,'r',label = 'Train')\n",
        "plt.plot(testx,testy,'b',label = 'Test')\n",
        "plt.legend()\n",
        "plt.show"
      ],
      "execution_count": null,
      "outputs": [
        {
          "output_type": "execute_result",
          "data": {
            "text/plain": [
              "<function matplotlib.pyplot.show>"
            ]
          },
          "metadata": {
            "tags": []
          },
          "execution_count": 39
        },
        {
          "output_type": "display_data",
          "data": {
            "image/png": "[encoded data removed]",
            "text/plain": [
              "<Figure size 432x288 with 1 Axes>"
            ]
          },
          "metadata": {
            "tags": [],
            "needs_background": "light"
          }
        }
      ]
    },
    {
      "cell_type": "code",
      "metadata": {
        "colab": {
          "base_uri": "https://localhost:8080/",
          "height": 282
        },
        "id": "xPKEdrHNDfT8",
        "outputId": "b3f0bb36-2784-4ff3-87ee-f55b7c84540e"
      },
      "source": [
        "import matplotlib.pyplot as plt\n",
        "\n",
        "plt.plot(lossx[-150:],lossy[-150:],'r',label = 'Train')\n",
        "plt.plot(testx[-150:],testy[-150:],'b',label = 'Test')\n",
        "plt.legend()\n",
        "plt.show"
      ],
      "execution_count": null,
      "outputs": [
        {
          "output_type": "execute_result",
          "data": {
            "text/plain": [
              "<function matplotlib.pyplot.show>"
            ]
          },
          "metadata": {
            "tags": []
          },
          "execution_count": 49
        },
        {
          "output_type": "display_data",
          "data": {
            "image/png": "[encoded data removed]",
            "text/plain": [
              "<Figure size 432x288 with 1 Axes>"
            ]
          },
          "metadata": {
            "tags": [],
            "needs_background": "light"
          }
        }
      ]
    },
    {
      "cell_type": "markdown",
      "metadata": {
        "id": "ow_uLMDWDfT-"
      },
      "source": [
        "## Baseline Loss"
      ]
    },
    {
      "cell_type": "code",
      "metadata": {
        "colab": {
          "base_uri": "https://localhost:8080/"
        },
        "id": "McmJrX2qDfT_",
        "outputId": "a9744d37-35fb-42ae-a2b4-c82d3a19130b"
      },
      "source": [
        "net.eval()\n",
        "with torch.no_grad():\n",
        "  out = net(X_test, y_test, 0.5)\n",
        "  loss_val = loss_function(out, y_test)\n",
        "  print('Loss on Test: ',loss_val)"
      ],
      "execution_count": null,
      "outputs": [
        {
          "output_type": "stream",
          "text": [
            "Loss on Test:  tensor(0.0003, device='cuda:0')\n"
          ],
          "name": "stdout"
        }
      ]
    },
    {
      "cell_type": "code",
      "metadata": {
        "colab": {
          "base_uri": "https://localhost:8080/"
        },
        "id": "k_IbEl0VDfUA",
        "outputId": "de6a1e02-085e-41ad-c9a2-510e64a91064"
      },
      "source": [
        "mean_absolute_percentage_error(out.to('cpu').detach().numpy(),y_test.to('cpu').detach().numpy())"
      ],
      "execution_count": null,
      "outputs": [
        {
          "output_type": "execute_result",
          "data": {
            "text/plain": [
              "43.55161786079407"
            ]
          },
          "metadata": {
            "tags": []
          },
          "execution_count": 42
        }
      ]
    },
    {
      "cell_type": "code",
      "metadata": {
        "colab": {
          "base_uri": "https://localhost:8080/"
        },
        "id": "jYv9CqENDfUE",
        "outputId": "b88d8c6a-1149-4f62-8a10-6e0097297d5d"
      },
      "source": [
        "net.eval()\n",
        "with torch.no_grad():\n",
        "  out1 = net(X_train, y_train, TEACHER_FORCE_RATIO)\n",
        "  loss_val1 = loss_function(out1, y_train)\n",
        "  print('Loss on Train: ',loss_val1)"
      ],
      "execution_count": null,
      "outputs": [
        {
          "output_type": "stream",
          "text": [
            "Loss on Train:  tensor(0.0002, device='cuda:0')\n"
          ],
          "name": "stdout"
        }
      ]
    },
    {
      "cell_type": "code",
      "metadata": {
        "colab": {
          "base_uri": "https://localhost:8080/"
        },
        "id": "4bckGqm3DfUG",
        "outputId": "003d245b-ff70-49b7-9da0-88edaf905bd7"
      },
      "source": [
        "mean_absolute_percentage_error(out1.to('cpu').detach().numpy(),y_train.to('cpu').detach().numpy())"
      ],
      "execution_count": null,
      "outputs": [
        {
          "output_type": "execute_result",
          "data": {
            "text/plain": [
              "52.25974917411804"
            ]
          },
          "metadata": {
            "tags": []
          },
          "execution_count": 44
        }
      ]
    },
    {
      "cell_type": "code",
      "metadata": {
        "colab": {
          "base_uri": "https://localhost:8080/"
        },
        "id": "qq7ODj0pDfUH",
        "outputId": "79840214-142c-4f88-950f-133654739574"
      },
      "source": [
        "net.eval()\n",
        "with torch.no_grad():\n",
        "  out_complete = net(torch.from_numpy(X_ds.astype('float32')).to(DEVICE), torch.from_numpy(y_ds.astype('float32')).to(DEVICE), TEACHER_FORCE_RATIO)\n",
        "  loss_complete = loss_function(out_complete, torch.from_numpy(y_ds.astype('float32')).to(DEVICE))\n",
        "  print('Loss on Complete: ',loss_val)"
      ],
      "execution_count": null,
      "outputs": [
        {
          "output_type": "stream",
          "text": [
            "Loss on Complete:  tensor(0.0003, device='cuda:0')\n"
          ],
          "name": "stdout"
        }
      ]
    },
    {
      "cell_type": "code",
      "metadata": {
        "colab": {
          "base_uri": "https://localhost:8080/"
        },
        "id": "Lu0eSTj1DfUI",
        "outputId": "b7e66025-ad27-4b2f-f4c2-055c534925c9"
      },
      "source": [
        "mean_absolute_percentage_error(out_complete.to('cpu').detach().numpy(),y_ds)"
      ],
      "execution_count": null,
      "outputs": [
        {
          "output_type": "execute_result",
          "data": {
            "text/plain": [
              "32.4039204768595"
            ]
          },
          "metadata": {
            "tags": []
          },
          "execution_count": 46
        }
      ]
    },
    {
      "cell_type": "code",
      "metadata": {
        "colab": {
          "base_uri": "https://localhost:8080/",
          "height": 298
        },
        "id": "LHQMyQikDfUJ",
        "outputId": "6ae965e7-d756-4db1-cdba-7d480f0088e6"
      },
      "source": [
        "i = 0                                                         # district number\n",
        "actual = X_ds[:,0,i]\n",
        "pred = out_complete.to('cpu').detach().numpy()[:,0,i]\n",
        "\n",
        "plt.plot(actual,label = 'Actual')\n",
        "plt.plot(pred,label = 'Predicted')\n",
        "plt.legend()\n",
        "plt.title('Time Series plot one district in Complete Set (Scaled)')\n",
        "plt.show"
      ],
      "execution_count": null,
      "outputs": [
        {
          "output_type": "execute_result",
          "data": {
            "text/plain": [
              "<function matplotlib.pyplot.show>"
            ]
          },
          "metadata": {
            "tags": []
          },
          "execution_count": 47
        },
        {
          "output_type": "display_data",
          "data": {
            "image/png": "[encoded data removed]",
            "text/plain": [
              "<Figure size 432x288 with 1 Axes>"
            ]
          },
          "metadata": {
            "tags": [],
            "needs_background": "light"
          }
        }
      ]
    },
    {
      "cell_type": "code",
      "metadata": {
        "colab": {
          "base_uri": "https://localhost:8080/",
          "height": 298
        },
        "id": "5Ian88H5DfUK",
        "outputId": "8210eefa-7c32-4f8f-a54d-71bb4173540e"
      },
      "source": [
        "i = 14                                                                            # district number\n",
        "scale = scalers['scaler_'+ str(i)]\n",
        "actual = scale.inverse_transform(X_ds[:,0,i].reshape(-1,1))\n",
        "pred = scale.inverse_transform(out_complete.to('cpu').detach().numpy()[:,0,i].reshape(-1,1))\n",
        "\n",
        "plt.plot(actual,label = 'Actual')\n",
        "plt.plot(pred,label = 'Predicted')\n",
        "plt.legend()\n",
        "plt.title('Time Series plot one district in Complete Set (Unscaled)')\n",
        "plt.show"
      ],
      "execution_count": null,
      "outputs": [
        {
          "output_type": "execute_result",
          "data": {
            "text/plain": [
              "<function matplotlib.pyplot.show>"
            ]
          },
          "metadata": {
            "tags": []
          },
          "execution_count": 50
        },
        {
          "output_type": "display_data",
          "data": {
            "image/png": "[encoded data removed]",
            "text/plain": [
              "<Figure size 432x288 with 1 Axes>"
            ]
          },
          "metadata": {
            "tags": [],
            "needs_background": "light"
          }
        }
      ]
    },
    {
      "cell_type": "code",
      "metadata": {
        "id": "jmVPRQgUPRBK"
      },
      "source": [
        ""
      ],
      "execution_count": null,
      "outputs": []
    }
  ]
}

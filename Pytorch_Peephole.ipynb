{
  "nbformat": 4,
  "nbformat_minor": 0,
  "metadata": {
    "colab": {
      "name": "DST_Peephole.ipynb",
      "provenance": []
    },
    "kernelspec": {
      "name": "python3",
      "display_name": "Python 3"
    },
    "accelerator": "GPU"
  },
  "cells": [
    {
      "cell_type": "markdown",
      "metadata": {
        "id": "GhnJUnnp74b2"
      },
      "source": [
        "# Loading and Mounting\n",
        "\n"
      ]
    },
    {
      "cell_type": "code",
      "metadata": {
        "id": "5wTEXTBAHjnN",
        "colab": {
          "base_uri": "https://localhost:8080/"
        },
        "outputId": "3e1ccf4e-c5e9-48dd-ed32-02407b9e7edc"
      },
      "source": [
        "from google.colab import drive\n",
        "drive.mount('/gdrive')"
      ],
      "execution_count": null,
      "outputs": [
        {
          "output_type": "stream",
          "text": [
            "Mounted at /gdrive\n"
          ],
          "name": "stdout"
        }
      ]
    },
    {
      "cell_type": "code",
      "metadata": {
        "id": "NYCdJ4Zp84rs"
      },
      "source": [
        "import torch\n",
        "import torch.nn as nn \n",
        "import torch.optim as opt\n",
        "import torch.nn.functional as F\n",
        "from torch.autograd import Variable\n",
        "\n",
        "import numpy as np\n",
        "import pandas as pd\n",
        "import matplotlib.pyplot as plt\n",
        "import random\n",
        "import math"
      ],
      "execution_count": null,
      "outputs": []
    },
    {
      "cell_type": "markdown",
      "metadata": {
        "id": "EHNiLnoI8CbY"
      },
      "source": [
        "# Data"
      ]
    },
    {
      "cell_type": "code",
      "metadata": {
        "id": "rqlO1hmRF77r"
      },
      "source": [
        "# Active State dictionary\n",
        "# Feature: [start, end]\n",
        "split = {\n",
        "            'Andhra_Pradesh':[0,13],\n",
        "            'Arunachal_Pradesh':[13,38],\n",
        "            'Assam':[38,71],\n",
        "            'Bihar':[71,109],\n",
        "            'Chattisgarh':[109,137],\n",
        "            'Goa':[137,139],\n",
        "            'Gujarat':[139,172],\n",
        "            'Haryana':[172,194],\n",
        "            'Himanchal_Pradesh':[194,206],\n",
        "            'Jharkhand':[206,230],\n",
        "            'Karnataka':[230,260],\n",
        "            'Kerala':[260,274],\n",
        "            'Madhya_Pradesh':[274,329],\n",
        "            'Maharashtra':[329,365],\n",
        "            'Manipur':[365,381],\n",
        "            'Meghalaya':[381,392],\n",
        "            'Mizoram':[392,400],\n",
        "            'Nagaland':[400,412],\n",
        "            'Odisha':[412,442],\n",
        "            'Punjab':[442,464],\n",
        "            'Rajasthan':[464,497],\n",
        "            'Sikkim':[497,501],\n",
        "            'Tamil_Nadu':[501,539],\n",
        "            'Telangana':[539,572],\n",
        "            'Tripura':[572,580],\n",
        "            'Uttar_Pradesh':[580,655],\n",
        "            'Uttarakhand':[655,668],\n",
        "            'West_Bengal':[668,691],\n",
        "            'Andaman':[691,694],\n",
        "            'Chandigarh':[694,695],\n",
        "            'Daman':[695,698],\n",
        "            'Jammu':[698,718],\n",
        "            'Ladakh':[718,720],\n",
        "            'Lakshadweep':[720,721],\n",
        "            'Delhi':[721,732],\n",
        "            'Puducherry':[732,736]\n",
        "          }\n",
        "death_margin = 736\n",
        "recover_margin = 1472"
      ],
      "execution_count": null,
      "outputs": []
    },
    {
      "cell_type": "code",
      "metadata": {
        "id": "pct4vwGb-ae6"
      },
      "source": [
        "data = np.load('/gdrive/MyDrive/Trip-AID/3000varDataset.npy')"
      ],
      "execution_count": null,
      "outputs": []
    },
    {
      "cell_type": "code",
      "metadata": {
        "id": "EwDIcJld-f0o"
      },
      "source": [
        "data = np.transpose(data,(1,0))"
      ],
      "execution_count": null,
      "outputs": []
    },
    {
      "cell_type": "code",
      "metadata": {
        "colab": {
          "base_uri": "https://localhost:8080/"
        },
        "id": "SusK0nD8zTXd",
        "outputId": "b96ccc96-194c-4d48-c229-0046a734e479"
      },
      "source": [
        "data.shape"
      ],
      "execution_count": null,
      "outputs": [
        {
          "output_type": "execute_result",
          "data": {
            "text/plain": [
              "(357, 2944)"
            ]
          },
          "metadata": {
            "tags": []
          },
          "execution_count": 6
        }
      ]
    },
    {
      "cell_type": "code",
      "metadata": {
        "id": "sbYouXJ0-1B4"
      },
      "source": [
        "def Dataset(series,window=7,future=7):\n",
        "  X, y = list(), list()\n",
        "\n",
        "  for window_start in range(len(series)):\n",
        "    past_end = window_start + window\n",
        "    future_end = past_end + future\n",
        "    if future_end > len(series):\n",
        "      break\n",
        "    _past, _future = series[window_start:past_end, :], series[past_end:future_end, :]\n",
        "    X.append(_past)\n",
        "    y.append(_future)\n",
        "  return np.array(X), np.array(y)"
      ],
      "execution_count": null,
      "outputs": []
    },
    {
      "cell_type": "code",
      "metadata": {
        "colab": {
          "base_uri": "https://localhost:8080/"
        },
        "id": "zyI0G_VRh13d",
        "outputId": "7ed7a024-ef0b-460a-fcb0-e55494d8e72e"
      },
      "source": [
        "data.shape\n",
        "plt.plot(data[:,444],label = 'Actual')\n",
        "plt.show"
      ],
      "execution_count": null,
      "outputs": [
        {
          "output_type": "execute_result",
          "data": {
            "text/plain": [
              "<function matplotlib.pyplot.show>"
            ]
          },
          "metadata": {
            "tags": []
          },
          "execution_count": 8
        },
        {
          "output_type": "display_data",
          "data": {
            "image/png": "[encoded data removed]",
            "text/plain": [
              "<Figure size 432x288 with 1 Axes>"
            ]
          },
          "metadata": {
            "tags": [],
            "needs_background": "light"
          }
        }
      ]
    },
    {
      "cell_type": "code",
      "metadata": {
        "id": "h_GYZ50gb-kw"
      },
      "source": [
        "data = data[75:]"
      ],
      "execution_count": null,
      "outputs": []
    },
    {
      "cell_type": "code",
      "metadata": {
        "id": "NSduWkHRjN2u"
      },
      "source": [
        "ds = data[:,split['Maharashtra'][0]:split['Maharashtra'][1]]"
      ],
      "execution_count": null,
      "outputs": []
    },
    {
      "cell_type": "code",
      "metadata": {
        "colab": {
          "base_uri": "https://localhost:8080/"
        },
        "id": "C5u6LG4oj6XH",
        "outputId": "b740832f-c3e8-4e71-e644-0d343f0a5a8e"
      },
      "source": [
        "from sklearn.preprocessing import MinMaxScaler\n",
        "\n",
        "scalers = {}\n",
        "\n",
        "for i in range(ds.shape[1]):\n",
        "  scale = MinMaxScaler(feature_range=(0,1))\n",
        "  s = scale.fit_transform(ds[:,i].reshape(-1,1))\n",
        "  ds[:,i] = s.reshape(len(ds))\n",
        "  scalers['scaler_'+ str(i)] = scale\n",
        "len(scalers)"
      ],
      "execution_count": null,
      "outputs": [
        {
          "output_type": "execute_result",
          "data": {
            "text/plain": [
              "36"
            ]
          },
          "metadata": {
            "tags": []
          },
          "execution_count": 11
        }
      ]
    },
    {
      "cell_type": "code",
      "metadata": {
        "colab": {
          "base_uri": "https://localhost:8080/"
        },
        "id": "XYVWVkbWiy7t",
        "outputId": "cfcb2108-62bc-4d6e-f7d4-dc0e2ec13805"
      },
      "source": [
        "window = 21\n",
        "future = 7\n",
        "num_features = ds.shape[1]\n",
        "\n",
        "X_ds, y_ds = Dataset(ds,window,future)\n",
        "print(X_ds.shape,\",\",y_ds.shape)"
      ],
      "execution_count": null,
      "outputs": [
        {
          "output_type": "stream",
          "text": [
            "(255, 21, 36) , (255, 7, 36)\n"
          ],
          "name": "stdout"
        }
      ]
    },
    {
      "cell_type": "code",
      "metadata": {
        "colab": {
          "base_uri": "https://localhost:8080/"
        },
        "id": "B4pHtm9lpiQ0",
        "outputId": "59c4df2a-e045-419d-ca71-cba16a380893"
      },
      "source": [
        "def seqSplit(data, label, split):\n",
        "  '''\n",
        "  Windowed data of shape: (Num_Samples, Window, Features)\n",
        "  '''\n",
        "  X_train = []\n",
        "  X_test = []\n",
        "  y_train = []\n",
        "  y_test = []\n",
        "\n",
        "  for i in range(data.shape[0]):\n",
        "    _data = data[i,:,:]\n",
        "    _label = label[i,:,:]\n",
        "    if i % split == 0:\n",
        "      X_test.append(_data)\n",
        "      y_test.append(_label)\n",
        "    else:\n",
        "      X_train.append(_data)\n",
        "      y_train.append(_label)\n",
        "\n",
        "  return np.asarray(X_train), np.asarray(X_test), np.asarray(y_train), np.asarray(y_test)\n",
        "\n",
        "X_train, X_test, y_train, y_test = seqSplit(X_ds, y_ds, 4)\n",
        "\n",
        "print(X_train.shape,y_train.shape)\n",
        "print(X_test.shape,y_test.shape)"
      ],
      "execution_count": null,
      "outputs": [
        {
          "output_type": "stream",
          "text": [
            "(191, 21, 36) (191, 7, 36)\n",
            "(64, 21, 36) (64, 7, 36)\n"
          ],
          "name": "stdout"
        }
      ]
    },
    {
      "cell_type": "code",
      "metadata": {
        "id": "TMfnaufvkJwJ"
      },
      "source": [
        "# from sklearn.model_selection import train_test_split\n",
        "# X_train, X_test, y_train, y_test = train_test_split(X_ds, y_ds, test_size=0.2, random_state=125678)\n",
        "\n",
        "# print(X_train.shape,\",\",y_train.shape)\n",
        "# print(X_test.shape,\",\",y_test.shape)"
      ],
      "execution_count": null,
      "outputs": []
    },
    {
      "cell_type": "code",
      "metadata": {
        "id": "13Oqf75gJFTU"
      },
      "source": [
        "# ctg = int(data.shape[1]/4) \n",
        "\n",
        "# split_time = 200\n",
        "# train, test = data[:split_time,:13], data[split_time:,:13]\n",
        "# print(train.shape)\n",
        "# print(test.shape)\n",
        "\n",
        "# from sklearn.preprocessing import MinMaxScaler\n",
        "\n",
        "# scalers = {}\n",
        "# for i in range(train.shape[1]):\n",
        "#   scale = MinMaxScaler(feature_range=(0,1))\n",
        "#   s = scale.fit_transform(train[:,i].reshape(-1,1))\n",
        "#   train[:,i] = s.reshape(len(train))\n",
        "#   scalers['scaler_'+ str(i)] = scale\n",
        "  \n",
        "# for i in range(train.shape[1]):\n",
        "#   scale = scalers['scaler_'+ str(i)]\n",
        "#   s = scale.transform(test[:,i].reshape(-1,1))\n",
        "#   test[:,i] = s.reshape(len(test))\n",
        "\n",
        "# window = 14\n",
        "# future = 7\n",
        "# num_features = data.shape[1]\n",
        "\n",
        "# X_train, y_train = Dataset(train,window,future)\n",
        "# X_test, y_test = Dataset(test,window,future)\n",
        "\n",
        "# print(X_train.shape,y_train.shape)\n",
        "# print(X_test.shape,y_test.shape)"
      ],
      "execution_count": null,
      "outputs": []
    },
    {
      "cell_type": "code",
      "metadata": {
        "id": "1I5NQ-YjFB85"
      },
      "source": [
        "X_train = torch.from_numpy(X_train.astype('float32'))\n",
        "X_test = torch.from_numpy(X_test.astype('float32'))\n",
        "y_train = torch.from_numpy(y_train.astype('float32'))\n",
        "y_test = torch.from_numpy(y_test.astype('float32'))"
      ],
      "execution_count": null,
      "outputs": []
    },
    {
      "cell_type": "code",
      "metadata": {
        "id": "qIF0Zsh-gxlq"
      },
      "source": [
        "DEVICE = torch.device('cuda' if torch.cuda.is_available() else 'cpu')"
      ],
      "execution_count": null,
      "outputs": []
    },
    {
      "cell_type": "code",
      "metadata": {
        "id": "mcLbXzJhgzjL"
      },
      "source": [
        "X_train = X_train.to(DEVICE)\n",
        "X_test = X_test.to(DEVICE)\n",
        "y_train = y_train.to(DEVICE)\n",
        "y_test = y_test.to(DEVICE)"
      ],
      "execution_count": null,
      "outputs": []
    },
    {
      "cell_type": "code",
      "metadata": {
        "colab": {
          "base_uri": "https://localhost:8080/"
        },
        "id": "XUnspetupqIo",
        "outputId": "b16cd470-2215-4323-cd97-02d93c08b547"
      },
      "source": [
        "torch.autograd.set_detect_anomaly(True) "
      ],
      "execution_count": null,
      "outputs": [
        {
          "output_type": "execute_result",
          "data": {
            "text/plain": [
              "<torch.autograd.anomaly_mode.set_detect_anomaly at 0x7faa65977e50>"
            ]
          },
          "metadata": {
            "tags": []
          },
          "execution_count": 19
        }
      ]
    },
    {
      "cell_type": "markdown",
      "metadata": {
        "id": "lT1Y3Dap86CC"
      },
      "source": [
        "# Encoder Decoder"
      ]
    },
    {
      "cell_type": "markdown",
      "metadata": {
        "id": "tLeW3g2cTN1v"
      },
      "source": [
        "## Model Code"
      ]
    },
    {
      "cell_type": "code",
      "metadata": {
        "id": "blADKxdWLs5X"
      },
      "source": [
        "class PeepholeGRU(nn.Module):\n",
        "    \"\"\"A Gated Recurrent Unit (GRU) cell with peepholes.\"\"\"\n",
        " \n",
        "    def __init__(\n",
        "        self, input_dim, hidden_dim, n_layers=1,\n",
        "        dropout=0., batch_first=True\n",
        "    ):\n",
        "        \"\"\"Initialize params.\"\"\"\n",
        "        super(PeepholeGRU, self).__init__()\n",
        "        self.input_dim = input_dim\n",
        "        self.hidden_dim = hidden_dim\n",
        "        self.num_layers = 1\n",
        " \n",
        "        self.input_weights = nn.Linear(self.input_dim, 3 * self.hidden_dim)\n",
        "        self.hidden_weights = nn.Linear(self.hidden_dim, 3 * self.hidden_dim)\n",
        "        self.peep_weights = nn.Linear(self.hidden_dim, 3 * self.hidden_dim)\n",
        " \n",
        "        self.reset_parameters()\n",
        " \n",
        "    def reset_parameters(self):\n",
        "        \"\"\"Set params.\"\"\"\n",
        "        stdv = 1.0 / math.sqrt(self.hidden_dim)\n",
        "        for weight in self.parameters():\n",
        "            weight.data.uniform_(-stdv, stdv)\n",
        " \n",
        "    def forward(self, input, hidden, ctx):\n",
        "        r\"\"\"Propogate input through the layer.\n",
        "        inputs:\n",
        "        input   - batch size x target sequence length  x embedding dimension\n",
        "        hidden  - batch size x hidden dimension\n",
        "        ctx     - batch size x hidden dimension\n",
        "        returns: output, hidden\n",
        "        output  - batch size x target sequence length  x hidden dimension\n",
        "        hidden  - batch size x hidden dimension\n",
        "        \"\"\"\n",
        "        def recurrence(input, hidden, ctx):\n",
        "            \"\"\"Recurrence helper.\"\"\"\n",
        "            input_gate = self.input_weights(input)\n",
        "            hidden_gate = self.hidden_weights(hidden)\n",
        "            peep_gate = self.peep_weights(ctx)\n",
        "            i_r, i_i, i_n = input_gate.chunk(3, 1)\n",
        "            h_r, h_i, h_n = hidden_gate.chunk(3, 1)\n",
        "            p_r, p_i, p_n = peep_gate.chunk(3, 1)\n",
        "            resetgate = F.sigmoid(i_r + h_r + p_r)\n",
        "            inputgate = F.sigmoid(i_i + h_i + p_i)\n",
        "            newgate = F.tanh(i_n + resetgate * h_n + p_n)\n",
        "            hy = newgate + inputgate * (hidden - newgate)\n",
        " \n",
        "            return hy\n",
        " \n",
        "        input = input.transpose(0, 1)\n",
        " \n",
        "        output = []\n",
        "        steps = range(input.size(0))\n",
        "        for i in steps:\n",
        "            hidden = recurrence(input[i], hidden, ctx)\n",
        "            if isinstance(hidden, tuple):\n",
        "                output.append(hidden[0])\n",
        "            else:\n",
        "                output.append(hidden)\n",
        " \n",
        "        output = torch.cat(output, 0).view(input.size(0), *output[0].size())\n",
        "        output = output.transpose(0, 1)\n",
        "        return output, hidden"
      ],
      "execution_count": null,
      "outputs": []
    },
    {
      "cell_type": "code",
      "metadata": {
        "id": "3-q4scJeDQs2"
      },
      "source": [
        "def mean_absolute_percentage_error(y_true, y_pred):\n",
        "    y_true, y_pred = np.array(y_true), np.array(y_pred)\n",
        "    return np.mean(np.abs((y_true - y_pred) / (y_true + 1e-8))) * 100"
      ],
      "execution_count": null,
      "outputs": []
    },
    {
      "cell_type": "code",
      "metadata": {
        "id": "zIpapgvm890H"
      },
      "source": [
        "class Encoder(nn.Module):\n",
        "  def __init__(self,input_size,hidden_size,dropout):\n",
        "    super(Encoder,self).__init__()\n",
        "    self.input_size = input_size\n",
        "    self.hidden_size = hidden_size\n",
        "    self.drop = dropout\n",
        "\n",
        "    self.lstm = PeepholeGRU(self.input_size,self.hidden_size,\n",
        "                        dropout=self.drop,batch_first=True)\n",
        "\n",
        "  def forward(self, input, hidden, ctx):\n",
        "    outputs, hidden= self.lstm(input, hidden, ctx)\n",
        "    return hidden;\n",
        "\n",
        "\n",
        "class Decoder(nn.Module):\n",
        "  def __init__(self,input_size,hidden_size,output_size):    \n",
        "    super(Decoder,self).__init__()\n",
        "    self.input_size = input_size\n",
        "    self.hidden_size = hidden_size\n",
        "    self.output_size = output_size\n",
        "\n",
        "    self.grucell = nn.GRUCell(self.input_size,self.hidden_size)\n",
        "    self.fc = nn.Linear(self.hidden_size,self.output_size)\n",
        "\n",
        "  def forward(self, x, hidden):\n",
        "    hidden = self.grucell(x, hidden)\n",
        "    out = self.fc(hidden)\n",
        "    return out, hidden\n",
        "\n",
        "\n",
        "class EncoderDecoderWrapper(nn.Module):\n",
        "  def __init__(self, encoder, decoder, steps, output_size, hidden_size):\n",
        "    super(EncoderDecoderWrapper,self).__init__()\n",
        "    self.output_size = output_size\n",
        "    self.hidden_size = hidden_size\n",
        "    self.steps = steps\n",
        "\n",
        "    self.encoder = encoder\n",
        "    self.decoder = decoder\n",
        "\n",
        "  def forward(self, data, label, teacher_force):\n",
        "    batch_size = data.shape[0]\n",
        "    num_steps = self.steps\n",
        "    hidden = torch.zeros(batch_size,self.hidden_size).to(DEVICE)\n",
        "    ctx = torch.zeros(batch_size,self.hidden_size).to(DEVICE)\n",
        "    hidden = self.encoder(data,hidden,ctx)\n",
        "\n",
        "    multi_step_out = torch.zeros(batch_size, num_steps, self.output_size).to(DEVICE)\n",
        "    x = label[:,-1,:].view(batch_size,self.output_size)\n",
        "\n",
        "    for t in range(num_steps):\n",
        "      out, hidden = self.decoder(x, hidden)\n",
        "      multi_step_out[:,t,:] = out \n",
        "      x = label[:,t,:] if random.random() < teacher_force else out\n",
        "      \n",
        "    return multi_step_out"
      ],
      "execution_count": null,
      "outputs": []
    },
    {
      "cell_type": "code",
      "metadata": {
        "id": "HhjSQeKFTqKT"
      },
      "source": [
        "def NonAttentionModel(INPUT_SIZE=1, HIDDEN_SIZE=30, DROPOUT=0.0, \n",
        "                      DEVICE=torch.device('cpu'),OUTPUT_SIZE=1, STEPS=1):\n",
        "  encoder = Encoder(input_size=INPUT_SIZE,\n",
        "                  hidden_size=HIDDEN_SIZE,\n",
        "                  dropout=DROPOUT).to(DEVICE)\n",
        "\n",
        "  decoder = Decoder(input_size=INPUT_SIZE,\n",
        "                  hidden_size=HIDDEN_SIZE,\n",
        "                  output_size=OUTPUT_SIZE).to(DEVICE)\n",
        "\n",
        "  net = EncoderDecoderWrapper(encoder = encoder,\n",
        "                             decoder = decoder,\n",
        "                            hidden_size=HIDDEN_SIZE,\n",
        "                             output_size = OUTPUT_SIZE,\n",
        "                             steps = STEPS).to(DEVICE)\n",
        "  return net"
      ],
      "execution_count": null,
      "outputs": []
    },
    {
      "cell_type": "code",
      "metadata": {
        "id": "VEykByj4p8SF",
        "colab": {
          "base_uri": "https://localhost:8080/"
        },
        "outputId": "5a4ea656-2e13-4259-d4b1-aeee2b27750f"
      },
      "source": [
        "INPUT_SIZE = ds.shape[1]\n",
        "OUTPUT_SIZE = ds.shape[1]\n",
        "HIDDEN_SIZE = 120\n",
        "STEPS = future\n",
        "NUM_LAYERS = 5\n",
        "DROPOUT = 0.0\n",
        "BIDIRECTIONAL = True\n",
        "NUM_DIR = 2 if BIDIRECTIONAL == True else 1\n",
        "\n",
        "net = NonAttentionModel(INPUT_SIZE=INPUT_SIZE, HIDDEN_SIZE=HIDDEN_SIZE, \n",
        "                        DROPOUT=DROPOUT, DEVICE=DEVICE,\n",
        "                        OUTPUT_SIZE=OUTPUT_SIZE, STEPS=STEPS)\n",
        "\n",
        "print(net)"
      ],
      "execution_count": null,
      "outputs": [
        {
          "output_type": "stream",
          "text": [
            "EncoderDecoderWrapper(\n",
            "  (encoder): Encoder(\n",
            "    (lstm): PeepholeGRU(\n",
            "      (input_weights): Linear(in_features=36, out_features=360, bias=True)\n",
            "      (hidden_weights): Linear(in_features=120, out_features=360, bias=True)\n",
            "      (peep_weights): Linear(in_features=120, out_features=360, bias=True)\n",
            "    )\n",
            "  )\n",
            "  (decoder): Decoder(\n",
            "    (grucell): GRUCell(36, 120)\n",
            "    (fc): Linear(in_features=120, out_features=36, bias=True)\n",
            "  )\n",
            ")\n"
          ],
          "name": "stdout"
        }
      ]
    },
    {
      "cell_type": "code",
      "metadata": {
        "id": "zW8nbAd2CbDa"
      },
      "source": [
        "loss_function = nn.SmoothL1Loss()\n",
        "optimizer = opt.Adam(net.parameters(),lr=1e-3)\n",
        "scheduler = None #opt.lr_scheduler.StepLR(optimizer,300,0.5)"
      ],
      "execution_count": null,
      "outputs": []
    },
    {
      "cell_type": "markdown",
      "metadata": {
        "id": "9L3gQ2YxTQ_v"
      },
      "source": [
        "## Training"
      ]
    },
    {
      "cell_type": "code",
      "metadata": {
        "id": "40BzRbeDrVTO",
        "colab": {
          "base_uri": "https://localhost:8080/"
        },
        "outputId": "2e14d9db-7fa6-485b-a5a5-8240a09bdd68"
      },
      "source": [
        "net.train()\n",
        "EPOCH = 2500\n",
        "TEACHER_FORCE_RATIO = 0.5\n",
        "lossx = [i for i in range(EPOCH)]\n",
        "testx= [i for i in range(EPOCH)]\n",
        "lossy,testy= [],[]\n",
        "for epoch in range(EPOCH):\n",
        "    cumloss=0\n",
        "    testloss=0\n",
        "\n",
        "    net.zero_grad()\n",
        "    optimizer.zero_grad()\n",
        "    \n",
        "    out = net(X_train, y_train, TEACHER_FORCE_RATIO)\n",
        "    \n",
        "    loss=loss_function(out, y_train)\n",
        "    loss.backward()\n",
        "    mape_train = mean_absolute_percentage_error(out.to('cpu').detach().numpy(),y_train.to('cpu').detach().numpy())\n",
        "\n",
        "    nn.utils.clip_grad_value_(net.parameters(), clip_value=1.0)\n",
        "    optimizer.step()\n",
        "    if scheduler is not None:\n",
        "        scheduler.step()\n",
        "    \n",
        "    cumloss += float(loss.data)\n",
        "    lossy.append(cumloss)\n",
        "    net.eval()\n",
        "    with torch.no_grad():\n",
        "        out_test = net(X_test,y_test,TEACHER_FORCE_RATIO)\n",
        "        loss_test = loss_function(out_test, y_test)\n",
        "        testloss += float(loss_test.data)\n",
        "        mape_test = mean_absolute_percentage_error(out_test.to('cpu').detach().numpy(),y_test.to('cpu').detach().numpy())\n",
        "        testy.append(testloss)\n",
        "    net.train()\n",
        "\n",
        "    if (epoch+1) % 100 == 0:\n",
        "        print('Epoch:', epoch+1,'/', EPOCH, '| Training Loss:', cumloss, '| Test Loss:', testloss)\n",
        "        print('MAPE: (a) Train:', mape_train,' (b) Test:', mape_test )"
      ],
      "execution_count": null,
      "outputs": [
        {
          "output_type": "stream",
          "text": [
            "/usr/local/lib/python3.7/dist-packages/torch/nn/functional.py:1709: UserWarning: nn.functional.sigmoid is deprecated. Use torch.sigmoid instead.\n",
            "  warnings.warn(\"nn.functional.sigmoid is deprecated. Use torch.sigmoid instead.\")\n",
            "/usr/local/lib/python3.7/dist-packages/torch/nn/functional.py:1698: UserWarning: nn.functional.tanh is deprecated. Use torch.tanh instead.\n",
            "  warnings.warn(\"nn.functional.tanh is deprecated. Use torch.tanh instead.\")\n"
          ],
          "name": "stderr"
        },
        {
          "output_type": "stream",
          "text": [
            "Epoch: 100 / 2500 | Training Loss: 0.0025190471205860376 | Test Loss: 0.002526714699342847\n",
            "MAPE: (a) Train: 82.11541771888733  (b) Test: 92.26126074790955\n",
            "Epoch: 200 / 2500 | Training Loss: 0.0014615001855418086 | Test Loss: 0.00145263213198632\n",
            "MAPE: (a) Train: 84.58588123321533  (b) Test: 73.5590398311615\n",
            "Epoch: 300 / 2500 | Training Loss: 0.0009349709725938737 | Test Loss: 0.0009199280757457018\n",
            "MAPE: (a) Train: 220.1040506362915  (b) Test: 119.97299194335938\n",
            "Epoch: 400 / 2500 | Training Loss: 0.0006964835920371115 | Test Loss: 0.0007007875246927142\n",
            "MAPE: (a) Train: 77.9190182685852  (b) Test: 52.7238130569458\n",
            "Epoch: 500 / 2500 | Training Loss: 0.0006020218133926392 | Test Loss: 0.0006008560303598642\n",
            "MAPE: (a) Train: 94.14520859718323  (b) Test: 50.84766149520874\n",
            "Epoch: 600 / 2500 | Training Loss: 0.0005046360311098397 | Test Loss: 0.0005155038670636714\n",
            "MAPE: (a) Train: 97.2194492816925  (b) Test: 60.06321907043457\n",
            "Epoch: 700 / 2500 | Training Loss: 0.00045039705582894385 | Test Loss: 0.0004671343485824764\n",
            "MAPE: (a) Train: 94.30717825889587  (b) Test: 54.61965799331665\n",
            "Epoch: 800 / 2500 | Training Loss: 0.0004105506814084947 | Test Loss: 0.00042466112063266337\n",
            "MAPE: (a) Train: 46.40070199966431  (b) Test: 61.764055490493774\n",
            "Epoch: 900 / 2500 | Training Loss: 0.0003827204345725477 | Test Loss: 0.00040066393557935953\n",
            "MAPE: (a) Train: 35.640376806259155  (b) Test: 42.82454550266266\n",
            "Epoch: 1000 / 2500 | Training Loss: 0.0003600853669922799 | Test Loss: 0.00037290152977220714\n",
            "MAPE: (a) Train: 53.10125946998596  (b) Test: 38.268354535102844\n",
            "Epoch: 1100 / 2500 | Training Loss: 0.00034239364322274923 | Test Loss: 0.0003597149916458875\n",
            "MAPE: (a) Train: 39.36916887760162  (b) Test: 81.69506192207336\n",
            "Epoch: 1200 / 2500 | Training Loss: 0.0003232978342566639 | Test Loss: 0.00034108784166164696\n",
            "MAPE: (a) Train: 43.74546408653259  (b) Test: 35.34822165966034\n",
            "Epoch: 1300 / 2500 | Training Loss: 0.0003022695891559124 | Test Loss: 0.0003254838811699301\n",
            "MAPE: (a) Train: 34.314388036727905  (b) Test: 27.17311978340149\n",
            "Epoch: 1400 / 2500 | Training Loss: 0.0002986888575833291 | Test Loss: 0.00032024423126131296\n",
            "MAPE: (a) Train: 29.139116406440735  (b) Test: 27.28942334651947\n",
            "Epoch: 1500 / 2500 | Training Loss: 0.0002903354470618069 | Test Loss: 0.00030507962219417095\n",
            "MAPE: (a) Train: 44.10256743431091  (b) Test: 53.83985638618469\n",
            "Epoch: 1600 / 2500 | Training Loss: 0.0002711431297939271 | Test Loss: 0.00029456085758283734\n",
            "MAPE: (a) Train: 37.845444679260254  (b) Test: 25.579923391342163\n",
            "Epoch: 1700 / 2500 | Training Loss: 0.00026012604939751327 | Test Loss: 0.00028255832148715854\n",
            "MAPE: (a) Train: 34.46320593357086  (b) Test: 44.53759491443634\n",
            "Epoch: 1800 / 2500 | Training Loss: 0.0002469358150847256 | Test Loss: 0.00027420587139204144\n",
            "MAPE: (a) Train: 32.602307200431824  (b) Test: 30.53264021873474\n",
            "Epoch: 1900 / 2500 | Training Loss: 0.0004468649276532233 | Test Loss: 0.0006257337518036366\n",
            "MAPE: (a) Train: 75.89046955108643  (b) Test: 21.904519200325012\n",
            "Epoch: 2000 / 2500 | Training Loss: 0.00023448685533367097 | Test Loss: 0.000261393521213904\n",
            "MAPE: (a) Train: 36.020755767822266  (b) Test: 26.464247703552246\n",
            "Epoch: 2100 / 2500 | Training Loss: 0.00022638549853581935 | Test Loss: 0.0002537845284678042\n",
            "MAPE: (a) Train: 27.651432156562805  (b) Test: 35.35723090171814\n",
            "Epoch: 2200 / 2500 | Training Loss: 0.0002191890380345285 | Test Loss: 0.00024760287487879395\n",
            "MAPE: (a) Train: 36.20457053184509  (b) Test: 27.8115451335907\n",
            "Epoch: 2300 / 2500 | Training Loss: 0.0002129266067640856 | Test Loss: 0.0002446189464535564\n",
            "MAPE: (a) Train: 39.44368362426758  (b) Test: 27.700617909431458\n",
            "Epoch: 2400 / 2500 | Training Loss: 0.0002085335727315396 | Test Loss: 0.00023653368407394737\n",
            "MAPE: (a) Train: 28.854528069496155  (b) Test: 31.50891363620758\n",
            "Epoch: 2500 / 2500 | Training Loss: 0.0002010011812672019 | Test Loss: 0.00023551579215563834\n",
            "MAPE: (a) Train: 26.01795792579651  (b) Test: 38.74119818210602\n"
          ],
          "name": "stdout"
        }
      ]
    },
    {
      "cell_type": "markdown",
      "metadata": {
        "id": "oxQxgtt8DfTd"
      },
      "source": [
        "## Loss Plots"
      ]
    },
    {
      "cell_type": "code",
      "metadata": {
        "colab": {
          "base_uri": "https://localhost:8080/",
          "height": 282
        },
        "id": "2MG6i2pLDfT5",
        "outputId": "e860dbf6-801e-48c3-8e7f-ba84f4125c87"
      },
      "source": [
        "import matplotlib.pyplot as plt\n",
        "\n",
        "plt.plot(lossx,lossy,'r',label = 'Train')\n",
        "plt.plot(testx,testy,'b',label = 'Test')\n",
        "plt.legend()\n",
        "plt.show"
      ],
      "execution_count": null,
      "outputs": [
        {
          "output_type": "execute_result",
          "data": {
            "text/plain": [
              "<function matplotlib.pyplot.show>"
            ]
          },
          "metadata": {
            "tags": []
          },
          "execution_count": 83
        },
        {
          "output_type": "display_data",
          "data": {
            "image/png": "[encoded data removed]",
            "text/plain": [
              "<Figure size 432x288 with 1 Axes>"
            ]
          },
          "metadata": {
            "tags": [],
            "needs_background": "light"
          }
        }
      ]
    },
    {
      "cell_type": "code",
      "metadata": {
        "colab": {
          "base_uri": "https://localhost:8080/",
          "height": 282
        },
        "id": "xPKEdrHNDfT8",
        "outputId": "24bcec75-79c1-4da6-9214-c84c1e30c08c"
      },
      "source": [
        "import matplotlib.pyplot as plt\n",
        "\n",
        "plt.plot(lossx[-50:],lossy[-50:],'r',label = 'Train')\n",
        "plt.plot(testx[-50:],testy[-50:],'b',label = 'Test')\n",
        "plt.legend()\n",
        "plt.show"
      ],
      "execution_count": null,
      "outputs": [
        {
          "output_type": "execute_result",
          "data": {
            "text/plain": [
              "<function matplotlib.pyplot.show>"
            ]
          },
          "metadata": {
            "tags": []
          },
          "execution_count": 84
        },
        {
          "output_type": "display_data",
          "data": {
            "image/png": "[encoded data removed]",
            "text/plain": [
              "<Figure size 432x288 with 1 Axes>"
            ]
          },
          "metadata": {
            "tags": [],
            "needs_background": "light"
          }
        }
      ]
    },
    {
      "cell_type": "markdown",
      "metadata": {
        "id": "ow_uLMDWDfT-"
      },
      "source": [
        "## Baseline Loss"
      ]
    },
    {
      "cell_type": "code",
      "metadata": {
        "colab": {
          "base_uri": "https://localhost:8080/"
        },
        "id": "McmJrX2qDfT_",
        "outputId": "fe7e795a-99de-448a-b0ed-9065b15966db"
      },
      "source": [
        "net.eval()\n",
        "with torch.no_grad():\n",
        "  out = net(X_test, y_test, 0.5)\n",
        "  loss_val = loss_function(out, y_test)\n",
        "  print('Loss on Test: ',loss_val)"
      ],
      "execution_count": null,
      "outputs": [
        {
          "output_type": "stream",
          "text": [
            "Loss on Test:  tensor(0.0002, device='cuda:0')\n"
          ],
          "name": "stdout"
        },
        {
          "output_type": "stream",
          "text": [
            "/usr/local/lib/python3.7/dist-packages/torch/nn/functional.py:1709: UserWarning: nn.functional.sigmoid is deprecated. Use torch.sigmoid instead.\n",
            "  warnings.warn(\"nn.functional.sigmoid is deprecated. Use torch.sigmoid instead.\")\n",
            "/usr/local/lib/python3.7/dist-packages/torch/nn/functional.py:1698: UserWarning: nn.functional.tanh is deprecated. Use torch.tanh instead.\n",
            "  warnings.warn(\"nn.functional.tanh is deprecated. Use torch.tanh instead.\")\n"
          ],
          "name": "stderr"
        }
      ]
    },
    {
      "cell_type": "code",
      "metadata": {
        "colab": {
          "base_uri": "https://localhost:8080/"
        },
        "id": "k_IbEl0VDfUA",
        "outputId": "9c49d58e-8935-46c1-d24a-a6d672407c1a"
      },
      "source": [
        "mean_absolute_percentage_error(out.to('cpu').detach().numpy(),y_test.to('cpu').detach().numpy())"
      ],
      "execution_count": null,
      "outputs": [
        {
          "output_type": "execute_result",
          "data": {
            "text/plain": [
              "40.713146328926086"
            ]
          },
          "metadata": {
            "tags": []
          },
          "execution_count": 86
        }
      ]
    },
    {
      "cell_type": "code",
      "metadata": {
        "colab": {
          "base_uri": "https://localhost:8080/"
        },
        "id": "jYv9CqENDfUE",
        "outputId": "53a67ecf-f215-4cfa-c95a-57df897c58e9"
      },
      "source": [
        "net.eval()\n",
        "with torch.no_grad():\n",
        "  out1 = net(X_train, y_train, TEACHER_FORCE_RATIO)\n",
        "  loss_val1 = loss_function(out1, y_train)\n",
        "  print('Loss on Train: ',loss_val1)"
      ],
      "execution_count": null,
      "outputs": [
        {
          "output_type": "stream",
          "text": [
            "Loss on Train:  tensor(0.0002, device='cuda:0')\n"
          ],
          "name": "stdout"
        },
        {
          "output_type": "stream",
          "text": [
            "/usr/local/lib/python3.7/dist-packages/torch/nn/functional.py:1709: UserWarning: nn.functional.sigmoid is deprecated. Use torch.sigmoid instead.\n",
            "  warnings.warn(\"nn.functional.sigmoid is deprecated. Use torch.sigmoid instead.\")\n",
            "/usr/local/lib/python3.7/dist-packages/torch/nn/functional.py:1698: UserWarning: nn.functional.tanh is deprecated. Use torch.tanh instead.\n",
            "  warnings.warn(\"nn.functional.tanh is deprecated. Use torch.tanh instead.\")\n"
          ],
          "name": "stderr"
        }
      ]
    },
    {
      "cell_type": "code",
      "metadata": {
        "colab": {
          "base_uri": "https://localhost:8080/"
        },
        "id": "4bckGqm3DfUG",
        "outputId": "26156b52-fea3-4231-9933-85a07f2a72e7"
      },
      "source": [
        "mean_absolute_percentage_error(out1.to('cpu').detach().numpy(),y_train.to('cpu').detach().numpy())"
      ],
      "execution_count": null,
      "outputs": [
        {
          "output_type": "execute_result",
          "data": {
            "text/plain": [
              "35.5589359998703"
            ]
          },
          "metadata": {
            "tags": []
          },
          "execution_count": 88
        }
      ]
    },
    {
      "cell_type": "code",
      "metadata": {
        "colab": {
          "base_uri": "https://localhost:8080/"
        },
        "id": "qq7ODj0pDfUH",
        "outputId": "b52a0d1f-805f-4757-af64-a809aba0286f"
      },
      "source": [
        "net.eval()\n",
        "with torch.no_grad():\n",
        "  out_complete = net(torch.from_numpy(X_ds.astype('float32')).to(DEVICE), torch.from_numpy(y_ds.astype('float32')).to(DEVICE), TEACHER_FORCE_RATIO)\n",
        "  loss_complete = loss_function(out_complete, torch.from_numpy(y_ds.astype('float32')).to(DEVICE))\n",
        "  print('Loss on Complete: ',loss_val)"
      ],
      "execution_count": null,
      "outputs": [
        {
          "output_type": "stream",
          "text": [
            "Loss on Complete:  tensor(0.0002, device='cuda:0')\n"
          ],
          "name": "stdout"
        },
        {
          "output_type": "stream",
          "text": [
            "/usr/local/lib/python3.7/dist-packages/torch/nn/functional.py:1709: UserWarning: nn.functional.sigmoid is deprecated. Use torch.sigmoid instead.\n",
            "  warnings.warn(\"nn.functional.sigmoid is deprecated. Use torch.sigmoid instead.\")\n",
            "/usr/local/lib/python3.7/dist-packages/torch/nn/functional.py:1698: UserWarning: nn.functional.tanh is deprecated. Use torch.tanh instead.\n",
            "  warnings.warn(\"nn.functional.tanh is deprecated. Use torch.tanh instead.\")\n"
          ],
          "name": "stderr"
        }
      ]
    },
    {
      "cell_type": "code",
      "metadata": {
        "colab": {
          "base_uri": "https://localhost:8080/"
        },
        "id": "Lu0eSTj1DfUI",
        "outputId": "03d9f341-7d86-48be-cec6-e836d6c0e547"
      },
      "source": [
        "mean_absolute_percentage_error(out_complete.to('cpu').detach().numpy(),y_ds)"
      ],
      "execution_count": null,
      "outputs": [
        {
          "output_type": "execute_result",
          "data": {
            "text/plain": [
              "31.42374057793721"
            ]
          },
          "metadata": {
            "tags": []
          },
          "execution_count": 90
        }
      ]
    },
    {
      "cell_type": "code",
      "metadata": {
        "colab": {
          "base_uri": "https://localhost:8080/",
          "height": 298
        },
        "id": "LHQMyQikDfUJ",
        "outputId": "4bc03fcc-d348-40e4-b051-c93a14c408d8"
      },
      "source": [
        "i = 0                                                         # district number\n",
        "actual = X_ds[:,0,i]\n",
        "pred = out_complete.to('cpu').detach().numpy()[:,0,i]\n",
        "\n",
        "plt.plot(actual,label = 'Actual')\n",
        "plt.plot(pred,label = 'Predicted')\n",
        "plt.legend()\n",
        "plt.title('Time Series plot one district in Complete Set (Scaled)')\n",
        "plt.show"
      ],
      "execution_count": null,
      "outputs": [
        {
          "output_type": "execute_result",
          "data": {
            "text/plain": [
              "<function matplotlib.pyplot.show>"
            ]
          },
          "metadata": {
            "tags": []
          },
          "execution_count": 91
        },
        {
          "output_type": "display_data",
          "data": {
            "image/png": "[encoded data removed]",
            "text/plain": [
              "<Figure size 432x288 with 1 Axes>"
            ]
          },
          "metadata": {
            "tags": [],
            "needs_background": "light"
          }
        }
      ]
    },
    {
      "cell_type": "code",
      "metadata": {
        "colab": {
          "base_uri": "https://localhost:8080/",
          "height": 298
        },
        "id": "5Ian88H5DfUK",
        "outputId": "def46712-5c6f-43c6-f41d-d81c95a2b7b6"
      },
      "source": [
        "i = 0                                                                            # district number\n",
        "scale = scalers['scaler_'+ str(i)]\n",
        "actual = scale.inverse_transform(X_ds[:,0,i].reshape(-1,1))\n",
        "pred = scale.inverse_transform(out_complete.to('cpu').detach().numpy()[:,0,i].reshape(-1,1))\n",
        "\n",
        "plt.plot(actual,label = 'Actual')\n",
        "plt.plot(pred,label = 'Predicted')\n",
        "plt.legend()\n",
        "plt.title('Time Series plot one district in Complete Set (Unscaled)')\n",
        "plt.show"
      ],
      "execution_count": null,
      "outputs": [
        {
          "output_type": "execute_result",
          "data": {
            "text/plain": [
              "<function matplotlib.pyplot.show>"
            ]
          },
          "metadata": {
            "tags": []
          },
          "execution_count": 92
        },
        {
          "output_type": "display_data",
          "data": {
            "image/png": "[encoded data removed]",
            "text/plain": [
              "<Figure size 432x288 with 1 Axes>"
            ]
          },
          "metadata": {
            "tags": [],
            "needs_background": "light"
          }
        }
      ]
    },
    {
      "cell_type": "markdown",
      "metadata": {
        "id": "i68URmRR8F4h"
      },
      "source": [
        "# Attention Model"
      ]
    },
    {
      "cell_type": "markdown",
      "metadata": {
        "id": "46Vnh97PTHvL"
      },
      "source": [
        "## Model Code"
      ]
    },
    {
      "cell_type": "code",
      "metadata": {
        "id": "gNqI-mOYFO6P"
      },
      "source": [
        "class AttEncoder(nn.Module):\n",
        "  def __init__(self, input_size, hidden_size, num_layers, dropout):\n",
        "    super(AttEncoder,self).__init__()\n",
        "    self.input_size = input_size\n",
        "    self.hidden_size = hidden_size\n",
        "    self.num_layers = num_layers\n",
        "    self.drop = dropout\n",
        "\n",
        "    self.lstm = nn.LSTM(self.input_size,\n",
        "                        self.hidden_size,\n",
        "                        dropout=self.drop,\n",
        "                        bidirectional=True,\n",
        "                        batch_first=True)\n",
        "\n",
        "  def forward(self, data):\n",
        "    outputs, (hidden, cell) = self.lstm(data)\n",
        "    return outputs, hidden, cell;\n",
        "\n",
        "\n",
        "class AttDecoder(nn.Module):\n",
        "  def __init__(self,input_size,hidden_size,output_size):    \n",
        "    super(AttDecoder,self).__init__()\n",
        "    self.input_size = input_size\n",
        "    self.hidden_size = hidden_size \n",
        "    self.output_size = output_size\n",
        "\n",
        "    self.attention = nn.Linear(self.hidden_size*4, 1)\n",
        "    self.softmax = nn.Softmax(dim=0)\n",
        "    self.relu = nn.ReLU()\n",
        "\n",
        "    self.lstmcell = nn.LSTMCell(self.hidden_size*2 + self.output_size,self.hidden_size*2)\n",
        "    self.fc = nn.Linear(self.hidden_size*2,self.output_size)\n",
        "\n",
        "  def forward(self, x, encoder_states, hidden, cell):\n",
        "    seq_length = encoder_states.shape[1]\n",
        "    hidden_reshaped = hidden.repeat(seq_length, 1, 1).permute(1, 0, 2)\n",
        "\n",
        "    energy = self.attention(torch.cat((hidden_reshaped,encoder_states), dim=2))\n",
        "    energy = self.relu(energy)\n",
        "    attention = self.softmax(energy)\n",
        "\n",
        "    attention = attention.permute(0, 2, 1)\n",
        "\n",
        "    context = torch.bmm(attention, encoder_states).permute(1,0,2)\n",
        "    context = context.view(context.shape[1],context.shape[2])\n",
        "\n",
        "    input = torch.cat((context,x),dim=1)\n",
        "    hidden, cell = self.lstmcell(input, (hidden, cell))\n",
        "    out = self.fc(hidden)\n",
        "\n",
        "    return out, hidden\n",
        "\n",
        "\n",
        "class AttEncoderDecoderWrapper(nn.Module):\n",
        "  def __init__(self, encoder, decoder, output_size, steps):\n",
        "    super(AttEncoderDecoderWrapper,self).__init__()\n",
        "    self.output_size = output_size\n",
        "    self.steps = steps\n",
        "\n",
        "    self.encoder = encoder\n",
        "    self.decoder = decoder\n",
        "\n",
        "  def forward(self, data, label, teacher_force):\n",
        "    batch_size = data.shape[0]\n",
        "    num_steps = self.steps\n",
        "\n",
        "    encoder_states, hidden, cell = self.encoder(data)\n",
        "    hidden_size = hidden.shape[0]*hidden.shape[2]\n",
        "\n",
        "    hidden = hidden.permute(1,0,2).reshape(batch_size,hidden_size)\n",
        "    cell = cell.permute(1,0,2).reshape(batch_size,hidden_size)\n",
        "\n",
        "    multi_step_out = torch.zeros(batch_size, num_steps,self.output_size).to(DEVICE)\n",
        "    x = torch.rand(batch_size,self.output_size).to(DEVICE)\n",
        "\n",
        "    for t in range(num_steps):\n",
        "      out, hidden = self.decoder(x, encoder_states, hidden, cell)\n",
        "      multi_step_out[:,t,:] = out \n",
        "      x = label[:,t,:] if random.random() < teacher_force else out\n",
        "      \n",
        "    return multi_step_out\n",
        "  \n",
        "  def predict():\n",
        "    pass"
      ],
      "execution_count": null,
      "outputs": []
    },
    {
      "cell_type": "code",
      "metadata": {
        "id": "13f12MN3Dnw4"
      },
      "source": [
        "def AttentionModel(INPUT_SIZE=1, HIDDEN_SIZE=30, NUM_LAYERS=1, DROPOUT=0.0, \n",
        "                   DEVICE=torch.device('cpu'), OUTPUT_SIZE=1, STEPS=1):\n",
        "  \n",
        "  encoder = AttEncoder(input_size=INPUT_SIZE,\n",
        "                       hidden_size=HIDDEN_SIZE,\n",
        "                       num_layers=NUM_LAYERS,\n",
        "                       dropout=DROPOUT).to(DEVICE)\n",
        "\n",
        "  decoder = AttDecoder(input_size=INPUT_SIZE,\n",
        "                       hidden_size=HIDDEN_SIZE,\n",
        "                       output_size=OUTPUT_SIZE).to(DEVICE)\n",
        "\n",
        "  net = AttEncoderDecoderWrapper(encoder = encoder,\n",
        "                                 decoder = decoder,\n",
        "                                 output_size = OUTPUT_SIZE,\n",
        "                                 steps = STEPS).to(DEVICE)\n",
        "  return net"
      ],
      "execution_count": null,
      "outputs": []
    },
    {
      "cell_type": "code",
      "metadata": {
        "id": "R51miic1qaPC",
        "colab": {
          "base_uri": "https://localhost:8080/",
          "height": 229
        },
        "outputId": "5798c6ed-f5d9-410c-ad0e-1f3fb3aecbd0"
      },
      "source": [
        "INPUT_SIZE = ds.shape[1]\n",
        "OUTPUT_SIZE = ds.shape[1]\n",
        "HIDDEN_SIZE = 120\n",
        "STEPS = future\n",
        "NUM_LAYERS = 5\n",
        "DROPOUT = 0.0\n",
        "\n",
        "net = AttentionModel(INPUT_SIZE=INPUT_SIZE, HIDDEN_SIZE=HIDDEN_SIZE,\n",
        "            NUM_LAYERS=NUM_LAYERS, DROPOUT=DROPOUT, \n",
        "            DEVICE=DEVICE, OUTPUT_SIZE=OUTPUT_SIZE,\n",
        "            STEPS=STEPS)\n",
        "\n",
        "print(net)"
      ],
      "execution_count": null,
      "outputs": [
        {
          "output_type": "error",
          "ename": "NameError",
          "evalue": "ignored",
          "traceback": [
            "\u001b[0;31m---------------------------------------------------------------------------\u001b[0m",
            "\u001b[0;31mNameError\u001b[0m                                 Traceback (most recent call last)",
            "\u001b[0;32m<ipython-input-24-57920606cfde>\u001b[0m in \u001b[0;36m<module>\u001b[0;34m()\u001b[0m\n\u001b[1;32m      6\u001b[0m \u001b[0mDROPOUT\u001b[0m \u001b[0;34m=\u001b[0m \u001b[0;36m0.0\u001b[0m\u001b[0;34m\u001b[0m\u001b[0;34m\u001b[0m\u001b[0m\n\u001b[1;32m      7\u001b[0m \u001b[0;34m\u001b[0m\u001b[0m\n\u001b[0;32m----> 8\u001b[0;31m net = AttentionModel(INPUT_SIZE=INPUT_SIZE, HIDDEN_SIZE=HIDDEN_SIZE,\n\u001b[0m\u001b[1;32m      9\u001b[0m             \u001b[0mNUM_LAYERS\u001b[0m\u001b[0;34m=\u001b[0m\u001b[0mNUM_LAYERS\u001b[0m\u001b[0;34m,\u001b[0m \u001b[0mDROPOUT\u001b[0m\u001b[0;34m=\u001b[0m\u001b[0mDROPOUT\u001b[0m\u001b[0;34m,\u001b[0m\u001b[0;34m\u001b[0m\u001b[0;34m\u001b[0m\u001b[0m\n\u001b[1;32m     10\u001b[0m             \u001b[0mDEVICE\u001b[0m\u001b[0;34m=\u001b[0m\u001b[0mDEVICE\u001b[0m\u001b[0;34m,\u001b[0m \u001b[0mOUTPUT_SIZE\u001b[0m\u001b[0;34m=\u001b[0m\u001b[0mOUTPUT_SIZE\u001b[0m\u001b[0;34m,\u001b[0m\u001b[0;34m\u001b[0m\u001b[0;34m\u001b[0m\u001b[0m\n",
            "\u001b[0;31mNameError\u001b[0m: name 'AttentionModel' is not defined"
          ]
        }
      ]
    },
    {
      "cell_type": "code",
      "metadata": {
        "id": "Vvo51wAlDjb-"
      },
      "source": [
        "loss_function = nn.SmoothL1Loss()\n",
        "optimizer = opt.Adam(net.parameters(),lr=1e-4)\n",
        "scheduler = opt.lr_scheduler.StepLR(optimizer,300,0.5)"
      ],
      "execution_count": null,
      "outputs": []
    },
    {
      "cell_type": "markdown",
      "metadata": {
        "id": "YhVnIPiE8J1i"
      },
      "source": [
        "## Training"
      ]
    },
    {
      "cell_type": "code",
      "metadata": {
        "id": "4y7HU_i6vIdX"
      },
      "source": [
        "def mean_absolute_percentage_error(y_true, y_pred):\n",
        "    y_true, y_pred = np.array(y_true), np.array(y_pred)\n",
        "    return np.mean(np.abs((y_true - y_pred) / (y_true + 1e-8))) * 100"
      ],
      "execution_count": null,
      "outputs": []
    },
    {
      "cell_type": "code",
      "metadata": {
        "id": "_06G1tyoqaPF",
        "colab": {
          "base_uri": "https://localhost:8080/"
        },
        "outputId": "4a6ff9c8-ac71-4184-a027-aa3a2d28be6e"
      },
      "source": [
        "net.train()\n",
        "EPOCH = 1500\n",
        "TEACHER_FORCE_RATIO = 0.5\n",
        "lossx = [i for i in range(EPOCH)]\n",
        "testx= [i for i in range(EPOCH)]\n",
        "lossy,testy= [],[]\n",
        "for epoch in range(EPOCH):\n",
        "    cumloss=0\n",
        "    testloss=0\n",
        "\n",
        "    net.zero_grad()\n",
        "    optimizer.zero_grad()\n",
        "    \n",
        "    out = net(X_train, y_train, TEACHER_FORCE_RATIO)\n",
        "    \n",
        "    loss=loss_function(out, y_train)\n",
        "    loss.backward()\n",
        "    mape_train = mean_absolute_percentage_error(out.to('cpu').detach().numpy(),y_train.to('cpu').detach().numpy())\n",
        "\n",
        "    nn.utils.clip_grad_value_(net.parameters(), clip_value=1.0)\n",
        "    optimizer.step()\n",
        "    scheduler.step()\n",
        "    \n",
        "    cumloss += float(loss.data)\n",
        "    lossy.append(cumloss)\n",
        "    net.eval()\n",
        "    with torch.no_grad():\n",
        "        out_test = net(X_test,y_test,TEACHER_FORCE_RATIO)\n",
        "        loss_test = loss_function(out_test, y_test)\n",
        "        testloss += float(loss_test.data)\n",
        "        mape_test = mean_absolute_percentage_error(out_test.to('cpu').detach().numpy(),y_test.to('cpu').detach().numpy())\n",
        "        testy.append(testloss)\n",
        "    net.train()\n",
        "\n",
        "    if (epoch+1) % 100 == 0:\n",
        "        print('Epoch:', epoch+1,'/', EPOCH, '| Training Loss:', cumloss, '| Test Loss:', testloss)\n",
        "        print('MAPE: (a) Train:', mape_train,' (b) Test:', mape_test )"
      ],
      "execution_count": null,
      "outputs": [
        {
          "output_type": "stream",
          "text": [
            "Epoch: 100 / 1500 | Training Loss: 0.010509314946830273 | Test Loss: 0.011776355095207691\n",
            "MAPE: (a) Train: 61.50023341178894  (b) Test: 51.56714916229248\n",
            "Epoch: 200 / 1500 | Training Loss: 0.00430516991764307 | Test Loss: 0.00530994450673461\n",
            "MAPE: (a) Train: 44.83952820301056  (b) Test: 39.76476490497589\n",
            "Epoch: 300 / 1500 | Training Loss: 0.0025350330397486687 | Test Loss: 0.003933407366275787\n",
            "MAPE: (a) Train: 79.12338376045227  (b) Test: 132.82325267791748\n",
            "Epoch: 400 / 1500 | Training Loss: 0.0021190280094742775 | Test Loss: 0.003630787367001176\n",
            "MAPE: (a) Train: 60.261768102645874  (b) Test: 53.18670868873596\n",
            "Epoch: 500 / 1500 | Training Loss: 0.0017913818592205644 | Test Loss: 0.0034226200077682734\n",
            "MAPE: (a) Train: 78.33452224731445  (b) Test: 57.53931403160095\n",
            "Epoch: 600 / 1500 | Training Loss: 0.0015094480477273464 | Test Loss: 0.003317669965326786\n",
            "MAPE: (a) Train: 214.13865089416504  (b) Test: 87.1938943862915\n",
            "Epoch: 700 / 1500 | Training Loss: 0.0014124871231615543 | Test Loss: 0.0033377925865352154\n",
            "MAPE: (a) Train: 59.225523471832275  (b) Test: 146.2669849395752\n",
            "Epoch: 800 / 1500 | Training Loss: 0.0012931318487972021 | Test Loss: 0.0033498345874249935\n",
            "MAPE: (a) Train: 51.3894259929657  (b) Test: 73.75767827033997\n",
            "Epoch: 900 / 1500 | Training Loss: 0.0011778358602896333 | Test Loss: 0.003438396379351616\n",
            "MAPE: (a) Train: 64.50175642967224  (b) Test: 63.67347836494446\n",
            "Epoch: 1000 / 1500 | Training Loss: 0.0011333944275975227 | Test Loss: 0.0034821091685444117\n",
            "MAPE: (a) Train: 126.02777481079102  (b) Test: 76.90039873123169\n",
            "Epoch: 1100 / 1500 | Training Loss: 0.00109066441655159 | Test Loss: 0.0033849934116005898\n",
            "MAPE: (a) Train: 251.98681354522705  (b) Test: 202.05013751983643\n",
            "Epoch: 1200 / 1500 | Training Loss: 0.0010461776982992887 | Test Loss: 0.0035044525284320116\n",
            "MAPE: (a) Train: 86.36394739151001  (b) Test: 242.91534423828125\n",
            "Epoch: 1300 / 1500 | Training Loss: 0.0010247793979942799 | Test Loss: 0.00357049354352057\n",
            "MAPE: (a) Train: 101.6325831413269  (b) Test: 88.61550688743591\n",
            "Epoch: 1400 / 1500 | Training Loss: 0.0010099182836711407 | Test Loss: 0.0036123027093708515\n",
            "MAPE: (a) Train: 83.74276161193848  (b) Test: 119.34323310852051\n",
            "Epoch: 1500 / 1500 | Training Loss: 0.000986016122624278 | Test Loss: 0.0035725957714021206\n",
            "MAPE: (a) Train: 137.3875617980957  (b) Test: 76.57819986343384\n"
          ],
          "name": "stdout"
        }
      ]
    },
    {
      "cell_type": "markdown",
      "metadata": {
        "id": "A3yazXmT8MCe"
      },
      "source": [
        "## Loss Plots"
      ]
    },
    {
      "cell_type": "code",
      "metadata": {
        "id": "qr6RSeqgqaPH",
        "colab": {
          "base_uri": "https://localhost:8080/",
          "height": 282
        },
        "outputId": "49ddfd83-06c2-4c3b-9a4c-694c45358995"
      },
      "source": [
        "import matplotlib.pyplot as plt\n",
        "\n",
        "plt.plot(lossx,lossy,'r',label = 'Train')\n",
        "plt.plot(testx,testy,'b',label = 'Test')\n",
        "plt.legend()\n",
        "plt.show"
      ],
      "execution_count": null,
      "outputs": [
        {
          "output_type": "execute_result",
          "data": {
            "text/plain": [
              "<function matplotlib.pyplot.show>"
            ]
          },
          "metadata": {
            "tags": []
          },
          "execution_count": 37
        },
        {
          "output_type": "display_data",
          "data": {
            "image/png": "[encoded data removed]",
            "text/plain": [
              "<Figure size 432x288 with 1 Axes>"
            ]
          },
          "metadata": {
            "tags": [],
            "needs_background": "light"
          }
        }
      ]
    },
    {
      "cell_type": "code",
      "metadata": {
        "id": "xI3Q3Midh81E",
        "colab": {
          "base_uri": "https://localhost:8080/",
          "height": 282
        },
        "outputId": "eba0650a-280b-425a-a404-03c6c887c580"
      },
      "source": [
        "import matplotlib.pyplot as plt\n",
        "\n",
        "plt.plot(lossx[-50:],lossy[-50:],'r',label = 'Train')\n",
        "plt.plot(testx[-50:],testy[-50:],'b',label = 'Test')\n",
        "plt.legend()\n",
        "plt.show"
      ],
      "execution_count": null,
      "outputs": [
        {
          "output_type": "execute_result",
          "data": {
            "text/plain": [
              "<function matplotlib.pyplot.show>"
            ]
          },
          "metadata": {
            "tags": []
          },
          "execution_count": 38
        },
        {
          "output_type": "display_data",
          "data": {
            "image/png": "[encoded data removed]",
            "text/plain": [
              "<Figure size 432x288 with 1 Axes>"
            ]
          },
          "metadata": {
            "tags": [],
            "needs_background": "light"
          }
        }
      ]
    },
    {
      "cell_type": "markdown",
      "metadata": {
        "id": "ImeHY0ni8PCp"
      },
      "source": [
        "## Baseline Loss"
      ]
    },
    {
      "cell_type": "code",
      "metadata": {
        "id": "JyJMYucNqaPI",
        "colab": {
          "base_uri": "https://localhost:8080/"
        },
        "outputId": "91720f21-6a98-4f6d-d16e-124253af6b8d"
      },
      "source": [
        "net.eval()\n",
        "with torch.no_grad():\n",
        "  out = net(X_test, y_test, 0.5)\n",
        "  loss_val = loss_function(out, y_test)\n",
        "  print('Loss on Test: ',loss_val)"
      ],
      "execution_count": null,
      "outputs": [
        {
          "output_type": "stream",
          "text": [
            "Loss on Test:  tensor(0.0037, device='cuda:0')\n"
          ],
          "name": "stdout"
        }
      ]
    },
    {
      "cell_type": "code",
      "metadata": {
        "colab": {
          "base_uri": "https://localhost:8080/"
        },
        "id": "dnzd5wKtE7XG",
        "outputId": "31240e0a-3f79-4f7b-cab5-cefc72477590"
      },
      "source": [
        "mean_absolute_percentage_error(out.to('cpu').detach().numpy(),y_test.to('cpu').detach().numpy())"
      ],
      "execution_count": null,
      "outputs": [
        {
          "output_type": "execute_result",
          "data": {
            "text/plain": [
              "98.83033633232117"
            ]
          },
          "metadata": {
            "tags": []
          },
          "execution_count": 40
        }
      ]
    },
    {
      "cell_type": "code",
      "metadata": {
        "colab": {
          "base_uri": "https://localhost:8080/"
        },
        "id": "bGmkOgYzE_U8",
        "outputId": "109d13eb-f9d5-4810-e8ba-35dd032fc80a"
      },
      "source": [
        "net.eval()\n",
        "with torch.no_grad():\n",
        "  out1 = net(X_train, y_train, TEACHER_FORCE_RATIO)\n",
        "  loss_val1 = loss_function(out1, y_train)\n",
        "  print('Loss on Train: ',loss_val1)"
      ],
      "execution_count": null,
      "outputs": [
        {
          "output_type": "stream",
          "text": [
            "Loss on Train:  tensor(0.0010, device='cuda:0')\n"
          ],
          "name": "stdout"
        }
      ]
    },
    {
      "cell_type": "code",
      "metadata": {
        "colab": {
          "base_uri": "https://localhost:8080/"
        },
        "id": "rHoCV17JIOcj",
        "outputId": "ec146ef9-5558-437d-ae70-7516881a507f"
      },
      "source": [
        "mean_absolute_percentage_error(out1.to('cpu').detach().numpy(),y_train.to('cpu').detach().numpy())"
      ],
      "execution_count": null,
      "outputs": [
        {
          "output_type": "execute_result",
          "data": {
            "text/plain": [
              "81.95444941520691"
            ]
          },
          "metadata": {
            "tags": []
          },
          "execution_count": 42
        }
      ]
    },
    {
      "cell_type": "code",
      "metadata": {
        "colab": {
          "base_uri": "https://localhost:8080/"
        },
        "id": "hiNQoICFnrTd",
        "outputId": "27194406-c35a-422b-f2c3-86d3938f0adc"
      },
      "source": [
        "net.eval()\n",
        "with torch.no_grad():\n",
        "  out_complete = net(torch.from_numpy(X_ds.astype('float32')).to(DEVICE), torch.from_numpy(y_ds.astype('float32')).to(DEVICE), TEACHER_FORCE_RATIO)\n",
        "  loss_complete = loss_function(out_complete, torch.from_numpy(y_ds.astype('float32')).to(DEVICE))\n",
        "  print('Loss on Complete: ',loss_val)"
      ],
      "execution_count": null,
      "outputs": [
        {
          "output_type": "stream",
          "text": [
            "Loss on Complete:  tensor(0.0037, device='cuda:0')\n"
          ],
          "name": "stdout"
        }
      ]
    },
    {
      "cell_type": "code",
      "metadata": {
        "colab": {
          "base_uri": "https://localhost:8080/"
        },
        "id": "43pJTdvmtI0r",
        "outputId": "2515b851-d7e2-4717-d78a-f4d6182afc63"
      },
      "source": [
        "mean_absolute_percentage_error(out_complete.to('cpu').detach().numpy(),y_ds)"
      ],
      "execution_count": null,
      "outputs": [
        {
          "output_type": "execute_result",
          "data": {
            "text/plain": [
              "734.0443223773771"
            ]
          },
          "metadata": {
            "tags": []
          },
          "execution_count": 44
        }
      ]
    },
    {
      "cell_type": "code",
      "metadata": {
        "id": "F0a1uD0TISDx",
        "colab": {
          "base_uri": "https://localhost:8080/",
          "height": 298
        },
        "outputId": "da09dd85-71ee-44af-a00e-039108c88833"
      },
      "source": [
        "i = 0                                                         # district number\n",
        "actual = X_ds[:,0,i]\n",
        "pred = out_complete.to('cpu').detach().numpy()[:,0,i]\n",
        "\n",
        "plt.plot(actual,label = 'Actual')\n",
        "plt.plot(pred,label = 'Predicted')\n",
        "plt.legend()\n",
        "plt.title('Time Series plot one district in Complete Set (Scaled)')\n",
        "plt.show"
      ],
      "execution_count": null,
      "outputs": [
        {
          "output_type": "execute_result",
          "data": {
            "text/plain": [
              "<function matplotlib.pyplot.show>"
            ]
          },
          "metadata": {
            "tags": []
          },
          "execution_count": 45
        },
        {
          "output_type": "display_data",
          "data": {
            "image/png": "[encoded data removed]",
            "text/plain": [
              "<Figure size 432x288 with 1 Axes>"
            ]
          },
          "metadata": {
            "tags": [],
            "needs_background": "light"
          }
        }
      ]
    },
    {
      "cell_type": "code",
      "metadata": {
        "colab": {
          "base_uri": "https://localhost:8080/",
          "height": 298
        },
        "id": "JPd9ySpFcwET",
        "outputId": "fad88f97-53d2-4091-c040-dea2204535af"
      },
      "source": [
        "i = 0                                                                            # district number\n",
        "scale = scalers['scaler_'+ str(i)]\n",
        "actual = scale.inverse_transform(X_ds[:,0,i].reshape(-1,1))\n",
        "pred = scale.inverse_transform(out_complete.to('cpu').detach().numpy()[:,0,i].reshape(-1,1))\n",
        "\n",
        "plt.plot(actual,label = 'Actual')\n",
        "plt.plot(pred,label = 'Predicted')\n",
        "plt.legend()\n",
        "plt.title('Time Series plot one district in Complete Set (Unscaled)')\n",
        "plt.show"
      ],
      "execution_count": null,
      "outputs": [
        {
          "output_type": "execute_result",
          "data": {
            "text/plain": [
              "<function matplotlib.pyplot.show>"
            ]
          },
          "metadata": {
            "tags": []
          },
          "execution_count": 46
        },
        {
          "output_type": "display_data",
          "data": {
            "image/png": "[encoded data removed]",
            "text/plain": [
              "<Figure size 432x288 with 1 Axes>"
            ]
          },
          "metadata": {
            "tags": [],
            "needs_background": "light"
          }
        }
      ]
    }
  ]
}
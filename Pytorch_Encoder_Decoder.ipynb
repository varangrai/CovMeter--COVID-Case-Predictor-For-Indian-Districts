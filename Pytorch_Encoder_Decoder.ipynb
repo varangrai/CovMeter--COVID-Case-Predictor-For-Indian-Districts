{
  "nbformat": 4,
  "nbformat_minor": 0,
  "metadata": {
    "colab": {
      "name": "DST Encoder Decoder.ipynb",
      "provenance": []
    },
    "kernelspec": {
      "name": "python3",
      "display_name": "Python 3"
    },
    "accelerator": "GPU"
  },
  "cells": [
    {
      "cell_type": "markdown",
      "metadata": {
        "id": "GhnJUnnp74b2"
      },
      "source": [
        "# Loading and Mounting\n",
        "\n"
      ]
    },
    {
      "cell_type": "code",
      "metadata": {
        "id": "5wTEXTBAHjnN",
        "colab": {
          "base_uri": "https://localhost:8080/"
        },
        "outputId": "b0a2e63c-833d-49ff-d01a-8a432a361210"
      },
      "source": [
        "from google.colab import drive\n",
        "drive.mount('/gdrive')"
      ],
      "execution_count": null,
      "outputs": [
        {
          "output_type": "stream",
          "text": [
            "Mounted at /gdrive\n"
          ],
          "name": "stdout"
        }
      ]
    },
    {
      "cell_type": "code",
      "metadata": {
        "id": "NYCdJ4Zp84rs"
      },
      "source": [
        "import torch\n",
        "import torch.nn as nn \n",
        "import torch.optim as opt\n",
        "import torch.nn.functional as F\n",
        "from torch.autograd import Variable\n",
        "\n",
        "import numpy as np\n",
        "import pandas as pd\n",
        "import matplotlib.pyplot as plt\n",
        "import random"
      ],
      "execution_count": null,
      "outputs": []
    },
    {
      "cell_type": "markdown",
      "metadata": {
        "id": "EHNiLnoI8CbY"
      },
      "source": [
        "# Data"
      ]
    },
    {
      "cell_type": "code",
      "metadata": {
        "id": "rqlO1hmRF77r"
      },
      "source": [
        "# Active State dictionary\n",
        "# Feature: [start, end]\n",
        "split = {\n",
        "            'Andhra_Pradesh':[0,13],\n",
        "            'Arunachal_Pradesh':[13,38],\n",
        "            'Assam':[38,71],\n",
        "            'Bihar':[71,109],\n",
        "            'Chattisgarh':[109,137],\n",
        "            'Goa':[137,139],\n",
        "            'Gujarat':[139,172],\n",
        "            'Haryana':[172,194],\n",
        "            'Himanchal_Pradesh':[194,206],\n",
        "            'Jharkhand':[206,230],\n",
        "            'Karnataka':[230,260],\n",
        "            'Kerala':[260,274],\n",
        "            'Madhya_Pradesh':[274,329],\n",
        "            'Maharashtra':[329,365],\n",
        "            'Manipur':[365,381],\n",
        "            'Meghalaya':[381,392],\n",
        "            'Mizoram':[392,400],\n",
        "            'Nagaland':[400,412],\n",
        "            'Odisha':[412,442],\n",
        "            'Punjab':[442,464],\n",
        "            'Rajasthan':[464,497],\n",
        "            'Sikkim':[497,501],\n",
        "            'Tamil_Nadu':[501,539],\n",
        "            'Telangana':[539,572],\n",
        "            'Tripura':[572,580],\n",
        "            'Uttar_Pradesh':[580,655],\n",
        "            'Uttarakhand':[655,668],\n",
        "            'West_Bengal':[668,691],\n",
        "            'Andaman':[691,694],\n",
        "            'Chandigarh':[694,695],\n",
        "            'Daman':[695,698],\n",
        "            'Jammu':[698,718],\n",
        "            'Ladakh':[718,720],\n",
        "            'Lakshadweep':[720,721],\n",
        "            'Delhi':[721,732],\n",
        "            'Puducherry':[732,736]\n",
        "          }\n",
        "death_margin = 736\n",
        "recover_margin = 1472"
      ],
      "execution_count": null,
      "outputs": []
    },
    {
      "cell_type": "code",
      "metadata": {
        "id": "pct4vwGb-ae6"
      },
      "source": [
        "data = np.load('/gdrive/MyDrive/Trip-AID/3000varDataset.npy')"
      ],
      "execution_count": null,
      "outputs": []
    },
    {
      "cell_type": "code",
      "metadata": {
        "id": "EwDIcJld-f0o"
      },
      "source": [
        "data = np.transpose(data,(1,0))"
      ],
      "execution_count": null,
      "outputs": []
    },
    {
      "cell_type": "code",
      "metadata": {
        "colab": {
          "base_uri": "https://localhost:8080/"
        },
        "id": "SusK0nD8zTXd",
        "outputId": "94ea87fc-22f8-4967-d74a-79066d4c8f98"
      },
      "source": [
        "data.shape"
      ],
      "execution_count": null,
      "outputs": [
        {
          "output_type": "execute_result",
          "data": {
            "text/plain": [
              "(357, 2944)"
            ]
          },
          "metadata": {
            "tags": []
          },
          "execution_count": 6
        }
      ]
    },
    {
      "cell_type": "code",
      "metadata": {
        "id": "sbYouXJ0-1B4"
      },
      "source": [
        "def Dataset(series,window=7,future=7):\n",
        "  X, y = list(), list()\n",
        "\n",
        "  for window_start in range(len(series)):\n",
        "    past_end = window_start + window\n",
        "    future_end = past_end + future\n",
        "    if future_end > len(series):\n",
        "      break\n",
        "    _past, _future = series[window_start:past_end, :], series[past_end:future_end, :]\n",
        "    X.append(_past)\n",
        "    y.append(_future)\n",
        "  return np.array(X), np.array(y)"
      ],
      "execution_count": null,
      "outputs": []
    },
    {
      "cell_type": "code",
      "metadata": {
        "colab": {
          "base_uri": "https://localhost:8080/",
          "height": 282
        },
        "id": "zyI0G_VRh13d",
        "outputId": "02d698a4-c53b-47ff-93c5-b93124c28343"
      },
      "source": [
        "data.shape\n",
        "plt.plot(data[:,444],label = 'Actual')\n",
        "plt.show"
      ],
      "execution_count": null,
      "outputs": [
        {
          "output_type": "execute_result",
          "data": {
            "text/plain": [
              "<function matplotlib.pyplot.show>"
            ]
          },
          "metadata": {
            "tags": []
          },
          "execution_count": 8
        },
        {
          "output_type": "display_data",
          "data": {
            "image/png": "[encoded data removed]",
            "text/plain": [
              "<Figure size 432x288 with 1 Axes>"
            ]
          },
          "metadata": {
            "tags": [],
            "needs_background": "light"
          }
        }
      ]
    },
    {
      "cell_type": "code",
      "metadata": {
        "id": "h_GYZ50gb-kw"
      },
      "source": [
        "data = data[75:]"
      ],
      "execution_count": null,
      "outputs": []
    },
    {
      "cell_type": "code",
      "metadata": {
        "id": "NSduWkHRjN2u"
      },
      "source": [
        "ds = data[:,split['Gujarat'][0]:split['Gujarat'][1]]"
      ],
      "execution_count": null,
      "outputs": []
    },
    {
      "cell_type": "code",
      "metadata": {
        "colab": {
          "base_uri": "https://localhost:8080/",
          "height": 282
        },
        "id": "smRHS2tNuCDI",
        "outputId": "e3c01fe1-72fa-4c4c-90c1-e6634d2240eb"
      },
      "source": [
        "plt.plot(ds[:,0])"
      ],
      "execution_count": null,
      "outputs": [
        {
          "output_type": "execute_result",
          "data": {
            "text/plain": [
              "[<matplotlib.lines.Line2D at 0x7f2e6dcf5f50>]"
            ]
          },
          "metadata": {
            "tags": []
          },
          "execution_count": 31
        },
        {
          "output_type": "display_data",
          "data": {
            "image/png": "[encoded data removed]",
            "text/plain": [
              "<Figure size 432x288 with 1 Axes>"
            ]
          },
          "metadata": {
            "tags": [],
            "needs_background": "light"
          }
        }
      ]
    },
    {
      "cell_type": "code",
      "metadata": {
        "colab": {
          "base_uri": "https://localhost:8080/"
        },
        "id": "C5u6LG4oj6XH",
        "outputId": "61ded881-6608-4a17-dc9d-c912a2a61fbf"
      },
      "source": [
        "from sklearn.preprocessing import MinMaxScaler\n",
        "\n",
        "scalers = {}\n",
        "\n",
        "for i in range(ds.shape[1]):\n",
        "  scale = MinMaxScaler(feature_range=(0,1))\n",
        "  s = scale.fit_transform(ds[:,i].reshape(-1,1))\n",
        "  ds[:,i] = s.reshape(len(ds))\n",
        "  scalers['scaler_'+ str(i)] = scale\n",
        "len(scalers)"
      ],
      "execution_count": null,
      "outputs": [
        {
          "output_type": "execute_result",
          "data": {
            "text/plain": [
              "36"
            ]
          },
          "metadata": {
            "tags": []
          },
          "execution_count": 11
        }
      ]
    },
    {
      "cell_type": "code",
      "metadata": {
        "colab": {
          "base_uri": "https://localhost:8080/"
        },
        "id": "XYVWVkbWiy7t",
        "outputId": "7ab692cc-c0ad-400e-9fdb-eacbc4c5aa16"
      },
      "source": [
        "window = 21\n",
        "future = 7\n",
        "num_features = ds.shape[1]\n",
        "\n",
        "X_ds, y_ds = Dataset(ds,window,future)\n",
        "print(X_ds.shape,\",\",y_ds.shape)"
      ],
      "execution_count": null,
      "outputs": [
        {
          "output_type": "stream",
          "text": [
            "(255, 21, 36) , (255, 7, 36)\n"
          ],
          "name": "stdout"
        }
      ]
    },
    {
      "cell_type": "code",
      "metadata": {
        "colab": {
          "base_uri": "https://localhost:8080/"
        },
        "id": "B4pHtm9lpiQ0",
        "outputId": "4fc791b1-4ac0-4f26-a4b0-e461e09b7915"
      },
      "source": [
        "def seqSplit(data, label, split):\n",
        "  '''\n",
        "  Windowed data of shape: (Num_Samples, Window, Features)\n",
        "  '''\n",
        "  X_train = []\n",
        "  X_test = []\n",
        "  y_train = []\n",
        "  y_test = []\n",
        "\n",
        "  for i in range(data.shape[0]):\n",
        "    _data = data[i,:,:]\n",
        "    _label = label[i,:,:]\n",
        "    if i % split == 0:\n",
        "      X_test.append(_data)\n",
        "      y_test.append(_label)\n",
        "    else:\n",
        "      X_train.append(_data)\n",
        "      y_train.append(_label)\n",
        "\n",
        "  return np.asarray(X_train), np.asarray(X_test), np.asarray(y_train), np.asarray(y_test)\n",
        "\n",
        "X_train, X_test, y_train, y_test = seqSplit(X_ds, y_ds, 4)\n",
        "\n",
        "print(X_train.shape,y_train.shape)\n",
        "print(X_test.shape,y_test.shape)"
      ],
      "execution_count": null,
      "outputs": [
        {
          "output_type": "stream",
          "text": [
            "(191, 21, 36) (191, 7, 36)\n",
            "(64, 21, 36) (64, 7, 36)\n"
          ],
          "name": "stdout"
        }
      ]
    },
    {
      "cell_type": "code",
      "metadata": {
        "id": "TMfnaufvkJwJ"
      },
      "source": [
        "# from sklearn.model_selection import train_test_split\n",
        "# X_train, X_test, y_train, y_test = train_test_split(X_ds, y_ds, test_size=0.2, random_state=125678)\n",
        "\n",
        "# print(X_train.shape,\",\",y_train.shape)\n",
        "# print(X_test.shape,\",\",y_test.shape)"
      ],
      "execution_count": null,
      "outputs": []
    },
    {
      "cell_type": "code",
      "metadata": {
        "id": "13Oqf75gJFTU"
      },
      "source": [
        "# ctg = int(data.shape[1]/4) \n",
        "\n",
        "# split_time = 200\n",
        "# train, test = data[:split_time,:13], data[split_time:,:13]\n",
        "# print(train.shape)\n",
        "# print(test.shape)\n",
        "\n",
        "# from sklearn.preprocessing import MinMaxScaler\n",
        "\n",
        "# scalers = {}\n",
        "# for i in range(train.shape[1]):\n",
        "#   scale = MinMaxScaler(feature_range=(0,1))\n",
        "#   s = scale.fit_transform(train[:,i].reshape(-1,1))\n",
        "#   train[:,i] = s.reshape(len(train))\n",
        "#   scalers['scaler_'+ str(i)] = scale\n",
        "  \n",
        "# for i in range(train.shape[1]):\n",
        "#   scale = scalers['scaler_'+ str(i)]\n",
        "#   s = scale.transform(test[:,i].reshape(-1,1))\n",
        "#   test[:,i] = s.reshape(len(test))\n",
        "\n",
        "# window = 14\n",
        "# future = 7\n",
        "# num_features = data.shape[1]\n",
        "\n",
        "# X_train, y_train = Dataset(train,window,future)\n",
        "# X_test, y_test = Dataset(test,window,future)\n",
        "\n",
        "# print(X_train.shape,y_train.shape)\n",
        "# print(X_test.shape,y_test.shape)"
      ],
      "execution_count": null,
      "outputs": []
    },
    {
      "cell_type": "code",
      "metadata": {
        "id": "1I5NQ-YjFB85"
      },
      "source": [
        "X_train = torch.from_numpy(X_train.astype('float32'))\n",
        "X_test = torch.from_numpy(X_test.astype('float32'))\n",
        "y_train = torch.from_numpy(y_train.astype('float32'))\n",
        "y_test = torch.from_numpy(y_test.astype('float32'))"
      ],
      "execution_count": null,
      "outputs": []
    },
    {
      "cell_type": "code",
      "metadata": {
        "id": "qIF0Zsh-gxlq"
      },
      "source": [
        "DEVICE = torch.device('cuda' if torch.cuda.is_available() else 'cpu')"
      ],
      "execution_count": null,
      "outputs": []
    },
    {
      "cell_type": "code",
      "metadata": {
        "id": "mcLbXzJhgzjL"
      },
      "source": [
        "X_train = X_train.to(DEVICE)\n",
        "X_test = X_test.to(DEVICE)\n",
        "y_train = y_train.to(DEVICE)\n",
        "y_test = y_test.to(DEVICE)"
      ],
      "execution_count": null,
      "outputs": []
    },
    {
      "cell_type": "code",
      "metadata": {
        "colab": {
          "base_uri": "https://localhost:8080/"
        },
        "id": "XUnspetupqIo",
        "outputId": "1b493a35-1330-472d-ebda-b61efbc9b8ba"
      },
      "source": [
        "torch.autograd.set_detect_anomaly(True) "
      ],
      "execution_count": null,
      "outputs": [
        {
          "output_type": "execute_result",
          "data": {
            "text/plain": [
              "<torch.autograd.anomaly_mode.set_detect_anomaly at 0x7fa637d59e90>"
            ]
          },
          "metadata": {
            "tags": []
          },
          "execution_count": 17
        }
      ]
    },
    {
      "cell_type": "markdown",
      "metadata": {
        "id": "lT1Y3Dap86CC"
      },
      "source": [
        "# Encoder Decoder"
      ]
    },
    {
      "cell_type": "markdown",
      "metadata": {
        "id": "tLeW3g2cTN1v"
      },
      "source": [
        "## Model Code"
      ]
    },
    {
      "cell_type": "code",
      "metadata": {
        "id": "3-q4scJeDQs2"
      },
      "source": [
        "def mean_absolute_percentage_error(y_true, y_pred):\n",
        "    y_true, y_pred = np.array(y_true), np.array(y_pred)\n",
        "    return np.mean(np.abs((y_true - y_pred) / (y_true + 1e-8))) * 100"
      ],
      "execution_count": null,
      "outputs": []
    },
    {
      "cell_type": "code",
      "metadata": {
        "id": "zIpapgvm890H"
      },
      "source": [
        "class Encoder(nn.Module):\n",
        "  def __init__(self,input_size,hidden_size,num_layers,bidirectional,dropout):\n",
        "    super(Encoder,self).__init__()\n",
        "    self.input_size = input_size\n",
        "    self.hidden_size = hidden_size\n",
        "    self.num_layers = num_layers\n",
        "    self.bidirectional = bidirectional\n",
        "    self.drop = dropout\n",
        "\n",
        "    self.lstm = nn.LSTM(self.input_size,self.hidden_size,self.num_layers,\n",
        "                        dropout=self.drop,bidirectional=self.bidirectional,\n",
        "                        batch_first=True)\n",
        "\n",
        "  def forward(self, data):\n",
        "    outputs, (hidden, cell) = self.lstm(data)\n",
        "    return hidden, cell;\n",
        "\n",
        "\n",
        "class Decoder(nn.Module):\n",
        "  def __init__(self,input_size,hidden_size,num_dir,num_enc_lay,output_size):    \n",
        "    super(Decoder,self).__init__()\n",
        "    self.input_size = input_size\n",
        "    self.hidden_size = hidden_size*num_dir*num_enc_lay\n",
        "    self.output_size = output_size\n",
        "\n",
        "    self.lstmcell = nn.LSTMCell(self.input_size,self.hidden_size)\n",
        "    self.fc = nn.Linear(self.hidden_size,self.output_size)\n",
        "\n",
        "  def forward(self, x, hidden, cell):\n",
        "    hidden, cell = self.lstmcell(x, (hidden, cell))\n",
        "    out = self.fc(hidden)\n",
        "    return out, hidden\n",
        "\n",
        "\n",
        "class EncoderDecoderWrapper(nn.Module):\n",
        "  def __init__(self, encoder, decoder, steps, output_size):\n",
        "    super(EncoderDecoderWrapper,self).__init__()\n",
        "    self.output_size = output_size\n",
        "    self.steps = steps\n",
        "\n",
        "    self.encoder = encoder\n",
        "    self.decoder = decoder\n",
        "\n",
        "  def forward(self, data, label, teacher_force):\n",
        "    batch_size = data.shape[0]\n",
        "    num_steps = self.steps\n",
        "\n",
        "    hidden, cell = self.encoder(data)\n",
        "    hidden_size = hidden.shape[0]*hidden.shape[2]\n",
        "\n",
        "    hidden = hidden.permute(1,0,2).reshape(batch_size,hidden_size)\n",
        "    cell = cell.permute(1,0,2).reshape(batch_size,hidden_size)\n",
        "\n",
        "    multi_step_out = torch.zeros(batch_size, num_steps, self.output_size).to(DEVICE)\n",
        "    x = label[:,-1,:].view(batch_size,self.output_size)\n",
        "\n",
        "    for t in range(num_steps):\n",
        "      out, hidden = self.decoder(x, hidden, cell)\n",
        "      multi_step_out[:,t,:] = out \n",
        "      x = label[:,t,:] if random.random() < teacher_force else out\n",
        "      \n",
        "    return multi_step_out"
      ],
      "execution_count": null,
      "outputs": []
    },
    {
      "cell_type": "code",
      "metadata": {
        "id": "HhjSQeKFTqKT"
      },
      "source": [
        "def NonAttentionModel(INPUT_SIZE=1, HIDDEN_SIZE=30, NUM_LAYERS=1, DROPOUT=0.0, \n",
        "                      DEVICE=torch.device('cpu'), BIDIRECTIONAL=True, \n",
        "                      OUTPUT_SIZE=1, STEPS=1, NUM_DIR=1):\n",
        "  encoder = Encoder(input_size=INPUT_SIZE,\n",
        "                  hidden_size=HIDDEN_SIZE,\n",
        "                  num_layers=NUM_LAYERS,\n",
        "                  bidirectional=BIDIRECTIONAL,\n",
        "                  dropout=DROPOUT).to(DEVICE)\n",
        "\n",
        "  decoder = Decoder(input_size=INPUT_SIZE,\n",
        "                  hidden_size=HIDDEN_SIZE,\n",
        "                  num_enc_lay=NUM_LAYERS,\n",
        "                  num_dir=NUM_DIR,\n",
        "                  output_size=OUTPUT_SIZE).to(DEVICE)\n",
        "\n",
        "  net = EncoderDecoderWrapper(encoder = encoder,\n",
        "                             decoder = decoder,\n",
        "                             output_size = OUTPUT_SIZE,\n",
        "                             steps = STEPS).to(DEVICE)\n",
        "  return net"
      ],
      "execution_count": null,
      "outputs": []
    },
    {
      "cell_type": "code",
      "metadata": {
        "id": "VEykByj4p8SF",
        "colab": {
          "base_uri": "https://localhost:8080/"
        },
        "outputId": "ceb23e34-2962-49a9-8695-a79b507c143b"
      },
      "source": [
        "INPUT_SIZE = ds.shape[1]\n",
        "OUTPUT_SIZE = ds.shape[1]\n",
        "HIDDEN_SIZE = 120\n",
        "STEPS = future\n",
        "NUM_LAYERS = 5\n",
        "DROPOUT = 0.0\n",
        "BIDIRECTIONAL = True\n",
        "NUM_DIR = 2 if BIDIRECTIONAL == True else 1\n",
        "\n",
        "net = NonAttentionModel(INPUT_SIZE=INPUT_SIZE, HIDDEN_SIZE=HIDDEN_SIZE, \n",
        "                         NUM_LAYERS=NUM_LAYERS, DROPOUT=DROPOUT, \n",
        "                         DEVICE=DEVICE, BIDIRECTIONAL=BIDIRECTIONAL, \n",
        "                         OUTPUT_SIZE=OUTPUT_SIZE, STEPS=STEPS, NUM_DIR=NUM_DIR)\n",
        "\n",
        "print(net)"
      ],
      "execution_count": null,
      "outputs": [
        {
          "output_type": "stream",
          "text": [
            "EncoderDecoderWrapper(\n",
            "  (encoder): Encoder(\n",
            "    (lstm): LSTM(36, 120, num_layers=5, batch_first=True, bidirectional=True)\n",
            "  )\n",
            "  (decoder): Decoder(\n",
            "    (lstmcell): LSTMCell(36, 1200)\n",
            "    (fc): Linear(in_features=1200, out_features=36, bias=True)\n",
            "  )\n",
            ")\n"
          ],
          "name": "stdout"
        }
      ]
    },
    {
      "cell_type": "code",
      "metadata": {
        "id": "wSoZKYnxHKHA"
      },
      "source": [
        ""
      ],
      "execution_count": null,
      "outputs": []
    },
    {
      "cell_type": "code",
      "metadata": {
        "id": "zW8nbAd2CbDa"
      },
      "source": [
        "loss_function = nn.SmoothL1Loss()\n",
        "optimizer = opt.Adam(net.parameters(),lr=1e-3)\n",
        "scheduler = None #opt.lr_scheduler.StepLR(optimizer,300,0.5)"
      ],
      "execution_count": null,
      "outputs": []
    },
    {
      "cell_type": "markdown",
      "metadata": {
        "id": "9L3gQ2YxTQ_v"
      },
      "source": [
        "## Training"
      ]
    },
    {
      "cell_type": "code",
      "metadata": {
        "id": "40BzRbeDrVTO",
        "colab": {
          "base_uri": "https://localhost:8080/"
        },
        "outputId": "80497df6-42f7-4711-a77a-192a89c14c84"
      },
      "source": [
        "net.train()\n",
        "EPOCH = 2500\n",
        "TEACHER_FORCE_RATIO = 0.5\n",
        "lossx = [i for i in range(EPOCH)]\n",
        "testx= [i for i in range(EPOCH)]\n",
        "lossy,testy= [],[]\n",
        "for epoch in range(EPOCH):\n",
        "    cumloss=0\n",
        "    testloss=0\n",
        "\n",
        "    net.zero_grad()\n",
        "    optimizer.zero_grad()\n",
        "    \n",
        "    out = net(X_train, y_train, TEACHER_FORCE_RATIO)\n",
        "    \n",
        "    loss=loss_function(out, y_train)\n",
        "    loss.backward()\n",
        "    mape_train = mean_absolute_percentage_error(out.to('cpu').detach().numpy(),y_train.to('cpu').detach().numpy())\n",
        "\n",
        "    nn.utils.clip_grad_value_(net.parameters(), clip_value=1.0)\n",
        "    optimizer.step()\n",
        "    if scheduler is not None:\n",
        "        scheduler.step()\n",
        "    \n",
        "    cumloss += float(loss.data)\n",
        "    lossy.append(cumloss)\n",
        "    net.eval()\n",
        "    with torch.no_grad():\n",
        "        out_test = net(X_test,y_test,TEACHER_FORCE_RATIO)\n",
        "        loss_test = loss_function(out_test, y_test)\n",
        "        testloss += float(loss_test.data)\n",
        "        mape_test = mean_absolute_percentage_error(out_test.to('cpu').detach().numpy(),y_test.to('cpu').detach().numpy())\n",
        "        testy.append(testloss)\n",
        "    net.train()\n",
        "\n",
        "    if (epoch+1) % 100 == 0:\n",
        "        print('Epoch:', epoch+1,'/', EPOCH, '| Training Loss:', cumloss, '| Test Loss:', testloss)\n",
        "        print('MAPE: (a) Train:', mape_train,' (b) Test:', mape_test )"
      ],
      "execution_count": null,
      "outputs": [
        {
          "output_type": "stream",
          "text": [
            "Epoch: 100 / 2500 | Training Loss: 0.0012887087650597095 | Test Loss: 0.0012603671057149768\n",
            "MAPE: (a) Train: 155.33013343811035  (b) Test: 71.55558466911316\n",
            "Epoch: 200 / 2500 | Training Loss: 0.0005866803112439811 | Test Loss: 0.0006002028239890933\n",
            "MAPE: (a) Train: 38.04081678390503  (b) Test: 30.94278872013092\n",
            "Epoch: 300 / 2500 | Training Loss: 0.0004011084674857557 | Test Loss: 0.0004197547386866063\n",
            "MAPE: (a) Train: 49.286872148513794  (b) Test: 61.42491698265076\n",
            "Epoch: 400 / 2500 | Training Loss: 0.0003903779434040189 | Test Loss: 0.0004587697039823979\n",
            "MAPE: (a) Train: 56.115370988845825  (b) Test: 22.86083549261093\n",
            "Epoch: 500 / 2500 | Training Loss: 0.0002466956211719662 | Test Loss: 0.0002715804148465395\n",
            "MAPE: (a) Train: 24.272683262825012  (b) Test: 39.48016166687012\n",
            "Epoch: 600 / 2500 | Training Loss: 0.0002415055496385321 | Test Loss: 0.0002624623302835971\n",
            "MAPE: (a) Train: 21.70998305082321  (b) Test: 38.55355381965637\n",
            "Epoch: 700 / 2500 | Training Loss: 0.0002061802224488929 | Test Loss: 0.0002512980136089027\n",
            "MAPE: (a) Train: 18.937939405441284  (b) Test: 21.30347490310669\n",
            "Epoch: 800 / 2500 | Training Loss: 0.00018770733731798828 | Test Loss: 0.00022810038353782147\n",
            "MAPE: (a) Train: 22.807182371616364  (b) Test: 22.279545664787292\n",
            "Epoch: 900 / 2500 | Training Loss: 0.0001730877993395552 | Test Loss: 0.00022377021377906203\n",
            "MAPE: (a) Train: 17.356064915657043  (b) Test: 31.628358364105225\n",
            "Epoch: 1000 / 2500 | Training Loss: 0.0001251742651220411 | Test Loss: 0.0001988315343623981\n",
            "MAPE: (a) Train: 16.491712629795074  (b) Test: 19.352900981903076\n",
            "Epoch: 1100 / 2500 | Training Loss: 9.935566049534827e-05 | Test Loss: 0.00017534117796458304\n",
            "MAPE: (a) Train: 15.727189183235168  (b) Test: 18.781787157058716\n",
            "Epoch: 1200 / 2500 | Training Loss: 0.00010938544437522069 | Test Loss: 0.0002133428497472778\n",
            "MAPE: (a) Train: 25.893348455429077  (b) Test: 21.65750563144684\n",
            "Epoch: 1300 / 2500 | Training Loss: 6.990247493376955e-05 | Test Loss: 0.00016526338004041463\n",
            "MAPE: (a) Train: 16.25409871339798  (b) Test: 33.96120369434357\n",
            "Epoch: 1400 / 2500 | Training Loss: 0.00023200386203825474 | Test Loss: 0.0003237202763557434\n",
            "MAPE: (a) Train: 43.155163526535034  (b) Test: 53.07343006134033\n",
            "Epoch: 1500 / 2500 | Training Loss: 9.1023430286441e-05 | Test Loss: 0.0001725117617752403\n",
            "MAPE: (a) Train: 13.966041803359985  (b) Test: 17.59163737297058\n",
            "Epoch: 1600 / 2500 | Training Loss: 6.751406181138009e-05 | Test Loss: 0.0001691441284492612\n",
            "MAPE: (a) Train: 17.086365818977356  (b) Test: 15.612147748470306\n",
            "Epoch: 1700 / 2500 | Training Loss: 8.631445962237194e-05 | Test Loss: 0.00017354718875139952\n",
            "MAPE: (a) Train: 15.701039135456085  (b) Test: 14.140507578849792\n",
            "Epoch: 1800 / 2500 | Training Loss: 4.7319161240011454e-05 | Test Loss: 0.00014623408787883818\n",
            "MAPE: (a) Train: 17.3389732837677  (b) Test: 26.729530096054077\n",
            "Epoch: 1900 / 2500 | Training Loss: 3.922547330148518e-05 | Test Loss: 0.0001377006556140259\n",
            "MAPE: (a) Train: 16.436806321144104  (b) Test: 19.600096344947815\n",
            "Epoch: 2000 / 2500 | Training Loss: 0.0005921504343859851 | Test Loss: 0.0007449318654835224\n",
            "MAPE: (a) Train: 63.50530385971069  (b) Test: 79.99091148376465\n",
            "Epoch: 2100 / 2500 | Training Loss: 7.172776531660929e-05 | Test Loss: 0.00016158308426383883\n",
            "MAPE: (a) Train: 15.45163094997406  (b) Test: 15.914565324783325\n",
            "Epoch: 2200 / 2500 | Training Loss: 4.2255287553416565e-05 | Test Loss: 0.0001727858034428209\n",
            "MAPE: (a) Train: 54.08601760864258  (b) Test: 15.151533484458923\n",
            "Epoch: 2300 / 2500 | Training Loss: 9.067467908607796e-05 | Test Loss: 0.0001967124262591824\n",
            "MAPE: (a) Train: 29.277348518371582  (b) Test: 37.30182945728302\n",
            "Epoch: 2400 / 2500 | Training Loss: 2.7593237973633222e-05 | Test Loss: 0.00013213120109867305\n",
            "MAPE: (a) Train: 15.36046713590622  (b) Test: 19.61386799812317\n",
            "Epoch: 2500 / 2500 | Training Loss: 2.5068657123483717e-05 | Test Loss: 0.00013536171172745526\n",
            "MAPE: (a) Train: 13.315457105636597  (b) Test: 16.512329876422882\n"
          ],
          "name": "stdout"
        }
      ]
    },
    {
      "cell_type": "markdown",
      "metadata": {
        "id": "oxQxgtt8DfTd"
      },
      "source": [
        "## Loss Plots"
      ]
    },
    {
      "cell_type": "code",
      "metadata": {
        "colab": {
          "base_uri": "https://localhost:8080/"
        },
        "id": "2MG6i2pLDfT5",
        "outputId": "982d8f76-5697-40d6-ab22-a252d41c0b88"
      },
      "source": [
        "import matplotlib.pyplot as plt\n",
        "\n",
        "plt.plot(lossx,lossy,'r',label = 'Train')\n",
        "plt.plot(testx,testy,'b',label = 'Test')\n",
        "plt.legend()\n",
        "plt.show"
      ],
      "execution_count": null,
      "outputs": [
        {
          "output_type": "execute_result",
          "data": {
            "text/plain": [
              "<function matplotlib.pyplot.show>"
            ]
          },
          "metadata": {
            "tags": []
          },
          "execution_count": 43
        },
        {
          "output_type": "display_data",
          "data": {
            "image/png": "[encoded data removed]",
            "text/plain": [
              "<Figure size 432x288 with 1 Axes>"
            ]
          },
          "metadata": {
            "tags": [],
            "needs_background": "light"
          }
        }
      ]
    },
    {
      "cell_type": "code",
      "metadata": {
        "colab": {
          "base_uri": "https://localhost:8080/"
        },
        "id": "xPKEdrHNDfT8",
        "outputId": "7984379a-8381-412a-8474-0c7d1af53816"
      },
      "source": [
        "import matplotlib.pyplot as plt\n",
        "\n",
        "plt.plot(lossx[-50:],lossy[-50:],'r',label = 'Train')\n",
        "plt.plot(testx[-50:],testy[-50:],'b',label = 'Test')\n",
        "plt.legend()\n",
        "plt.show"
      ],
      "execution_count": null,
      "outputs": [
        {
          "output_type": "execute_result",
          "data": {
            "text/plain": [
              "<function matplotlib.pyplot.show>"
            ]
          },
          "metadata": {
            "tags": []
          },
          "execution_count": 44
        },
        {
          "output_type": "display_data",
          "data": {
            "image/png": "[encoded data removed]",
            "text/plain": [
              "<Figure size 432x288 with 1 Axes>"
            ]
          },
          "metadata": {
            "tags": [],
            "needs_background": "light"
          }
        }
      ]
    },
    {
      "cell_type": "markdown",
      "metadata": {
        "id": "ow_uLMDWDfT-"
      },
      "source": [
        "## Baseline Loss"
      ]
    },
    {
      "cell_type": "code",
      "metadata": {
        "colab": {
          "base_uri": "https://localhost:8080/"
        },
        "id": "McmJrX2qDfT_",
        "outputId": "6547e11d-7236-42bf-c5a5-995a2ac3ffdf"
      },
      "source": [
        "net.eval()\n",
        "with torch.no_grad():\n",
        "  out = net(X_test, y_test, 0.5)\n",
        "  loss_val = loss_function(out, y_test)\n",
        "  print('Loss on Test: ',loss_val)"
      ],
      "execution_count": null,
      "outputs": [
        {
          "output_type": "stream",
          "text": [
            "Loss on Test:  tensor(0.0001, device='cuda:0')\n"
          ],
          "name": "stdout"
        }
      ]
    },
    {
      "cell_type": "code",
      "metadata": {
        "colab": {
          "base_uri": "https://localhost:8080/"
        },
        "id": "k_IbEl0VDfUA",
        "outputId": "899d7c02-abe2-4afd-a3d0-42cd1eb967f5"
      },
      "source": [
        "mean_absolute_percentage_error(out.to('cpu').detach().numpy(),y_test.to('cpu').detach().numpy())"
      ],
      "execution_count": null,
      "outputs": [
        {
          "output_type": "execute_result",
          "data": {
            "text/plain": [
              "22.12371528148651"
            ]
          },
          "metadata": {
            "tags": []
          },
          "execution_count": 46
        }
      ]
    },
    {
      "cell_type": "code",
      "metadata": {
        "colab": {
          "base_uri": "https://localhost:8080/"
        },
        "id": "jYv9CqENDfUE",
        "outputId": "ee4f9627-0aa4-46cb-a27d-c60845d4daf4"
      },
      "source": [
        "net.eval()\n",
        "with torch.no_grad():\n",
        "  out1 = net(X_train, y_train, TEACHER_FORCE_RATIO)\n",
        "  loss_val1 = loss_function(out1, y_train)\n",
        "  print('Loss on Train: ',loss_val1)"
      ],
      "execution_count": null,
      "outputs": [
        {
          "output_type": "stream",
          "text": [
            "Loss on Train:  tensor(2.4958e-05, device='cuda:0')\n"
          ],
          "name": "stdout"
        }
      ]
    },
    {
      "cell_type": "code",
      "metadata": {
        "colab": {
          "base_uri": "https://localhost:8080/"
        },
        "id": "4bckGqm3DfUG",
        "outputId": "ece00b65-4450-4e8d-dfb4-90f832403338"
      },
      "source": [
        "mean_absolute_percentage_error(out1.to('cpu').detach().numpy(),y_train.to('cpu').detach().numpy())"
      ],
      "execution_count": null,
      "outputs": [
        {
          "output_type": "execute_result",
          "data": {
            "text/plain": [
              "19.97569054365158"
            ]
          },
          "metadata": {
            "tags": []
          },
          "execution_count": 48
        }
      ]
    },
    {
      "cell_type": "code",
      "metadata": {
        "colab": {
          "base_uri": "https://localhost:8080/"
        },
        "id": "qq7ODj0pDfUH",
        "outputId": "7256c3e4-eb5c-42d2-f787-3f9333b8ba29"
      },
      "source": [
        "net.eval()\n",
        "with torch.no_grad():\n",
        "  out_complete = net(torch.from_numpy(X_ds.astype('float32')).to(DEVICE), torch.from_numpy(y_ds.astype('float32')).to(DEVICE), TEACHER_FORCE_RATIO)\n",
        "  loss_complete = loss_function(out_complete, torch.from_numpy(y_ds.astype('float32')).to(DEVICE))\n",
        "  print('Loss on Complete: ',loss_val)"
      ],
      "execution_count": null,
      "outputs": [
        {
          "output_type": "stream",
          "text": [
            "Loss on Complete:  tensor(0.0001, device='cuda:0')\n"
          ],
          "name": "stdout"
        }
      ]
    },
    {
      "cell_type": "code",
      "metadata": {
        "colab": {
          "base_uri": "https://localhost:8080/"
        },
        "id": "Lu0eSTj1DfUI",
        "outputId": "ea3dbc48-edd1-463e-dcf7-5a5f3c3219b8"
      },
      "source": [
        "mean_absolute_percentage_error(out_complete.to('cpu').detach().numpy(),y_ds)"
      ],
      "execution_count": null,
      "outputs": [
        {
          "output_type": "execute_result",
          "data": {
            "text/plain": [
              "19.247674664185883"
            ]
          },
          "metadata": {
            "tags": []
          },
          "execution_count": 50
        }
      ]
    },
    {
      "cell_type": "code",
      "metadata": {
        "colab": {
          "base_uri": "https://localhost:8080/"
        },
        "id": "LHQMyQikDfUJ",
        "outputId": "c64cecf5-a980-410f-c58d-96fa2cd1fd8b"
      },
      "source": [
        "i = 0                                                         # district number\n",
        "actual = X_ds[:,0,i]\n",
        "pred = out_complete.to('cpu').detach().numpy()[:,0,i]\n",
        "\n",
        "plt.plot(actual,label = 'Actual')\n",
        "plt.plot(pred,label = 'Predicted')\n",
        "plt.legend()\n",
        "plt.title('Time Series plot one district in Complete Set (Scaled)')\n",
        "plt.show"
      ],
      "execution_count": null,
      "outputs": [
        {
          "output_type": "execute_result",
          "data": {
            "text/plain": [
              "<function matplotlib.pyplot.show>"
            ]
          },
          "metadata": {
            "tags": []
          },
          "execution_count": 51
        },
        {
          "output_type": "display_data",
          "data": {
            "image/png": "[encoded data removed]",
            "text/plain": [
              "<Figure size 432x288 with 1 Axes>"
            ]
          },
          "metadata": {
            "tags": [],
            "needs_background": "light"
          }
        }
      ]
    },
    {
      "cell_type": "code",
      "metadata": {
        "colab": {
          "base_uri": "https://localhost:8080/"
        },
        "id": "5Ian88H5DfUK",
        "outputId": "b83083e6-d67e-4482-8d41-fdcfeb59e746"
      },
      "source": [
        "i = 0                                                                            # district number\n",
        "scale = scalers['scaler_'+ str(i)]\n",
        "actual = scale.inverse_transform(X_ds[:,0,i].reshape(-1,1))\n",
        "pred = scale.inverse_transform(out_complete.to('cpu').detach().numpy()[:,0,i].reshape(-1,1))\n",
        "\n",
        "plt.plot(actual,label = 'Actual')\n",
        "plt.plot(pred,label = 'Predicted')\n",
        "plt.legend()\n",
        "plt.title('Time Series plot one district in Complete Set (Unscaled)')\n",
        "plt.show"
      ],
      "execution_count": null,
      "outputs": [
        {
          "output_type": "execute_result",
          "data": {
            "text/plain": [
              "<function matplotlib.pyplot.show>"
            ]
          },
          "metadata": {
            "tags": []
          },
          "execution_count": 52
        },
        {
          "output_type": "display_data",
          "data": {
            "image/png": "[encoded data removed]",
            "text/plain": [
              "<Figure size 432x288 with 1 Axes>"
            ]
          },
          "metadata": {
            "tags": [],
            "needs_background": "light"
          }
        }
      ]
    },
    {
      "cell_type": "markdown",
      "metadata": {
        "id": "i68URmRR8F4h"
      },
      "source": [
        "# Attention Model"
      ]
    },
    {
      "cell_type": "markdown",
      "metadata": {
        "id": "46Vnh97PTHvL"
      },
      "source": [
        "## Model Code"
      ]
    },
    {
      "cell_type": "code",
      "metadata": {
        "id": "gNqI-mOYFO6P"
      },
      "source": [
        "class AttEncoder(nn.Module):\n",
        "  def __init__(self, input_size, hidden_size, num_layers, dropout):\n",
        "    super(AttEncoder,self).__init__()\n",
        "    self.input_size = input_size\n",
        "    self.hidden_size = hidden_size\n",
        "    self.num_layers = num_layers\n",
        "    self.drop = dropout\n",
        "\n",
        "    self.lstm = nn.LSTM(self.input_size,\n",
        "                        self.hidden_size,\n",
        "                        dropout=self.drop,\n",
        "                        bidirectional=True,\n",
        "                        batch_first=True)\n",
        "\n",
        "  def forward(self, data):\n",
        "    outputs, (hidden, cell) = self.lstm(data)\n",
        "    return outputs, hidden, cell;\n",
        "\n",
        "\n",
        "class AttDecoder(nn.Module):\n",
        "  def __init__(self,input_size,hidden_size,output_size):    \n",
        "    super(AttDecoder,self).__init__()\n",
        "    self.input_size = input_size\n",
        "    self.hidden_size = hidden_size \n",
        "    self.output_size = output_size\n",
        "\n",
        "    self.attention = nn.Linear(self.hidden_size*4, 1)\n",
        "    self.softmax = nn.Softmax(dim=0)\n",
        "    self.relu = nn.ReLU()\n",
        "\n",
        "    self.lstmcell = nn.LSTMCell(self.hidden_size*2 + self.output_size,self.hidden_size*2)\n",
        "    self.fc = nn.Linear(self.hidden_size*2,self.output_size)\n",
        "\n",
        "  def forward(self, x, encoder_states, hidden, cell):\n",
        "    seq_length = encoder_states.shape[1]\n",
        "    hidden_reshaped = hidden.repeat(seq_length, 1, 1).permute(1, 0, 2)\n",
        "\n",
        "    energy = self.attention(torch.cat((hidden_reshaped,encoder_states), dim=2))\n",
        "    energy = self.relu(energy)\n",
        "    attention = self.softmax(energy)\n",
        "\n",
        "    attention = attention.permute(0, 2, 1)\n",
        "\n",
        "    context = torch.bmm(attention, encoder_states).permute(1,0,2)\n",
        "    context = context.view(context.shape[1],context.shape[2])\n",
        "\n",
        "    input = torch.cat((context,x),dim=1)\n",
        "    hidden, cell = self.lstmcell(input, (hidden, cell))\n",
        "    out = self.fc(hidden)\n",
        "\n",
        "    return out, hidden\n",
        "\n",
        "\n",
        "class AttEncoderDecoderWrapper(nn.Module):\n",
        "  def __init__(self, encoder, decoder, output_size, steps):\n",
        "    super(AttEncoderDecoderWrapper,self).__init__()\n",
        "    self.output_size = output_size\n",
        "    self.steps = steps\n",
        "\n",
        "    self.encoder = encoder\n",
        "    self.decoder = decoder\n",
        "\n",
        "  def forward(self, data, label, teacher_force):\n",
        "    batch_size = data.shape[0]\n",
        "    num_steps = self.steps\n",
        "\n",
        "    encoder_states, hidden, cell = self.encoder(data)\n",
        "    hidden_size = hidden.shape[0]*hidden.shape[2]\n",
        "\n",
        "    hidden = hidden.permute(1,0,2).reshape(batch_size,hidden_size)\n",
        "    cell = cell.permute(1,0,2).reshape(batch_size,hidden_size)\n",
        "\n",
        "    multi_step_out = torch.zeros(batch_size, num_steps,self.output_size).to(DEVICE)\n",
        "    x = torch.rand(batch_size,self.output_size).to(DEVICE)\n",
        "\n",
        "    for t in range(num_steps):\n",
        "      out, hidden = self.decoder(x, encoder_states, hidden, cell)\n",
        "      multi_step_out[:,t,:] = out \n",
        "      x = label[:,t,:] if random.random() < teacher_force else out\n",
        "      \n",
        "    return multi_step_out\n",
        "  \n",
        "  def predict():\n",
        "    pass"
      ],
      "execution_count": null,
      "outputs": []
    },
    {
      "cell_type": "code",
      "metadata": {
        "id": "13f12MN3Dnw4"
      },
      "source": [
        "def AttentionModel(INPUT_SIZE=1, HIDDEN_SIZE=30, NUM_LAYERS=1, DROPOUT=0.0, \n",
        "                   DEVICE=torch.device('cpu'), OUTPUT_SIZE=1, STEPS=1):\n",
        "  \n",
        "  encoder = AttEncoder(input_size=INPUT_SIZE,\n",
        "                       hidden_size=HIDDEN_SIZE,\n",
        "                       num_layers=NUM_LAYERS,\n",
        "                       dropout=DROPOUT).to(DEVICE)\n",
        "\n",
        "  decoder = AttDecoder(input_size=INPUT_SIZE,\n",
        "                       hidden_size=HIDDEN_SIZE,\n",
        "                       output_size=OUTPUT_SIZE).to(DEVICE)\n",
        "\n",
        "  net = AttEncoderDecoderWrapper(encoder = encoder,\n",
        "                                 decoder = decoder,\n",
        "                                 output_size = OUTPUT_SIZE,\n",
        "                                 steps = STEPS).to(DEVICE)\n",
        "  return net"
      ],
      "execution_count": null,
      "outputs": []
    },
    {
      "cell_type": "code",
      "metadata": {
        "id": "R51miic1qaPC"
      },
      "source": [
        "INPUT_SIZE = ds.shape[1]\n",
        "OUTPUT_SIZE = ds.shape[1]\n",
        "HIDDEN_SIZE = 120\n",
        "STEPS = future\n",
        "NUM_LAYERS = 5\n",
        "DROPOUT = 0.0\n",
        "\n",
        "net = AttentionModel(INPUT_SIZE=INPUT_SIZE, HIDDEN_SIZE=HIDDEN_SIZE,\n",
        "            NUM_LAYERS=NUM_LAYERS, DROPOUT=DROPOUT, \n",
        "            DEVICE=DEVICE, OUTPUT_SIZE=OUTPUT_SIZE,\n",
        "            STEPS=STEPS)\n",
        "\n",
        "print(net)"
      ],
      "execution_count": null,
      "outputs": []
    },
    {
      "cell_type": "code",
      "metadata": {
        "id": "Vvo51wAlDjb-"
      },
      "source": [
        "loss_function = nn.SmoothL1Loss()\n",
        "optimizer = opt.Adam(net.parameters(),lr=1e-4)\n",
        "scheduler = opt.lr_scheduler.StepLR(optimizer,300,0.5)"
      ],
      "execution_count": null,
      "outputs": []
    },
    {
      "cell_type": "markdown",
      "metadata": {
        "id": "YhVnIPiE8J1i"
      },
      "source": [
        "## Training"
      ]
    },
    {
      "cell_type": "code",
      "metadata": {
        "id": "4y7HU_i6vIdX"
      },
      "source": [
        "def mean_absolute_percentage_error(y_true, y_pred):\n",
        "    y_true, y_pred = np.array(y_true), np.array(y_pred)\n",
        "    return np.mean(np.abs((y_true - y_pred) / (y_true + 1e-8))) * 100"
      ],
      "execution_count": null,
      "outputs": []
    },
    {
      "cell_type": "code",
      "metadata": {
        "id": "_06G1tyoqaPF",
        "colab": {
          "base_uri": "https://localhost:8080/"
        },
        "outputId": "4a6ff9c8-ac71-4184-a027-aa3a2d28be6e"
      },
      "source": [
        "net.train()\n",
        "EPOCH = 1500\n",
        "TEACHER_FORCE_RATIO = 0.5\n",
        "lossx = [i for i in range(EPOCH)]\n",
        "testx= [i for i in range(EPOCH)]\n",
        "lossy,testy= [],[]\n",
        "for epoch in range(EPOCH):\n",
        "    cumloss=0\n",
        "    testloss=0\n",
        "\n",
        "    net.zero_grad()\n",
        "    optimizer.zero_grad()\n",
        "    \n",
        "    out = net(X_train, y_train, TEACHER_FORCE_RATIO)\n",
        "    \n",
        "    loss=loss_function(out, y_train)\n",
        "    loss.backward()\n",
        "    mape_train = mean_absolute_percentage_error(out.to('cpu').detach().numpy(),y_train.to('cpu').detach().numpy())\n",
        "\n",
        "    nn.utils.clip_grad_value_(net.parameters(), clip_value=1.0)\n",
        "    optimizer.step()\n",
        "    scheduler.step()\n",
        "    \n",
        "    cumloss += float(loss.data)\n",
        "    lossy.append(cumloss)\n",
        "    net.eval()\n",
        "    with torch.no_grad():\n",
        "        out_test = net(X_test,y_test,TEACHER_FORCE_RATIO)\n",
        "        loss_test = loss_function(out_test, y_test)\n",
        "        testloss += float(loss_test.data)\n",
        "        mape_test = mean_absolute_percentage_error(out_test.to('cpu').detach().numpy(),y_test.to('cpu').detach().numpy())\n",
        "        testy.append(testloss)\n",
        "    net.train()\n",
        "\n",
        "    if (epoch+1) % 100 == 0:\n",
        "        print('Epoch:', epoch+1,'/', EPOCH, '| Training Loss:', cumloss, '| Test Loss:', testloss)\n",
        "        print('MAPE: (a) Train:', mape_train,' (b) Test:', mape_test )"
      ],
      "execution_count": null,
      "outputs": [
        {
          "output_type": "stream",
          "text": [
            "Epoch: 100 / 1500 | Training Loss: 0.010509314946830273 | Test Loss: 0.011776355095207691\n",
            "MAPE: (a) Train: 61.50023341178894  (b) Test: 51.56714916229248\n",
            "Epoch: 200 / 1500 | Training Loss: 0.00430516991764307 | Test Loss: 0.00530994450673461\n",
            "MAPE: (a) Train: 44.83952820301056  (b) Test: 39.76476490497589\n",
            "Epoch: 300 / 1500 | Training Loss: 0.0025350330397486687 | Test Loss: 0.003933407366275787\n",
            "MAPE: (a) Train: 79.12338376045227  (b) Test: 132.82325267791748\n",
            "Epoch: 400 / 1500 | Training Loss: 0.0021190280094742775 | Test Loss: 0.003630787367001176\n",
            "MAPE: (a) Train: 60.261768102645874  (b) Test: 53.18670868873596\n",
            "Epoch: 500 / 1500 | Training Loss: 0.0017913818592205644 | Test Loss: 0.0034226200077682734\n",
            "MAPE: (a) Train: 78.33452224731445  (b) Test: 57.53931403160095\n",
            "Epoch: 600 / 1500 | Training Loss: 0.0015094480477273464 | Test Loss: 0.003317669965326786\n",
            "MAPE: (a) Train: 214.13865089416504  (b) Test: 87.1938943862915\n",
            "Epoch: 700 / 1500 | Training Loss: 0.0014124871231615543 | Test Loss: 0.0033377925865352154\n",
            "MAPE: (a) Train: 59.225523471832275  (b) Test: 146.2669849395752\n",
            "Epoch: 800 / 1500 | Training Loss: 0.0012931318487972021 | Test Loss: 0.0033498345874249935\n",
            "MAPE: (a) Train: 51.3894259929657  (b) Test: 73.75767827033997\n",
            "Epoch: 900 / 1500 | Training Loss: 0.0011778358602896333 | Test Loss: 0.003438396379351616\n",
            "MAPE: (a) Train: 64.50175642967224  (b) Test: 63.67347836494446\n",
            "Epoch: 1000 / 1500 | Training Loss: 0.0011333944275975227 | Test Loss: 0.0034821091685444117\n",
            "MAPE: (a) Train: 126.02777481079102  (b) Test: 76.90039873123169\n",
            "Epoch: 1100 / 1500 | Training Loss: 0.00109066441655159 | Test Loss: 0.0033849934116005898\n",
            "MAPE: (a) Train: 251.98681354522705  (b) Test: 202.05013751983643\n",
            "Epoch: 1200 / 1500 | Training Loss: 0.0010461776982992887 | Test Loss: 0.0035044525284320116\n",
            "MAPE: (a) Train: 86.36394739151001  (b) Test: 242.91534423828125\n",
            "Epoch: 1300 / 1500 | Training Loss: 0.0010247793979942799 | Test Loss: 0.00357049354352057\n",
            "MAPE: (a) Train: 101.6325831413269  (b) Test: 88.61550688743591\n",
            "Epoch: 1400 / 1500 | Training Loss: 0.0010099182836711407 | Test Loss: 0.0036123027093708515\n",
            "MAPE: (a) Train: 83.74276161193848  (b) Test: 119.34323310852051\n",
            "Epoch: 1500 / 1500 | Training Loss: 0.000986016122624278 | Test Loss: 0.0035725957714021206\n",
            "MAPE: (a) Train: 137.3875617980957  (b) Test: 76.57819986343384\n"
          ],
          "name": "stdout"
        }
      ]
    },
    {
      "cell_type": "markdown",
      "metadata": {
        "id": "A3yazXmT8MCe"
      },
      "source": [
        "## Loss Plots"
      ]
    },
    {
      "cell_type": "code",
      "metadata": {
        "id": "qr6RSeqgqaPH",
        "colab": {
          "base_uri": "https://localhost:8080/",
          "height": 282
        },
        "outputId": "49ddfd83-06c2-4c3b-9a4c-694c45358995"
      },
      "source": [
        "import matplotlib.pyplot as plt\n",
        "\n",
        "plt.plot(lossx,lossy,'r',label = 'Train')\n",
        "plt.plot(testx,testy,'b',label = 'Test')\n",
        "plt.legend()\n",
        "plt.show"
      ],
      "execution_count": null,
      "outputs": [
        {
          "output_type": "execute_result",
          "data": {
            "text/plain": [
              "<function matplotlib.pyplot.show>"
            ]
          },
          "metadata": {
            "tags": []
          },
          "execution_count": 37
        },
        {
          "output_type": "display_data",
          "data": {
            "image/png": "[encoded data removed]",
            "text/plain": [
              "<Figure size 432x288 with 1 Axes>"
            ]
          },
          "metadata": {
            "tags": [],
            "needs_background": "light"
          }
        }
      ]
    },
    {
      "cell_type": "code",
      "metadata": {
        "id": "xI3Q3Midh81E",
        "colab": {
          "base_uri": "https://localhost:8080/",
          "height": 282
        },
        "outputId": "eba0650a-280b-425a-a404-03c6c887c580"
      },
      "source": [
        "import matplotlib.pyplot as plt\n",
        "\n",
        "plt.plot(lossx[-50:],lossy[-50:],'r',label = 'Train')\n",
        "plt.plot(testx[-50:],testy[-50:],'b',label = 'Test')\n",
        "plt.legend()\n",
        "plt.show"
      ],
      "execution_count": null,
      "outputs": [
        {
          "output_type": "execute_result",
          "data": {
            "text/plain": [
              "<function matplotlib.pyplot.show>"
            ]
          },
          "metadata": {
            "tags": []
          },
          "execution_count": 38
        },
        {
          "output_type": "display_data",
          "data": {
            "image/png": "[encoded data removed]",
            "text/plain": [
              "<Figure size 432x288 with 1 Axes>"
            ]
          },
          "metadata": {
            "tags": [],
            "needs_background": "light"
          }
        }
      ]
    },
    {
      "cell_type": "markdown",
      "metadata": {
        "id": "ImeHY0ni8PCp"
      },
      "source": [
        "## Baseline Loss"
      ]
    },
    {
      "cell_type": "code",
      "metadata": {
        "id": "JyJMYucNqaPI",
        "colab": {
          "base_uri": "https://localhost:8080/"
        },
        "outputId": "91720f21-6a98-4f6d-d16e-124253af6b8d"
      },
      "source": [
        "net.eval()\n",
        "with torch.no_grad():\n",
        "  out = net(X_test, y_test, 0.5)\n",
        "  loss_val = loss_function(out, y_test)\n",
        "  print('Loss on Test: ',loss_val)"
      ],
      "execution_count": null,
      "outputs": [
        {
          "output_type": "stream",
          "text": [
            "Loss on Test:  tensor(0.0037, device='cuda:0')\n"
          ],
          "name": "stdout"
        }
      ]
    },
    {
      "cell_type": "code",
      "metadata": {
        "colab": {
          "base_uri": "https://localhost:8080/"
        },
        "id": "dnzd5wKtE7XG",
        "outputId": "31240e0a-3f79-4f7b-cab5-cefc72477590"
      },
      "source": [
        "mean_absolute_percentage_error(out.to('cpu').detach().numpy(),y_test.to('cpu').detach().numpy())"
      ],
      "execution_count": null,
      "outputs": [
        {
          "output_type": "execute_result",
          "data": {
            "text/plain": [
              "98.83033633232117"
            ]
          },
          "metadata": {
            "tags": []
          },
          "execution_count": 40
        }
      ]
    },
    {
      "cell_type": "code",
      "metadata": {
        "colab": {
          "base_uri": "https://localhost:8080/"
        },
        "id": "bGmkOgYzE_U8",
        "outputId": "109d13eb-f9d5-4810-e8ba-35dd032fc80a"
      },
      "source": [
        "net.eval()\n",
        "with torch.no_grad():\n",
        "  out1 = net(X_train, y_train, TEACHER_FORCE_RATIO)\n",
        "  loss_val1 = loss_function(out1, y_train)\n",
        "  print('Loss on Train: ',loss_val1)"
      ],
      "execution_count": null,
      "outputs": [
        {
          "output_type": "stream",
          "text": [
            "Loss on Train:  tensor(0.0010, device='cuda:0')\n"
          ],
          "name": "stdout"
        }
      ]
    },
    {
      "cell_type": "code",
      "metadata": {
        "colab": {
          "base_uri": "https://localhost:8080/"
        },
        "id": "rHoCV17JIOcj",
        "outputId": "ec146ef9-5558-437d-ae70-7516881a507f"
      },
      "source": [
        "mean_absolute_percentage_error(out1.to('cpu').detach().numpy(),y_train.to('cpu').detach().numpy())"
      ],
      "execution_count": null,
      "outputs": [
        {
          "output_type": "execute_result",
          "data": {
            "text/plain": [
              "81.95444941520691"
            ]
          },
          "metadata": {
            "tags": []
          },
          "execution_count": 42
        }
      ]
    },
    {
      "cell_type": "code",
      "metadata": {
        "colab": {
          "base_uri": "https://localhost:8080/"
        },
        "id": "hiNQoICFnrTd",
        "outputId": "27194406-c35a-422b-f2c3-86d3938f0adc"
      },
      "source": [
        "net.eval()\n",
        "with torch.no_grad():\n",
        "  out_complete = net(torch.from_numpy(X_ds.astype('float32')).to(DEVICE), torch.from_numpy(y_ds.astype('float32')).to(DEVICE), TEACHER_FORCE_RATIO)\n",
        "  loss_complete = loss_function(out_complete, torch.from_numpy(y_ds.astype('float32')).to(DEVICE))\n",
        "  print('Loss on Complete: ',loss_val)"
      ],
      "execution_count": null,
      "outputs": [
        {
          "output_type": "stream",
          "text": [
            "Loss on Complete:  tensor(0.0037, device='cuda:0')\n"
          ],
          "name": "stdout"
        }
      ]
    },
    {
      "cell_type": "code",
      "metadata": {
        "colab": {
          "base_uri": "https://localhost:8080/"
        },
        "id": "43pJTdvmtI0r",
        "outputId": "2515b851-d7e2-4717-d78a-f4d6182afc63"
      },
      "source": [
        "mean_absolute_percentage_error(out_complete.to('cpu').detach().numpy(),y_ds)"
      ],
      "execution_count": null,
      "outputs": [
        {
          "output_type": "execute_result",
          "data": {
            "text/plain": [
              "734.0443223773771"
            ]
          },
          "metadata": {
            "tags": []
          },
          "execution_count": 44
        }
      ]
    },
    {
      "cell_type": "code",
      "metadata": {
        "id": "F0a1uD0TISDx",
        "colab": {
          "base_uri": "https://localhost:8080/",
          "height": 298
        },
        "outputId": "da09dd85-71ee-44af-a00e-039108c88833"
      },
      "source": [
        "i = 0                                                         # district number\n",
        "actual = X_ds[:,0,i]\n",
        "pred = out_complete.to('cpu').detach().numpy()[:,0,i]\n",
        "\n",
        "plt.plot(actual,label = 'Actual')\n",
        "plt.plot(pred,label = 'Predicted')\n",
        "plt.legend()\n",
        "plt.title('Time Series plot one district in Complete Set (Scaled)')\n",
        "plt.show"
      ],
      "execution_count": null,
      "outputs": [
        {
          "output_type": "execute_result",
          "data": {
            "text/plain": [
              "<function matplotlib.pyplot.show>"
            ]
          },
          "metadata": {
            "tags": []
          },
          "execution_count": 45
        },
        {
          "output_type": "display_data",
          "data": {
            "image/png": "[encoded data removed]",
            "text/plain": [
              "<Figure size 432x288 with 1 Axes>"
            ]
          },
          "metadata": {
            "tags": [],
            "needs_background": "light"
          }
        }
      ]
    },
    {
      "cell_type": "code",
      "metadata": {
        "colab": {
          "base_uri": "https://localhost:8080/",
          "height": 298
        },
        "id": "JPd9ySpFcwET",
        "outputId": "fad88f97-53d2-4091-c040-dea2204535af"
      },
      "source": [
        "i = 0                                                                            # district number\n",
        "scale = scalers['scaler_'+ str(i)]\n",
        "actual = scale.inverse_transform(X_ds[:,0,i].reshape(-1,1))\n",
        "pred = scale.inverse_transform(out_complete.to('cpu').detach().numpy()[:,0,i].reshape(-1,1))\n",
        "\n",
        "plt.plot(actual,label = 'Actual')\n",
        "plt.plot(pred,label = 'Predicted')\n",
        "plt.legend()\n",
        "plt.title('Time Series plot one district in Complete Set (Unscaled)')\n",
        "plt.show"
      ],
      "execution_count": null,
      "outputs": [
        {
          "output_type": "execute_result",
          "data": {
            "text/plain": [
              "<function matplotlib.pyplot.show>"
            ]
          },
          "metadata": {
            "tags": []
          },
          "execution_count": 46
        },
        {
          "output_type": "display_data",
          "data": {
            "image/png": "[encoded data removed]",
            "text/plain": [
              "<Figure size 432x288 with 1 Axes>"
            ]
          },
          "metadata": {
            "tags": [],
            "needs_background": "light"
          }
        }
      ]
    }
  ]
}